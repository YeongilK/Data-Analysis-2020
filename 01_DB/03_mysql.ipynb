{
 "metadata": {
  "language_info": {
   "codemirror_mode": {
    "name": "ipython",
    "version": 3
   },
   "file_extension": ".py",
   "mimetype": "text/x-python",
   "name": "python",
   "nbconvert_exporter": "python",
   "pygments_lexer": "ipython3",
   "version": "3.8.3-final"
  },
  "orig_nbformat": 2,
  "kernelspec": {
   "name": "Python 3.8.3 64-bit ('base': conda)",
   "display_name": "Python 3.8.3 64-bit ('base': conda)",
   "metadata": {
    "interpreter": {
     "hash": "b3ba2566441a7c06988d0923437866b63cedc61552a5af99d1f4fb67d367b25f"
    }
   }
  }
 },
 "nbformat": 4,
 "nbformat_minor": 2,
 "cells": [
  {
   "cell_type": "markdown",
   "metadata": {},
   "source": [
    "# MySQL"
   ]
  },
  {
   "cell_type": "code",
   "execution_count": 10,
   "metadata": {},
   "outputs": [],
   "source": [
    "import json\n",
    "with open('mysql.json', 'r') as file:\n",
    "    config_str = file.read()\n",
    "config = json.loads(config_str)"
   ]
  },
  {
   "cell_type": "code",
   "execution_count": 11,
   "metadata": {},
   "outputs": [
    {
     "output_type": "execute_result",
     "data": {
      "text/plain": [
       "{'host': 'localhost',\n",
       " 'user': 'hsuser',\n",
       " 'password': 'hspass',\n",
       " 'database': 'bbs_python',\n",
       " 'port': 3306}"
      ]
     },
     "metadata": {},
     "execution_count": 11
    }
   ],
   "source": [
    "config"
   ]
  },
  {
   "cell_type": "code",
   "execution_count": 12,
   "metadata": {},
   "outputs": [],
   "source": [
    "import pymysql\n",
    "conn = pymysql.connect(\n",
    "    host = config['host'],\n",
    "    user = config['user'],\n",
    "    password = config['password'],\n",
    "    database = config['database'],\n",
    "    port = config['port']\n",
    ")"
   ]
  },
  {
   "cell_type": "code",
   "execution_count": 13,
   "metadata": {},
   "outputs": [
    {
     "output_type": "stream",
     "name": "stdout",
     "text": [
      "('aaa', 'guest1', '2020-11-06')\n('admin', '관리자', '2020-11-06')\n('bbb', 'guest2', '2020-11-06')\n('ccc', 'guest3', '2020-11-06')\n('choi', '최강현', '2020-11-06')\n('ddd', 'guest4', '2020-11-06')\n('eee', 'guest5', '2020-11-06')\n('lee', '이근', '2020-11-06')\n('park', '박주영', '2020-11-06')\n"
     ]
    }
   ],
   "source": [
    "cur = conn.cursor()\n",
    "sql = \"\"\"SELECT uid, uname, DATE_FORMAT(regDate, '%Y-%m-%d') AS regDate\n",
    "            FROM users WHERE isDeleted=0;\"\"\"\n",
    "cur.execute(sql)\n",
    "rows = cur.fetchall()\n",
    "for row in rows:\n",
    "    print(row)"
   ]
  },
  {
   "cell_type": "code",
   "execution_count": 14,
   "metadata": {},
   "outputs": [
    {
     "output_type": "stream",
     "name": "stdout",
     "text": [
      "{'uid': 'aaa', 'uname': 'guest1', 'regDate': '2020-11-06'}\n{'uid': 'admin', 'uname': '관리자', 'regDate': '2020-11-06'}\n{'uid': 'bbb', 'uname': 'guest2', 'regDate': '2020-11-06'}\n{'uid': 'ccc', 'uname': 'guest3', 'regDate': '2020-11-06'}\n{'uid': 'choi', 'uname': '최강현', 'regDate': '2020-11-06'}\n{'uid': 'ddd', 'uname': 'guest4', 'regDate': '2020-11-06'}\n{'uid': 'eee', 'uname': 'guest5', 'regDate': '2020-11-06'}\n{'uid': 'lee', 'uname': '이근', 'regDate': '2020-11-06'}\n{'uid': 'park', 'uname': '박주영', 'regDate': '2020-11-06'}\n"
     ]
    }
   ],
   "source": [
    "# 딕셔너리로 출력\n",
    "cur = conn.cursor(pymysql.cursors.DictCursor)\n",
    "sql = \"\"\"SELECT uid, uname, DATE_FORMAT(regDate, '%Y-%m-%d') AS regDate\n",
    "            FROM users WHERE isDeleted=0;\"\"\"\n",
    "cur.execute(sql)\n",
    "rows = cur.fetchall()\n",
    "for row in rows:\n",
    "    print(row)"
   ]
  },
  {
   "cell_type": "code",
   "execution_count": 15,
   "metadata": {},
   "outputs": [
    {
     "output_type": "execute_result",
     "data": {
      "text/plain": [
       "     uid   uname     regDate\n",
       "0    aaa  guest1  2020-11-06\n",
       "1  admin     관리자  2020-11-06\n",
       "2    bbb  guest2  2020-11-06\n",
       "3    ccc  guest3  2020-11-06\n",
       "4   choi     최강현  2020-11-06\n",
       "5    ddd  guest4  2020-11-06\n",
       "6    eee  guest5  2020-11-06\n",
       "7    lee      이근  2020-11-06\n",
       "8   park     박주영  2020-11-06"
      ],
      "text/html": "<div>\n<style scoped>\n    .dataframe tbody tr th:only-of-type {\n        vertical-align: middle;\n    }\n\n    .dataframe tbody tr th {\n        vertical-align: top;\n    }\n\n    .dataframe thead th {\n        text-align: right;\n    }\n</style>\n<table border=\"1\" class=\"dataframe\">\n  <thead>\n    <tr style=\"text-align: right;\">\n      <th></th>\n      <th>uid</th>\n      <th>uname</th>\n      <th>regDate</th>\n    </tr>\n  </thead>\n  <tbody>\n    <tr>\n      <th>0</th>\n      <td>aaa</td>\n      <td>guest1</td>\n      <td>2020-11-06</td>\n    </tr>\n    <tr>\n      <th>1</th>\n      <td>admin</td>\n      <td>관리자</td>\n      <td>2020-11-06</td>\n    </tr>\n    <tr>\n      <th>2</th>\n      <td>bbb</td>\n      <td>guest2</td>\n      <td>2020-11-06</td>\n    </tr>\n    <tr>\n      <th>3</th>\n      <td>ccc</td>\n      <td>guest3</td>\n      <td>2020-11-06</td>\n    </tr>\n    <tr>\n      <th>4</th>\n      <td>choi</td>\n      <td>최강현</td>\n      <td>2020-11-06</td>\n    </tr>\n    <tr>\n      <th>5</th>\n      <td>ddd</td>\n      <td>guest4</td>\n      <td>2020-11-06</td>\n    </tr>\n    <tr>\n      <th>6</th>\n      <td>eee</td>\n      <td>guest5</td>\n      <td>2020-11-06</td>\n    </tr>\n    <tr>\n      <th>7</th>\n      <td>lee</td>\n      <td>이근</td>\n      <td>2020-11-06</td>\n    </tr>\n    <tr>\n      <th>8</th>\n      <td>park</td>\n      <td>박주영</td>\n      <td>2020-11-06</td>\n    </tr>\n  </tbody>\n</table>\n</div>"
     },
     "metadata": {},
     "execution_count": 15
    }
   ],
   "source": [
    "import pandas as pd \n",
    "df = pd.DataFrame(rows)\n",
    "df"
   ]
  },
  {
   "cell_type": "code",
   "execution_count": 16,
   "metadata": {},
   "outputs": [
    {
     "output_type": "stream",
     "name": "stdout",
     "text": [
      "(1006, 'lee', '이근', '슬기로운 의사생활', 1, 1, '2020-11-06 16:18:46')\n(1005, 'lee', '이근', '파리의 연인', 2, 2, '2020-11-06 16:18:46')\n(1004, 'park', '박주영', '시크릿 가든', 0, 0, '2020-11-06 16:18:46')\n(1003, 'park', '박주영', '태양의 후예', 0, 0, '2020-11-06 16:18:46')\n(1002, 'admin', '관리자', '도깨비', 0, 0, '2020-11-06 16:18:46')\n(1001, 'admin', '관리자', '미스터 션샤인', 0, 0, '2020-11-06 16:18:46')\n"
     ]
    }
   ],
   "source": [
    "sql = \"\"\"SELECT b.bid, b.uid, u.uname, b.title, b.viewCount, b.replyCount,  \n",
    "                DATE_FORMAT(b.modTime, '%Y-%m-%d %T') AS modTime\n",
    "                FROM bbs AS b\n",
    "                JOIN users AS u\n",
    "                ON b.uid=u.uid\n",
    "                WHERE b.isDeleted=0\n",
    "                ORDER BY b.bid DESC;\"\"\"\n",
    "cur = conn.cursor()\n",
    "cur.execute(sql)\n",
    "rows = cur.fetchall()\n",
    "for row in rows:\n",
    "    print(row)"
   ]
  },
  {
   "cell_type": "code",
   "execution_count": 17,
   "metadata": {},
   "outputs": [
    {
     "output_type": "stream",
     "name": "stdout",
     "text": [
      "(1006, 'lee', '이근', '슬기로운 의사생활', '누군가는 태어나고 누군가는 삶을 끝내는, 인생의 축소판이라 불리는 병원에서 평범한 듯 특별한 하루하루를 살아가는 사람들과 눈빛만 봐도 알 수 있는 20년지기 친구들의 케미스토리를 담은 드라마. 99학번 의대 동기 다섯 명을 중심으로 펼쳐지는 병원에서의 이야기를 그린다.', '2020-11-06 16:18:46', 1, 1)\n"
     ]
    }
   ],
   "source": [
    "# '%' 기호가 동작되지 않을 때는 앞에 '%'를 하나 더 붙이자! \n",
    "sql = \"\"\"SELECT b.bid, b.uid, u.uname, b.title, b.content, \n",
    "                DATE_FORMAT(b.modTime, '%%Y-%%m-%%d %%T') AS modTime, \n",
    "                b.viewCount, b.replyCount\n",
    "                FROM bbs AS b\n",
    "                JOIN users AS u\n",
    "                ON b.uid=u.uid\n",
    "                WHERE b.bid=%s;\"\"\"\n",
    "cur.execute(sql, (1006,))\n",
    "row = cur.fetchone()\n",
    "print(row)"
   ]
  },
  {
   "cell_type": "code",
   "execution_count": 18,
   "metadata": {},
   "outputs": [],
   "source": [
    "cur.close()\n",
    "conn.close()"
   ]
  }
 ]
}