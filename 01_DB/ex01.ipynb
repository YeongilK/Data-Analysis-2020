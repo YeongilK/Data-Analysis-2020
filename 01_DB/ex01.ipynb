{
 "metadata": {
  "language_info": {
   "codemirror_mode": {
    "name": "ipython",
    "version": 3
   },
   "file_extension": ".py",
   "mimetype": "text/x-python",
   "name": "python",
   "nbconvert_exporter": "python",
   "pygments_lexer": "ipython3",
   "version": "3.8.3-final"
  },
  "orig_nbformat": 2,
  "kernelspec": {
   "name": "Python 3.8.3 64-bit ('base': conda)",
   "display_name": "Python 3.8.3 64-bit ('base': conda)",
   "metadata": {
    "interpreter": {
     "hash": "b3ba2566441a7c06988d0923437866b63cedc61552a5af99d1f4fb67d367b25f"
    }
   }
  }
 },
 "nbformat": 4,
 "nbformat_minor": 2,
 "cells": [
  {
   "cell_type": "markdown",
   "metadata": {},
   "source": [
    "# 연습문제"
   ]
  },
  {
   "cell_type": "markdown",
   "metadata": {},
   "source": [
    "### 1번"
   ]
  },
  {
   "cell_type": "code",
   "execution_count": 4,
   "metadata": {},
   "outputs": [],
   "source": [
    "import sqlite3\n",
    "conn = sqlite3.connect('./dinos.db')\n",
    "cur = conn.cursor()"
   ]
  },
  {
   "cell_type": "code",
   "execution_count": 5,
   "metadata": {},
   "outputs": [],
   "source": [
    "# 데이터 추가\n",
    "players = [\n",
    "    (14, '손정욱', '투수'), \n",
    "    (10, '지석훈', '내야수'), (18, '박석민', '내야수'), \n",
    "    (47, '나성범', '외야수'), (33, '이명기', '외야수'),\n",
    "    (20, '정범모', '포수'), (25, '양의지', '포수')\n",
    "]\n",
    "cur = conn.cursor()\n",
    "insert_sql = 'insert into Dinos (back_no, name, position) values (?, ?, ?);'\n",
    "for player in players:\n",
    "    cur.execute(insert_sql, player)\n",
    "conn.commit()"
   ]
  },
  {
   "cell_type": "code",
   "execution_count": 9,
   "metadata": {},
   "outputs": [],
   "source": [
    "cur = conn.cursor()\n",
    "cur.execute('create table if not exists Pitcher_stats \\\n",
    "(back_no integer, ERA real, IP integer, SO integer, \\\n",
    "foreign key (back_no) references Dinos(back_no));')\n",
    "conn.commit()"
   ]
  },
  {
   "cell_type": "code",
   "execution_count": 10,
   "metadata": {},
   "outputs": [
    {
     "output_type": "stream",
     "name": "stdout",
     "text": [
      "(10, '지석훈', '내야수')\n(12, '라이트', '투수')\n(14, '손정욱', '투수')\n(18, '박석민', '내야수')\n(20, '정범모', '포수')\n(25, '양의지', '포수')\n(33, '이명기', '외야수')\n(47, '나성범', '외야수')\n"
     ]
    }
   ],
   "source": [
    "cur = conn.cursor()\n",
    "cur.execute('select * from Dinos')\n",
    "rows = cur.fetchall()\n",
    "for row in rows:\n",
    "    print(row)"
   ]
  },
  {
   "cell_type": "code",
   "execution_count": 11,
   "metadata": {},
   "outputs": [],
   "source": [
    "stats = [\n",
    "    (12, 4.68, 157, 125), (14, 5.25, 12, 5)\n",
    "]\n",
    "insert_sql2 = 'insert into Pitcher_stats (back_no, ERA, IP, SO) values (?, ?, ?, ?);'\n",
    "for stat in stats:\n",
    "    cur.execute(insert_sql2, stat)\n",
    "conn.commit()"
   ]
  },
  {
   "cell_type": "code",
   "execution_count": 12,
   "metadata": {},
   "outputs": [
    {
     "output_type": "stream",
     "name": "stdout",
     "text": [
      "(12, 4.68, 157, 125)\n(14, 5.25, 12, 5)\n"
     ]
    }
   ],
   "source": [
    "cur = conn.cursor()\n",
    "cur.execute('select * from Pitcher_stats')\n",
    "rows = cur.fetchall()\n",
    "for row in rows:\n",
    "    print(row)"
   ]
  },
  {
   "cell_type": "code",
   "execution_count": 14,
   "metadata": {},
   "outputs": [
    {
     "output_type": "stream",
     "name": "stdout",
     "text": [
      "(12, '라이트', '투수', 157, 4.68, 125)\n(14, '손정욱', '투수', 12, 5.25, 5)\n"
     ]
    }
   ],
   "source": [
    "# Dinos 테이블과 Pitcher_stats 테이블 조인 후 투수들의 정보 출력\n",
    "cur = conn.cursor()\n",
    "join_sql = \"select d.back_no, d.name, d.position, p.IP, p.ERA, p.SO \\\n",
    "    from Dinos as d \\\n",
    "        join Pitcher_stats as p \\\n",
    "            on d.back_no=p.back_no \\\n",
    "                where d.position like '투수';\"\n",
    "\n",
    "cur.execute(join_sql)\n",
    "rows = cur.fetchall()\n",
    "for row in rows:\n",
    "    print(row)"
   ]
  },
  {
   "cell_type": "markdown",
   "metadata": {},
   "source": [
    "### 2번"
   ]
  },
  {
   "cell_type": "code",
   "execution_count": 15,
   "metadata": {},
   "outputs": [],
   "source": [
    "import sqlite3\n",
    "conn = sqlite3.connect('./idol.db')\n",
    "cur = conn.cursor()"
   ]
  },
  {
   "cell_type": "code",
   "execution_count": 18,
   "metadata": {},
   "outputs": [],
   "source": [
    "# idol_group 테이블 생성\n",
    "cur = conn.cursor()\n",
    "cur.execute(\"create table if not exists idol_group \\\n",
    "    (id integer primary key autoincrement, \\\n",
    "        group_name text not null, \\\n",
    "            '구성원 수' text not null, \\\n",
    "                '데뷔일자' text not null, \\\n",
    "                    '소속사' text not null);\")\n",
    "conn.commit()"
   ]
  },
  {
   "cell_type": "code",
   "execution_count": 21,
   "metadata": {},
   "outputs": [],
   "source": [
    "# idol_group 테이블에 데이터 추가\n",
    "groups = [\n",
    "    ('방탄소년단', 7, '2013-06-13', '빅히트 엔터테인먼트'), \n",
    "    ('트와이스', 9, '2015-10-20', 'JYP 엔터테인먼트'),\n",
    "    ('세븐틴', 13, '2015-05-26', '플레디스'), \n",
    "    ('블랙핑크', 4, '2016-08-08', 'YG 엔터테인먼트'), \n",
    "    ('SF9', 9, '2016-10-05', 'FNC 엔터테인먼트'), \n",
    "    ('우주소녀', 13, '2016-02-25', '스타쉽 엔터테인먼트')\n",
    "]\n",
    "cur = conn.cursor()\n",
    "insert_group = \"insert into idol_group (group_name, '구성원 수', '데뷔일자', '소속사') \\\n",
    "    values (?, ?, ?, ?);\"\n",
    "for group in groups:\n",
    "    cur.execute(insert_group, group)\n",
    "conn.commit()"
   ]
  },
  {
   "cell_type": "code",
   "execution_count": 22,
   "metadata": {},
   "outputs": [
    {
     "output_type": "stream",
     "name": "stdout",
     "text": [
      "(1, '방탄소년단', '7', '2013-06-13', '빅히트 엔터테인먼트')\n(2, '트와이스', '9', '2015-10-20', 'JYP 엔터테인먼트')\n(3, '세븐틴', '13', '2015-05-26', '플레디스')\n(4, '블랙핑크', '4', '2016-08-08', 'YG 엔터테인먼트')\n(5, 'SF9', '9', '2016-10-05', 'FNC 엔터테인먼트')\n(6, '우주소녀', '13', '2016-02-25', '스타쉽 엔터테인먼트')\n"
     ]
    }
   ],
   "source": [
    "# idol_group 테이블 조회\n",
    "cur = conn.cursor()\n",
    "cur.execute('select * from idol_group;')\n",
    "rows = cur.fetchall()\n",
    "for row in rows:\n",
    "    print(row)"
   ]
  },
  {
   "cell_type": "code",
   "execution_count": 23,
   "metadata": {},
   "outputs": [],
   "source": [
    "# song 테이블 생성\n",
    "cur = conn.cursor()\n",
    "cur.execute(\"create table if not exists song \\\n",
    "    (song_id integer primary key autoincrement, \\\n",
    "        song_name text not null, \\\n",
    "            'group_id' integer not null, \\\n",
    "                '발표년도' integer not null, \\\n",
    "                    '작곡가' text not null, \\\n",
    "                        '도입부 가사' text, \\\n",
    "                            foreign key (group_id) references idol_group(id));\")\n",
    "conn.commit()"
   ]
  },
  {
   "cell_type": "code",
   "execution_count": 24,
   "metadata": {},
   "outputs": [],
   "source": [
    "# song 테이블에 데이터 추가\n",
    "songs = [\n",
    "    (1, 'DNA', 2017, '방시혁, Pdogg, RM', '첫 눈에 널 알아보게 됐어'), \n",
    "    (1, '피 땀 눈물', 2016, 'Pdogg, RM, SUGA', '내 피 땀 눈물 내 마지막 춤을'),\n",
    "    (1, '소우주', 2019, 'Matty Thomson', '반짝이는 별빛들 깜빡이는 불 켜진 건물'), \n",
    "    (2, 'What is Love?', 2018, '박진영', '매일같이 영화 속에서나 책 속에서나 드라마 속에서'), \n",
    "    (2, 'I CAN’T STOP ME', 2020, 'Melanie Joy Fontana', '알람이 울려대 Ring ring a ling'), \n",
    "    (3, '아주 NICE', 2016, 'WOOZI', '아침엔 모닝콜 필수던 내가'),\n",
    "    (4, '뚜두뚜두', 2018, 'TEDDY', '착한 얼굴에 그렇지 못한 태도'),\n",
    "    (4, '마지막처럼', 2017, 'TEDDY', '너 뭔데 자꾸 생각나'),\n",
    "    (5, 'MAMMA MIA', 2018, '김창락', 'SF9 Clap Clap yo We back again'),\n",
    "    (5, '오솔레미오', 2017, '김창락', '비춰줘 날 환히 비춰줘'),\n",
    "    (6, '꿈꾸는 마음으로', 2018, '영광의 얼굴들', '나 있잖아 가끔 아주 아찔한 상상에'),\n",
    "    (6, 'BUTTERFLY', 2020, '별들의 전쟁', '까칠한 말투에 차가운 무표정이')\n",
    "]\n",
    "cur = conn.cursor()\n",
    "insert_song = \"insert into song (group_id, song_name, '발표년도', '작곡가', '도입부 가사') \\\n",
    "    values (?, ?, ?, ?, ?);\"\n",
    "for song in songs:\n",
    "    cur.execute(insert_song, song)\n",
    "conn.commit()"
   ]
  },
  {
   "cell_type": "code",
   "execution_count": 25,
   "metadata": {},
   "outputs": [
    {
     "output_type": "stream",
     "name": "stdout",
     "text": [
      "(1, 'DNA', 1, 2017, '방시혁, Pdogg, RM', '첫 눈에 널 알아보게 됐어')\n(2, '피 땀 눈물', 1, 2016, 'Pdogg, RM, SUGA', '내 피 땀 눈물 내 마지막 춤을')\n(3, '소우주', 1, 2019, 'Matty Thomson', '반짝이는 별빛들 깜빡이는 불 켜진 건물')\n(4, 'What is Love?', 2, 2018, '박진영', '매일같이 영화 속에서나 책 속에서나 드라마 속에서')\n(5, 'I CAN’T STOP ME', 2, 2020, 'Melanie Joy Fontana', '알람이 울려대 Ring ring a ling')\n(6, '아주 NICE', 3, 2016, 'WOOZI', '아침엔 모닝콜 필수던 내가')\n(7, '뚜두뚜두', 4, 2018, 'TEDDY', '착한 얼굴에 그렇지 못한 태도')\n(8, '마지막처럼', 4, 2017, 'TEDDY', '너 뭔데 자꾸 생각나')\n(9, 'MAMMA MIA', 5, 2018, '김창락', 'SF9 Clap Clap yo We back again')\n(10, '오솔레미오', 5, 2017, '김창락', '비춰줘 날 환히 비춰줘')\n(11, '꿈꾸는 마음으로', 6, 2018, '영광의 얼굴들', '나 있잖아 가끔 아주 아찔한 상상에')\n(12, 'BUTTERFLY', 6, 2020, '별들의 전쟁', '까칠한 말투에 차가운 무표정이')\n"
     ]
    }
   ],
   "source": [
    "# song 테이블 조회\n",
    "cur = conn.cursor()\n",
    "cur.execute('select * from song;')\n",
    "rows = cur.fetchall()\n",
    "for row in rows:\n",
    "    print(row)"
   ]
  },
  {
   "cell_type": "code",
   "execution_count": 26,
   "metadata": {},
   "outputs": [
    {
     "output_type": "stream",
     "name": "stdout",
     "text": [
      "('방탄소년단', '7', '2013-06-13', 'DNA', 2017)\n('방탄소년단', '7', '2013-06-13', '피 땀 눈물', 2016)\n('방탄소년단', '7', '2013-06-13', '소우주', 2019)\n('트와이스', '9', '2015-10-20', 'What is Love?', 2018)\n('트와이스', '9', '2015-10-20', 'I CAN’T STOP ME', 2020)\n('세븐틴', '13', '2015-05-26', '아주 NICE', 2016)\n('블랙핑크', '4', '2016-08-08', '뚜두뚜두', 2018)\n('블랙핑크', '4', '2016-08-08', '마지막처럼', 2017)\n('SF9', '9', '2016-10-05', 'MAMMA MIA', 2018)\n('SF9', '9', '2016-10-05', '오솔레미오', 2017)\n('우주소녀', '13', '2016-02-25', '꿈꾸는 마음으로', 2018)\n('우주소녀', '13', '2016-02-25', 'BUTTERFLY', 2020)\n"
     ]
    }
   ],
   "source": [
    "# idol_group 테이블과 song 테이블 조인 후 그룹과 곡 정보 출력\n",
    "cur = conn.cursor()\n",
    "join_idol = \"select i.group_name, i.'구성원 수', i.'데뷔일자', s.song_name, s.'발표년도' \\\n",
    "    from idol_group as i \\\n",
    "        join song as s \\\n",
    "            on i.id=s.group_id;\"\n",
    "cur.execute(join_idol)\n",
    "rows = cur.fetchall()\n",
    "for row in rows:\n",
    "    print(row)"
   ]
  },
  {
   "cell_type": "markdown",
   "metadata": {},
   "source": [
    "### 3번"
   ]
  },
  {
   "cell_type": "code",
   "execution_count": 27,
   "metadata": {},
   "outputs": [],
   "source": [
    "conn = sqlite3.connect('./user.db')\n",
    "cur = conn.cursor()"
   ]
  },
  {
   "cell_type": "code",
   "execution_count": 28,
   "metadata": {},
   "outputs": [],
   "source": [
    "# Users 테이블 생성\n",
    "cur = conn.cursor()\n",
    "cur.execute(\"create table if not exists Users (name text, password integer);\")\n",
    "conn.commit()"
   ]
  },
  {
   "cell_type": "code",
   "execution_count": 29,
   "metadata": {},
   "outputs": [],
   "source": [
    "# Users 테이블에 데이터 추가\n",
    "cur = conn.cursor()\n",
    "users = [\n",
    "    ('admin', 12345), ('kim', 1234), ('lee', 1234), ('park', 1234),\n",
    "    ('jung', 1234), ('choi', 1234), ('son', 1234), ('lim', 1234)\n",
    "]\n",
    "insert_user = \"insert into Users values(?, ?)\"\n",
    "for user in users:\n",
    "    cur.execute(insert_user, user)\n",
    "conn.commit()"
   ]
  },
  {
   "cell_type": "code",
   "execution_count": 31,
   "metadata": {},
   "outputs": [
    {
     "output_type": "stream",
     "name": "stdout",
     "text": [
      "[('admin', 12345), ('kim', 1234), ('lee', 1234), ('park', 1234), ('jung', 1234), ('choi', 1234), ('son', 1234), ('lim', 1234)]\n('admin', 12345)\n('kim', 1234)\n('lee', 1234)\n('park', 1234)\n('jung', 1234)\n('choi', 1234)\n('son', 1234)\n('lim', 1234)\n"
     ]
    }
   ],
   "source": [
    "# Users 테이블 조회\n",
    "cur = conn.cursor()\n",
    "cur.execute('select * from Users;')\n",
    "rows = cur.fetchall()\n",
    "for row in rows:\n",
    "    print(row)"
   ]
  },
  {
   "cell_type": "code",
   "execution_count": 37,
   "metadata": {},
   "outputs": [
    {
     "output_type": "stream",
     "name": "stdout",
     "text": [
      "실패\n성공\n실패\n실패\n실패\n실패\n실패\n실패\n"
     ]
    }
   ],
   "source": [
    "name = input('사용자 이름: ')\n",
    "pw = int(input('비밀번호: '))\n",
    "\n",
    "cur.execute('select * from Users;')\n",
    "rows = cur.fetchall()\n",
    "for row in rows:\n",
    "    if name == row[0] and pw == row[1]:\n",
    "        print('성공')\n",
    "    else:\n",
    "        print('실패')"
   ]
  },
  {
   "cell_type": "code",
   "execution_count": null,
   "metadata": {},
   "outputs": [],
   "source": []
  }
 ]
}