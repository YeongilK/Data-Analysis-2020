{
 "metadata": {
  "language_info": {
   "codemirror_mode": {
    "name": "ipython",
    "version": 3
   },
   "file_extension": ".py",
   "mimetype": "text/x-python",
   "name": "python",
   "nbconvert_exporter": "python",
   "pygments_lexer": "ipython3",
   "version": "3.8.3-final"
  },
  "orig_nbformat": 2,
  "kernelspec": {
   "name": "Python 3.8.3 64-bit ('ProgramData': virtualenv)",
   "display_name": "Python 3.8.3 64-bit ('ProgramData': virtualenv)",
   "metadata": {
    "interpreter": {
     "hash": "b3ba2566441a7c06988d0923437866b63cedc61552a5af99d1f4fb67d367b25f"
    }
   }
  }
 },
 "nbformat": 4,
 "nbformat_minor": 2,
 "cells": [
  {
   "cell_type": "markdown",
   "metadata": {},
   "source": [
    "## 연습문제"
   ]
  },
  {
   "cell_type": "code",
   "execution_count": 144,
   "metadata": {},
   "outputs": [],
   "source": [
    "import numpy as np \n",
    "import pandas as pd "
   ]
  },
  {
   "cell_type": "code",
   "execution_count": 145,
   "metadata": {},
   "outputs": [],
   "source": [
    "import seaborn as sns\n",
    "titanic = sns.load_dataset(\"titanic\")"
   ]
  },
  {
   "cell_type": "code",
   "execution_count": 146,
   "metadata": {},
   "outputs": [],
   "source": [
    "# 나이를 명시하지 않은 고객은 평균 나이 입력\n",
    "round(titanic['age'].mean(), 2)\n",
    "titanic['age'] = titanic['age'].fillna(round(titanic['age'].mean(), 2))"
   ]
  },
  {
   "cell_type": "markdown",
   "metadata": {},
   "source": [
    "### 연습문제 4.4.7\n",
    "#### 타이타닉호 승객을 ‘미성년자’, ‘청년’, ‘중년’, ‘장년’, ‘노년’ 나이 그룹으로 나눈다.\n",
    "- 각 나이 그룹의 승객 비율을 구한다. 비율 전체의 합은 1"
   ]
  },
  {
   "cell_type": "code",
   "execution_count": 147,
   "metadata": {},
   "outputs": [],
   "source": [
    "bins = [0, 20, 30, 50, 70, 100]\n",
    "labels = [\"미성년자\", \"청년\", \"중년\", \"장년\", \"노년\"]"
   ]
  },
  {
   "cell_type": "code",
   "execution_count": 148,
   "metadata": {},
   "outputs": [
    {
     "output_type": "execute_result",
     "data": {
      "text/plain": [
       "     survived  pclass     sex   age  sibsp  parch   fare embarked   class  \\\n",
       "886         0       2    male  27.0      0      0  13.00        S  Second   \n",
       "887         1       1  female  19.0      0      0  30.00        S   First   \n",
       "888         0       3  female  29.7      1      2  23.45        S   Third   \n",
       "889         1       1    male  26.0      0      0  30.00        C   First   \n",
       "890         0       3    male  32.0      0      0   7.75        Q   Third   \n",
       "\n",
       "       who  adult_male deck  embark_town alive  alone age_cat  \n",
       "886    man        True  NaN  Southampton    no   True      청년  \n",
       "887  woman       False    B  Southampton   yes   True    미성년자  \n",
       "888  woman       False  NaN  Southampton    no  False      청년  \n",
       "889    man        True    C    Cherbourg   yes   True      청년  \n",
       "890    man        True  NaN   Queenstown    no   True      중년  "
      ],
      "text/html": "<div>\n<style scoped>\n    .dataframe tbody tr th:only-of-type {\n        vertical-align: middle;\n    }\n\n    .dataframe tbody tr th {\n        vertical-align: top;\n    }\n\n    .dataframe thead th {\n        text-align: right;\n    }\n</style>\n<table border=\"1\" class=\"dataframe\">\n  <thead>\n    <tr style=\"text-align: right;\">\n      <th></th>\n      <th>survived</th>\n      <th>pclass</th>\n      <th>sex</th>\n      <th>age</th>\n      <th>sibsp</th>\n      <th>parch</th>\n      <th>fare</th>\n      <th>embarked</th>\n      <th>class</th>\n      <th>who</th>\n      <th>adult_male</th>\n      <th>deck</th>\n      <th>embark_town</th>\n      <th>alive</th>\n      <th>alone</th>\n      <th>age_cat</th>\n    </tr>\n  </thead>\n  <tbody>\n    <tr>\n      <th>886</th>\n      <td>0</td>\n      <td>2</td>\n      <td>male</td>\n      <td>27.0</td>\n      <td>0</td>\n      <td>0</td>\n      <td>13.00</td>\n      <td>S</td>\n      <td>Second</td>\n      <td>man</td>\n      <td>True</td>\n      <td>NaN</td>\n      <td>Southampton</td>\n      <td>no</td>\n      <td>True</td>\n      <td>청년</td>\n    </tr>\n    <tr>\n      <th>887</th>\n      <td>1</td>\n      <td>1</td>\n      <td>female</td>\n      <td>19.0</td>\n      <td>0</td>\n      <td>0</td>\n      <td>30.00</td>\n      <td>S</td>\n      <td>First</td>\n      <td>woman</td>\n      <td>False</td>\n      <td>B</td>\n      <td>Southampton</td>\n      <td>yes</td>\n      <td>True</td>\n      <td>미성년자</td>\n    </tr>\n    <tr>\n      <th>888</th>\n      <td>0</td>\n      <td>3</td>\n      <td>female</td>\n      <td>29.7</td>\n      <td>1</td>\n      <td>2</td>\n      <td>23.45</td>\n      <td>S</td>\n      <td>Third</td>\n      <td>woman</td>\n      <td>False</td>\n      <td>NaN</td>\n      <td>Southampton</td>\n      <td>no</td>\n      <td>False</td>\n      <td>청년</td>\n    </tr>\n    <tr>\n      <th>889</th>\n      <td>1</td>\n      <td>1</td>\n      <td>male</td>\n      <td>26.0</td>\n      <td>0</td>\n      <td>0</td>\n      <td>30.00</td>\n      <td>C</td>\n      <td>First</td>\n      <td>man</td>\n      <td>True</td>\n      <td>C</td>\n      <td>Cherbourg</td>\n      <td>yes</td>\n      <td>True</td>\n      <td>청년</td>\n    </tr>\n    <tr>\n      <th>890</th>\n      <td>0</td>\n      <td>3</td>\n      <td>male</td>\n      <td>32.0</td>\n      <td>0</td>\n      <td>0</td>\n      <td>7.75</td>\n      <td>Q</td>\n      <td>Third</td>\n      <td>man</td>\n      <td>True</td>\n      <td>NaN</td>\n      <td>Queenstown</td>\n      <td>no</td>\n      <td>True</td>\n      <td>중년</td>\n    </tr>\n  </tbody>\n</table>\n</div>"
     },
     "metadata": {},
     "execution_count": 148
    }
   ],
   "source": [
    "titanic['age_cat'] = pd.cut(titanic.age, bins, labels=labels)\n",
    "titanic.tail()"
   ]
  },
  {
   "cell_type": "code",
   "execution_count": 149,
   "metadata": {},
   "outputs": [],
   "source": [
    "a = titanic[titanic['age_cat'] == '미성년자']['age_cat'].count() / titanic['age'].count()\n",
    "b = titanic[titanic['age_cat'] == '청년']['age_cat'].count() / titanic['age'].count()\n",
    "c = titanic[titanic['age_cat'] == '중년']['age_cat'].count() / titanic['age'].count()\n",
    "d = titanic[titanic['age_cat'] == '장년']['age_cat'].count() / titanic['age'].count()\n",
    "e = titanic[titanic['age_cat'] == '노년']['age_cat'].count() / titanic['age'].count()"
   ]
  },
  {
   "cell_type": "code",
   "execution_count": 150,
   "metadata": {},
   "outputs": [
    {
     "output_type": "execute_result",
     "data": {
      "text/plain": [
       "             비율\n",
       "미성년자   0.200898\n",
       "청년     0.456790\n",
       "중년     0.270483\n",
       "장년     0.066218\n",
       "노년     0.005612\n",
       "비율의 합  1.000000"
      ],
      "text/html": "<div>\n<style scoped>\n    .dataframe tbody tr th:only-of-type {\n        vertical-align: middle;\n    }\n\n    .dataframe tbody tr th {\n        vertical-align: top;\n    }\n\n    .dataframe thead th {\n        text-align: right;\n    }\n</style>\n<table border=\"1\" class=\"dataframe\">\n  <thead>\n    <tr style=\"text-align: right;\">\n      <th></th>\n      <th>비율</th>\n    </tr>\n  </thead>\n  <tbody>\n    <tr>\n      <th>미성년자</th>\n      <td>0.200898</td>\n    </tr>\n    <tr>\n      <th>청년</th>\n      <td>0.456790</td>\n    </tr>\n    <tr>\n      <th>중년</th>\n      <td>0.270483</td>\n    </tr>\n    <tr>\n      <th>장년</th>\n      <td>0.066218</td>\n    </tr>\n    <tr>\n      <th>노년</th>\n      <td>0.005612</td>\n    </tr>\n    <tr>\n      <th>비율의 합</th>\n      <td>1.000000</td>\n    </tr>\n  </tbody>\n</table>\n</div>"
     },
     "metadata": {},
     "execution_count": 150
    }
   ],
   "source": [
    "data = {'비율': [a, b, c, d, e]}\n",
    "index = [\"미성년자\", \"청년\", \"중년\", \"장년\", \"노년\"]\n",
    "ratio = pd.DataFrame(data, index=index)\n",
    "ratio.loc['비율의 합', :] = ratio.sum()\n",
    "ratio"
   ]
  },
  {
   "cell_type": "markdown",
   "metadata": {},
   "source": [
    "### 연습문제 4.4.8\n",
    "#### 타이타닉호의 승객에 대해 나이와 성별에 의한 카테고리 열인 category3 열을 만들어라. category3 카테고리는 다음과 같이 정의된다.\n",
    "- 20살 미만이면 성별에 관계없이 “미성년자”라고 한다.\n",
    "- 20살 이상이면 나이에 따라 “청년”, “중년”, “장년”, “노년”을 구분하고 그 뒤에 성별을 나타내는 “남성”, “여성”을 붙인다."
   ]
  },
  {
   "cell_type": "code",
   "execution_count": 151,
   "metadata": {},
   "outputs": [],
   "source": [
    "def age_category(age):\n",
    "    if age >= 20 and age < 30:\n",
    "        return '청년'\n",
    "    elif age >= 30 and age < 50:\n",
    "        return '중년'\n",
    "    elif age >= 50 and age < 70:\n",
    "        return '장년'\n",
    "    else:\n",
    "        return '노년'"
   ]
  },
  {
   "cell_type": "code",
   "execution_count": 152,
   "metadata": {},
   "outputs": [],
   "source": [
    "def get_sex(sex):\n",
    "    if sex == 'male':\n",
    "        return '남성'\n",
    "    else:\n",
    "        return '여성'"
   ]
  },
  {
   "cell_type": "code",
   "execution_count": 153,
   "metadata": {},
   "outputs": [
    {
     "output_type": "execute_result",
     "data": {
      "text/plain": [
       "     survived  pclass     sex   age  sibsp  parch     fare embarked   class  \\\n",
       "881         0       3    male  33.0      0      0   7.8958        S   Third   \n",
       "882         0       3  female  22.0      0      0  10.5167        S   Third   \n",
       "883         0       2    male  28.0      0      0  10.5000        S  Second   \n",
       "884         0       3    male  25.0      0      0   7.0500        S   Third   \n",
       "885         0       3  female  39.0      0      5  29.1250        Q   Third   \n",
       "886         0       2    male  27.0      0      0  13.0000        S  Second   \n",
       "887         1       1  female  19.0      0      0  30.0000        S   First   \n",
       "888         0       3  female  29.7      1      2  23.4500        S   Third   \n",
       "889         1       1    male  26.0      0      0  30.0000        C   First   \n",
       "890         0       3    male  32.0      0      0   7.7500        Q   Third   \n",
       "\n",
       "       who  adult_male deck  embark_town alive  alone age_cat category3  \n",
       "881    man        True  NaN  Southampton    no   True      중년      중년남성  \n",
       "882  woman       False  NaN  Southampton    no   True      청년      청년여성  \n",
       "883    man        True  NaN  Southampton    no   True      청년      청년남성  \n",
       "884    man        True  NaN  Southampton    no   True      청년      청년남성  \n",
       "885  woman       False  NaN   Queenstown    no  False      중년      중년여성  \n",
       "886    man        True  NaN  Southampton    no   True      청년      청년남성  \n",
       "887  woman       False    B  Southampton   yes   True    미성년자      미성년자  \n",
       "888  woman       False  NaN  Southampton    no  False      청년      청년여성  \n",
       "889    man        True    C    Cherbourg   yes   True      청년      청년남성  \n",
       "890    man        True  NaN   Queenstown    no   True      중년      중년남성  "
      ],
      "text/html": "<div>\n<style scoped>\n    .dataframe tbody tr th:only-of-type {\n        vertical-align: middle;\n    }\n\n    .dataframe tbody tr th {\n        vertical-align: top;\n    }\n\n    .dataframe thead th {\n        text-align: right;\n    }\n</style>\n<table border=\"1\" class=\"dataframe\">\n  <thead>\n    <tr style=\"text-align: right;\">\n      <th></th>\n      <th>survived</th>\n      <th>pclass</th>\n      <th>sex</th>\n      <th>age</th>\n      <th>sibsp</th>\n      <th>parch</th>\n      <th>fare</th>\n      <th>embarked</th>\n      <th>class</th>\n      <th>who</th>\n      <th>adult_male</th>\n      <th>deck</th>\n      <th>embark_town</th>\n      <th>alive</th>\n      <th>alone</th>\n      <th>age_cat</th>\n      <th>category3</th>\n    </tr>\n  </thead>\n  <tbody>\n    <tr>\n      <th>881</th>\n      <td>0</td>\n      <td>3</td>\n      <td>male</td>\n      <td>33.0</td>\n      <td>0</td>\n      <td>0</td>\n      <td>7.8958</td>\n      <td>S</td>\n      <td>Third</td>\n      <td>man</td>\n      <td>True</td>\n      <td>NaN</td>\n      <td>Southampton</td>\n      <td>no</td>\n      <td>True</td>\n      <td>중년</td>\n      <td>중년남성</td>\n    </tr>\n    <tr>\n      <th>882</th>\n      <td>0</td>\n      <td>3</td>\n      <td>female</td>\n      <td>22.0</td>\n      <td>0</td>\n      <td>0</td>\n      <td>10.5167</td>\n      <td>S</td>\n      <td>Third</td>\n      <td>woman</td>\n      <td>False</td>\n      <td>NaN</td>\n      <td>Southampton</td>\n      <td>no</td>\n      <td>True</td>\n      <td>청년</td>\n      <td>청년여성</td>\n    </tr>\n    <tr>\n      <th>883</th>\n      <td>0</td>\n      <td>2</td>\n      <td>male</td>\n      <td>28.0</td>\n      <td>0</td>\n      <td>0</td>\n      <td>10.5000</td>\n      <td>S</td>\n      <td>Second</td>\n      <td>man</td>\n      <td>True</td>\n      <td>NaN</td>\n      <td>Southampton</td>\n      <td>no</td>\n      <td>True</td>\n      <td>청년</td>\n      <td>청년남성</td>\n    </tr>\n    <tr>\n      <th>884</th>\n      <td>0</td>\n      <td>3</td>\n      <td>male</td>\n      <td>25.0</td>\n      <td>0</td>\n      <td>0</td>\n      <td>7.0500</td>\n      <td>S</td>\n      <td>Third</td>\n      <td>man</td>\n      <td>True</td>\n      <td>NaN</td>\n      <td>Southampton</td>\n      <td>no</td>\n      <td>True</td>\n      <td>청년</td>\n      <td>청년남성</td>\n    </tr>\n    <tr>\n      <th>885</th>\n      <td>0</td>\n      <td>3</td>\n      <td>female</td>\n      <td>39.0</td>\n      <td>0</td>\n      <td>5</td>\n      <td>29.1250</td>\n      <td>Q</td>\n      <td>Third</td>\n      <td>woman</td>\n      <td>False</td>\n      <td>NaN</td>\n      <td>Queenstown</td>\n      <td>no</td>\n      <td>False</td>\n      <td>중년</td>\n      <td>중년여성</td>\n    </tr>\n    <tr>\n      <th>886</th>\n      <td>0</td>\n      <td>2</td>\n      <td>male</td>\n      <td>27.0</td>\n      <td>0</td>\n      <td>0</td>\n      <td>13.0000</td>\n      <td>S</td>\n      <td>Second</td>\n      <td>man</td>\n      <td>True</td>\n      <td>NaN</td>\n      <td>Southampton</td>\n      <td>no</td>\n      <td>True</td>\n      <td>청년</td>\n      <td>청년남성</td>\n    </tr>\n    <tr>\n      <th>887</th>\n      <td>1</td>\n      <td>1</td>\n      <td>female</td>\n      <td>19.0</td>\n      <td>0</td>\n      <td>0</td>\n      <td>30.0000</td>\n      <td>S</td>\n      <td>First</td>\n      <td>woman</td>\n      <td>False</td>\n      <td>B</td>\n      <td>Southampton</td>\n      <td>yes</td>\n      <td>True</td>\n      <td>미성년자</td>\n      <td>미성년자</td>\n    </tr>\n    <tr>\n      <th>888</th>\n      <td>0</td>\n      <td>3</td>\n      <td>female</td>\n      <td>29.7</td>\n      <td>1</td>\n      <td>2</td>\n      <td>23.4500</td>\n      <td>S</td>\n      <td>Third</td>\n      <td>woman</td>\n      <td>False</td>\n      <td>NaN</td>\n      <td>Southampton</td>\n      <td>no</td>\n      <td>False</td>\n      <td>청년</td>\n      <td>청년여성</td>\n    </tr>\n    <tr>\n      <th>889</th>\n      <td>1</td>\n      <td>1</td>\n      <td>male</td>\n      <td>26.0</td>\n      <td>0</td>\n      <td>0</td>\n      <td>30.0000</td>\n      <td>C</td>\n      <td>First</td>\n      <td>man</td>\n      <td>True</td>\n      <td>C</td>\n      <td>Cherbourg</td>\n      <td>yes</td>\n      <td>True</td>\n      <td>청년</td>\n      <td>청년남성</td>\n    </tr>\n    <tr>\n      <th>890</th>\n      <td>0</td>\n      <td>3</td>\n      <td>male</td>\n      <td>32.0</td>\n      <td>0</td>\n      <td>0</td>\n      <td>7.7500</td>\n      <td>Q</td>\n      <td>Third</td>\n      <td>man</td>\n      <td>True</td>\n      <td>NaN</td>\n      <td>Queenstown</td>\n      <td>no</td>\n      <td>True</td>\n      <td>중년</td>\n      <td>중년남성</td>\n    </tr>\n  </tbody>\n</table>\n</div>"
     },
     "metadata": {},
     "execution_count": 153
    }
   ],
   "source": [
    "titanic['category3'] = titanic.apply(lambda x: '미성년자' if x.age < 20 else age_category(x.age) + get_sex(x.sex), axis=1)\n",
    "titanic.tail(10)"
   ]
  },
  {
   "cell_type": "markdown",
   "metadata": {},
   "source": [
    "### 교재 연습문제"
   ]
  },
  {
   "cell_type": "markdown",
   "metadata": {},
   "source": [
    "#### (1) csv파일을 읽어들여 2차원 리스트에 저장한 뒤 출력"
   ]
  },
  {
   "cell_type": "code",
   "execution_count": 154,
   "metadata": {},
   "outputs": [
    {
     "output_type": "stream",
     "name": "stdout",
     "text": [
      "[['서울,9736962,658355,813563,1455903,1505729,1563968,1539385,1200518,688818,263939,40404,6380'], ['부산,3410925,241624,281120,434692,431911,518321,580966,511174,285602,109312,14396,1807'], ['대구,2432883,186623,234528,321487,303397,391997,428622,311274,171217,74227,8817,694'], ['인천,2954955,239941,281097,405835,417708,490716,515758,344843,172269,74306,11574,908'], ['광주,1456121,125396,162728,207554,191432,244903,234048,155056,91020,38050,5529,405'], ['대전,1473125,120476,151861,212143,199106,242381,243526,170291,88289,39190,5523,339'], ['울산,1145710,103399,115623,147745,158271,190698,211255,136520,57438,21610,2991,160'], ['세종,343788,47454,40574,36273,61442,65714,42907,27813,13609,6863,1084,55'], ['경기도,13265377,1178548,1347854,1769080,1917785,2299179,2205106,1422638,742296,330231,48650,4010'], ['강원도,1539521,108694,141975,179813,169694,227950,269666,226444,135668,68321,10493,803'], ['충청북도,1598599,128290,153119,198910,198768,243982,273857,209926,119037,63513,8656,541'], ['충청남도,2120995,179808,206578,243748,276553,329789,340568,264305,167339,97941,13481,885'], ['전라북도,1815112,135297,180675,212339,195971,274471,303074,244901,165445,89352,12770,817'], ['전라남도,1861894,137868,172888,202760,193083,265366,317226,259385,191719,105793,14984,822'], ['경상북도,2658956,198214,233506,291097,303472,390995,464427,389498,238482,130716,17589,960'], ['경상남도,3358828,282751,331566,384750,418383,543911,585186,435315,240111,119977,16139,739'], ['제주도,670876,62086,71539,81968,84145,113076,111221,75172,44621,22963,3819,266']]\n"
     ]
    }
   ],
   "source": [
    "csv_data = pd.read_csv('samples/population_age_2020.csv', sep='\\n').values.tolist()\n",
    "print(csv_data)"
   ]
  },
  {
   "cell_type": "markdown",
   "metadata": {},
   "source": [
    "#### (2) 1번의 2차원 리스트 데이터에 대해 열과 행을 바꿔서 출력"
   ]
  },
  {
   "cell_type": "code",
   "execution_count": 155,
   "metadata": {},
   "outputs": [
    {
     "output_type": "stream",
     "name": "stdout",
     "text": [
      "[['서울', '부산', '대구', '인천', '광주', '대전', '울산', '세종', '경기도', '강원도', '충청북도', '충청남도', '전라북도', '전라남도', '경상북도', '경상남도', '제주도'], [9736962, 3410925, 2432883, 2954955, 1456121, 1473125, 1145710, 343788, 13265377, 1539521, 1598599, 2120995, 1815112, 1861894, 2658956, 3358828, 670876], [658355, 241624, 186623, 239941, 125396, 120476, 103399, 47454, 1178548, 108694, 128290, 179808, 135297, 137868, 198214, 282751, 62086], [813563, 281120, 234528, 281097, 162728, 151861, 115623, 40574, 1347854, 141975, 153119, 206578, 180675, 172888, 233506, 331566, 71539], [1455903, 434692, 321487, 405835, 207554, 212143, 147745, 36273, 1769080, 179813, 198910, 243748, 212339, 202760, 291097, 384750, 81968], [1505729, 431911, 303397, 417708, 191432, 199106, 158271, 61442, 1917785, 169694, 198768, 276553, 195971, 193083, 303472, 418383, 84145], [1563968, 518321, 391997, 490716, 244903, 242381, 190698, 65714, 2299179, 227950, 243982, 329789, 274471, 265366, 390995, 543911, 113076], [1539385, 580966, 428622, 515758, 234048, 243526, 211255, 42907, 2205106, 269666, 273857, 340568, 303074, 317226, 464427, 585186, 111221], [1200518, 511174, 311274, 344843, 155056, 170291, 136520, 27813, 1422638, 226444, 209926, 264305, 244901, 259385, 389498, 435315, 75172], [688818, 285602, 171217, 172269, 91020, 88289, 57438, 13609, 742296, 135668, 119037, 167339, 165445, 191719, 238482, 240111, 44621], [263939, 109312, 74227, 74306, 38050, 39190, 21610, 6863, 330231, 68321, 63513, 97941, 89352, 105793, 130716, 119977, 22963], [40404, 14396, 8817, 11574, 5529, 5523, 2991, 1084, 48650, 10493, 8656, 13481, 12770, 14984, 17589, 16139, 3819], [6380, 1807, 694, 908, 405, 339, 160, 55, 4010, 803, 541, 885, 817, 822, 960, 739, 266]]\n"
     ]
    }
   ],
   "source": [
    "trans_csv = pd.read_csv('samples/population_age_2020.csv').T.values.tolist()\n",
    "print(trans_csv)"
   ]
  },
  {
   "cell_type": "markdown",
   "metadata": {},
   "source": [
    "#### (3) 2번의 2차원 리스트 데이터를 딕셔너리 데이터 형으로 변환"
   ]
  },
  {
   "cell_type": "code",
   "execution_count": 156,
   "metadata": {
    "tags": []
   },
   "outputs": [
    {
     "output_type": "stream",
     "name": "stdout",
     "text": [
      "{'지역': ['서울', '부산', '대구', '인천', '광주', '대전', '울산', '세종', '경기도', '강원도', '충청북도', '충청남도', '전라북도', '전라남도', '경상북도', '경상남도', '제주도'], '총인구수': [9736962, 3410925, 2432883, 2954955, 1456121, 1473125, 1145710, 343788, 13265377, 1539521, 1598599, 2120995, 1815112, 1861894, 2658956, 3358828, 670876], '0~9세': [658355, 241624, 186623, 239941, 125396, 120476, 103399, 47454, 1178548, 108694, 128290, 179808, 135297, 137868, 198214, 282751, 62086], '10~19세': [813563, 281120, 234528, 281097, 162728, 151861, 115623, 40574, 1347854, 141975, 153119, 206578, 180675, 172888, 233506, 331566, 71539], '20~29세': [1455903, 434692, 321487, 405835, 207554, 212143, 147745, 36273, 1769080, 179813, 198910, 243748, 212339, 202760, 291097, 384750, 81968], '30~39세': [1505729, 431911, 303397, 417708, 191432, 199106, 158271, 61442, 1917785, 169694, 198768, 276553, 195971, 193083, 303472, 418383, 84145], '40~49세': [1563968, 518321, 391997, 490716, 244903, 242381, 190698, 65714, 2299179, 227950, 243982, 329789, 274471, 265366, 390995, 543911, 113076], '50~59세': [1539385, 580966, 428622, 515758, 234048, 243526, 211255, 42907, 2205106, 269666, 273857, 340568, 303074, 317226, 464427, 585186, 111221], '60~69세': [1200518, 511174, 311274, 344843, 155056, 170291, 136520, 27813, 1422638, 226444, 209926, 264305, 244901, 259385, 389498, 435315, 75172], '70~79세': [688818, 285602, 171217, 172269, 91020, 88289, 57438, 13609, 742296, 135668, 119037, 167339, 165445, 191719, 238482, 240111, 44621], '80~89세': [263939, 109312, 74227, 74306, 38050, 39190, 21610, 6863, 330231, 68321, 63513, 97941, 89352, 105793, 130716, 119977, 22963], '90~99세': [40404, 14396, 8817, 11574, 5529, 5523, 2991, 1084, 48650, 10493, 8656, 13481, 12770, 14984, 17589, 16139, 3819], '100세 이상': [6380, 1807, 694, 908, 405, 339, 160, 55, 4010, 803, 541, 885, 817, 822, 960, 739, 266]}\n"
     ]
    }
   ],
   "source": [
    "csv = pd.read_csv('samples/population_age_2020.csv')\n",
    "key = csv.columns.tolist()\n",
    "val = []\n",
    "for i in range(len(trans_csv)):\n",
    "    val.append(trans_csv[i])\n",
    "kv = [key, val]\n",
    "csv_dict = dict(zip(*kv))\n",
    "print(csv_dict)"
   ]
  },
  {
   "cell_type": "markdown",
   "metadata": {},
   "source": [
    "#### (4) 3번의 딕셔너리 데이터를 DataFrame에 저장한 후 출력"
   ]
  },
  {
   "cell_type": "code",
   "execution_count": null,
   "metadata": {},
   "outputs": [],
   "source": []
  }
 ]
}