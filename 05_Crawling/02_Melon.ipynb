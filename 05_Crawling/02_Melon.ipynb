{
 "metadata": {
  "language_info": {
   "codemirror_mode": {
    "name": "ipython",
    "version": 3
   },
   "file_extension": ".py",
   "mimetype": "text/x-python",
   "name": "python",
   "nbconvert_exporter": "python",
   "pygments_lexer": "ipython3",
   "version": "3.8.3-final"
  },
  "orig_nbformat": 2,
  "kernelspec": {
   "name": "Python 3.8.3 64-bit ('base': conda)",
   "display_name": "Python 3.8.3 64-bit ('base': conda)",
   "metadata": {
    "interpreter": {
     "hash": "b3ba2566441a7c06988d0923437866b63cedc61552a5af99d1f4fb67d367b25f"
    }
   }
  }
 },
 "nbformat": 4,
 "nbformat_minor": 2,
 "cells": [
  {
   "cell_type": "markdown",
   "metadata": {},
   "source": [
    "# Melon 주간 Top 100 구하기"
   ]
  },
  {
   "cell_type": "code",
   "execution_count": 37,
   "metadata": {},
   "outputs": [],
   "source": [
    "from bs4 import BeautifulSoup\n",
    "import urllib.request\n",
    "import pandas as pd"
   ]
  },
  {
   "cell_type": "code",
   "execution_count": 38,
   "metadata": {},
   "outputs": [],
   "source": [
    "import requests\n",
    "url = 'https://www.melon.com/chart/week/index.htm'\n",
    "header = {'User-Agent': 'Mozilla/5.0 (Windows NT 6.3; Trident/7.0; rv:11.0) like Gecko'}\n",
    "req = requests.get(url, headers = header)\n",
    "html = req.text"
   ]
  },
  {
   "cell_type": "code",
   "execution_count": 39,
   "metadata": {},
   "outputs": [],
   "source": [
    "soup = BeautifulSoup(html, 'html.parser')"
   ]
  },
  {
   "cell_type": "markdown",
   "metadata": {},
   "source": [
    "#### 기간 찾기"
   ]
  },
  {
   "cell_type": "code",
   "execution_count": 40,
   "metadata": {},
   "outputs": [
    {
     "output_type": "execute_result",
     "data": {
      "text/plain": [
       "'\\r\\n\\t\\t\\t\\t\\t\\t\\t2020.11.09 ~ 2020.11.15\\r\\n\\t\\t\\t\\t\\t\\t'"
      ]
     },
     "metadata": {},
     "execution_count": 40
    }
   ],
   "source": [
    "soup.select_one('.yyyymmdd').get_text()"
   ]
  },
  {
   "cell_type": "code",
   "execution_count": 41,
   "metadata": {},
   "outputs": [
    {
     "output_type": "execute_result",
     "data": {
      "text/plain": [
       "'2020.11.09 ~ 2020.11.15'"
      ]
     },
     "metadata": {},
     "execution_count": 41
    }
   ],
   "source": [
    "date = soup.select_one('.yyyymmdd').get_text().strip()\n",
    "date"
   ]
  },
  {
   "cell_type": "code",
   "execution_count": 42,
   "metadata": {},
   "outputs": [
    {
     "output_type": "execute_result",
     "data": {
      "text/plain": [
       "('2020.11.09', '2020.11.15')"
      ]
     },
     "metadata": {},
     "execution_count": 42
    }
   ],
   "source": [
    "start_day = date[:10]\n",
    "last_day = date[13:]\n",
    "start_day, last_day"
   ]
  },
  {
   "cell_type": "code",
   "execution_count": 46,
   "metadata": {},
   "outputs": [
    {
     "output_type": "execute_result",
     "data": {
      "text/plain": [
       "100"
      ]
     },
     "metadata": {},
     "execution_count": 46
    }
   ],
   "source": [
    "service_list = soup.select_one('.service_list_song')\n",
    "tbody = service_list.find('tbody')\n",
    "trs = tbody.find_all('tr')\n",
    "len(trs)"
   ]
  },
  {
   "cell_type": "markdown",
   "metadata": {},
   "source": [
    "### rank 찾기"
   ]
  },
  {
   "cell_type": "code",
   "execution_count": 55,
   "metadata": {},
   "outputs": [
    {
     "output_type": "execute_result",
     "data": {
      "text/plain": [
       "1"
      ]
     },
     "metadata": {},
     "execution_count": 55
    }
   ],
   "source": [
    "rank = int(trs[0].select_one('.rank').string)\n",
    "rank"
   ]
  },
  {
   "cell_type": "markdown",
   "metadata": {},
   "source": [
    "#### 등락 찾기"
   ]
  },
  {
   "cell_type": "code",
   "execution_count": 87,
   "metadata": {},
   "outputs": [
    {
     "output_type": "stream",
     "name": "stdout",
     "text": [
      "0\n3\n-5\n-100\n"
     ]
    }
   ],
   "source": [
    "# 지난 주 실적이 있는 곡: 0면 순위변동 없음, +면 상승, -면 하락\n",
    "# 지난 주 실적이 없는 곡: 신규 진입(diff = -100) \n",
    "\n",
    "for i in [0, 7, 17, 19]:\n",
    "    entry = trs[i].select_one('.rank_wrap')\n",
    "    spans = entry.find_all('span')\n",
    "    diff = -100         # diff = -100 이면 신규 진입\n",
    "    if len(spans) == 3:\n",
    "        diff = int(spans[2].string)\n",
    "        # 지난 주 대비 순위 변동 있을 시\n",
    "        if diff != 0:\n",
    "            sign = spans[2].attrs['class']\n",
    "            if sign[0] == 'down':\n",
    "                diff *= -1\n",
    "    print(diff)"
   ]
  },
  {
   "cell_type": "code",
   "execution_count": 69,
   "metadata": {},
   "outputs": [
    {
     "output_type": "execute_result",
     "data": {
      "text/plain": [
       "[<span class=\"bullet_icons rank_static\"><span class=\"none\">순위 동일</span></span>,\n",
       " <span class=\"none\">순위 동일</span>,\n",
       " <span class=\"none\">0</span>]"
      ]
     },
     "metadata": {},
     "execution_count": 69
    }
   ],
   "source": [
    "# 지난 주 실적이 있는 곡 - 지난 주 대비 순위 동일\n",
    "span = trs[0].select_one('.rank_wrap')\n",
    "span.find_all('span')"
   ]
  },
  {
   "cell_type": "code",
   "execution_count": 84,
   "metadata": {},
   "outputs": [
    {
     "output_type": "execute_result",
     "data": {
      "text/plain": [
       "[<span class=\"bullet_icons rank_up\"><span class=\"none\">단계 상승</span></span>,\n",
       " <span class=\"none\">단계 상승</span>,\n",
       " <span class=\"up\">3</span>]"
      ]
     },
     "metadata": {},
     "execution_count": 84
    }
   ],
   "source": [
    "# 지난 주 실적이 있는 곡 - 지난 주 대비 3단계 상승\n",
    "span = trs[7].select_one('.rank_wrap')\n",
    "span.find_all('span')"
   ]
  },
  {
   "cell_type": "code",
   "execution_count": 68,
   "metadata": {},
   "outputs": [
    {
     "output_type": "execute_result",
     "data": {
      "text/plain": [
       "[<span class=\"bullet_icons rank_down\"><span class=\"none\">단계 하락</span></span>,\n",
       " <span class=\"none\">단계 하락</span>,\n",
       " <span class=\"down\">1</span>]"
      ]
     },
     "metadata": {},
     "execution_count": 68
    }
   ],
   "source": [
    "# 지난 주 실적이 있는 곡 - 지난 주 대비 1단계 하락\n",
    "span = trs[2].select_one('.rank_wrap')\n",
    "span.find_all('span')"
   ]
  },
  {
   "cell_type": "code",
   "execution_count": 70,
   "metadata": {},
   "outputs": [
    {
     "output_type": "execute_result",
     "data": {
      "text/plain": [
       "[<span class=\"bullet_icons rank_new\"><span class=\"none\">순위 진입</span></span>,\n",
       " <span class=\"none\">순위 진입</span>]"
      ]
     },
     "metadata": {},
     "execution_count": 70
    }
   ],
   "source": [
    "# 지난 주 실적이 없는 곡 - 신규 진입\n",
    "span = trs[19].select_one('.rank_wrap')\n",
    "span.find_all('span')"
   ]
  },
  {
   "cell_type": "markdown",
   "metadata": {},
   "source": [
    "#### 노래 제목, 가수 찾기"
   ]
  },
  {
   "cell_type": "code",
   "execution_count": 78,
   "metadata": {},
   "outputs": [
    {
     "output_type": "execute_result",
     "data": {
      "text/plain": [
       "('Dynamite', '방탄소년단', 'Dynamite (DayTime Version)')"
      ]
     },
     "metadata": {},
     "execution_count": 78
    }
   ],
   "source": [
    "info = trs[0].select('.ellipsis')\n",
    "title = info[0].find('a').string\n",
    "singer = info[1].find('a').string\n",
    "album = info[2].find('a').string\n",
    "title, singer, album"
   ]
  },
  {
   "cell_type": "markdown",
   "metadata": {},
   "source": [
    "### 데이터프레임으로 만들기"
   ]
  },
  {
   "cell_type": "code",
   "execution_count": 109,
   "metadata": {},
   "outputs": [],
   "source": [
    "ranks = []; diffs = []; titles = []; singers = []; albums = []\n",
    "service_list = soup.select_one('.service_list_song')\n",
    "tbody = service_list.find('tbody')\n",
    "trs = tbody.find_all('tr')"
   ]
  },
  {
   "cell_type": "code",
   "execution_count": 110,
   "metadata": {},
   "outputs": [],
   "source": [
    "for i, tr in enumerate(trs):\n",
    "    rank = int(tr.select_one('.rank').string)\n",
    "\n",
    "    info = tr.select_one('.ellipsis.rank01')\n",
    "    title = info.find('a').string\n",
    "    info = tr.select_one('.ellipsis.rank02')\n",
    "    singer = info.find('a').string\n",
    "    info = tr.select_one('.ellipsis.rank03')\n",
    "    album = info.find('a').string\n",
    "\n",
    "    entry = tr.select_one('.rank_wrap')\n",
    "    spans = entry.find_all('span')\n",
    "    diff = -100         # diff = -100 이면 신규 진입\n",
    "    if len(spans) == 3:\n",
    "        diff = int(spans[2].string)\n",
    "        # 지난 주 대비 순위 변동 있을 시\n",
    "        if diff != 0:\n",
    "            sign = spans[2].attrs['class']\n",
    "            if sign[0] == 'down':\n",
    "                diff *= -1\n",
    "\n",
    "    ranks.append(rank); diffs.append(diff)\n",
    "    titles.append(title); singers.append(singer)\n",
    "    albums.append(album)"
   ]
  },
  {
   "cell_type": "code",
   "execution_count": 111,
   "metadata": {},
   "outputs": [
    {
     "output_type": "stream",
     "name": "stdout",
     "text": [
      "기간: 2020.11.09 ~ 2020.11.15\n"
     ]
    },
    {
     "output_type": "execute_result",
     "data": {
      "text/plain": [
       "      diff                                         title             singer  \\\n",
       "rank                                                                          \n",
       "1        0                                      Dynamite              방탄소년단   \n",
       "2        1                                  힘든 건 사랑이 아니다                임창정   \n",
       "3       -1                                Lovesick Girls          BLACKPINK   \n",
       "4        1                         취기를 빌려 (취향저격 그녀 X 산들)                 산들   \n",
       "5       -1                                DON'T TOUCH ME              환불원정대   \n",
       "6        0                                     잠이 오질 않네요                장범준   \n",
       "7        0                                        오래된 노래             스탠딩 에그   \n",
       "8        3                                 딩가딩가 (Dingga)      마마무 (Mamamoo)   \n",
       "9       -1  Savage Love (Laxed - Siren Beat) (BTS Remix)          Jawsh 685   \n",
       "10      -1                  내 마음이 움찔했던 순간 (취향저격 그녀 X 규현)       규현 (KYUHYUN)   \n",
       "11      -1                  When We Disco (Duet with 선미)                박진영   \n",
       "12       2                               I CAN’T STOP ME       TWICE (트와이스)   \n",
       "13      -1                              눈누난나 (NUNU NANA)         제시 (Jessi)   \n",
       "14       4                      흔들리는 꽃들 속에서 네 샴푸향이 느껴진거야                장범준   \n",
       "15       0                             How You Like That          BLACKPINK   \n",
       "16       1                   에잇(Prod.&Feat. SUGA of BTS)                아이유   \n",
       "17      -1                                   마리아 (Maria)        화사 (Hwa Sa)   \n",
       "18      -5                                 놓아줘 (with 태연)              Crush   \n",
       "19       0                                       Dolphin  오마이걸 (OH MY GIRL)   \n",
       "20    -100                                     가을밤에 든 생각                잔나비   \n",
       "\n",
       "                                             album  \n",
       "rank                                                \n",
       "1                       Dynamite (DayTime Version)  \n",
       "2                                     힘든 건 사랑이 아니다  \n",
       "3                                        THE ALBUM  \n",
       "4                            취기를 빌려 (취향저격 그녀 X 산들)  \n",
       "5                                   DON'T TOUCH ME  \n",
       "6                                        잠이 오질 않네요  \n",
       "7                                           오래된 노래  \n",
       "8                                    딩가딩가 (Dingga)  \n",
       "9     Savage Love (Laxed - Siren Beat) [BTS Remix]  \n",
       "10                    내 마음이 움찔했던 순간 (취향저격 그녀 X 규현)  \n",
       "11                                   When We Disco  \n",
       "12                                  Eyes wide open  \n",
       "13                                            NUNA  \n",
       "14                               멜로가 체질 OST Part 3  \n",
       "15                               How You Like That  \n",
       "16                                              에잇  \n",
       "17                                           María  \n",
       "18                                        with HER  \n",
       "19                                         NONSTOP  \n",
       "20                                       잔나비 소곡집 l  "
      ],
      "text/html": "<div>\n<style scoped>\n    .dataframe tbody tr th:only-of-type {\n        vertical-align: middle;\n    }\n\n    .dataframe tbody tr th {\n        vertical-align: top;\n    }\n\n    .dataframe thead th {\n        text-align: right;\n    }\n</style>\n<table border=\"1\" class=\"dataframe\">\n  <thead>\n    <tr style=\"text-align: right;\">\n      <th></th>\n      <th>diff</th>\n      <th>title</th>\n      <th>singer</th>\n      <th>album</th>\n    </tr>\n    <tr>\n      <th>rank</th>\n      <th></th>\n      <th></th>\n      <th></th>\n      <th></th>\n    </tr>\n  </thead>\n  <tbody>\n    <tr>\n      <th>1</th>\n      <td>0</td>\n      <td>Dynamite</td>\n      <td>방탄소년단</td>\n      <td>Dynamite (DayTime Version)</td>\n    </tr>\n    <tr>\n      <th>2</th>\n      <td>1</td>\n      <td>힘든 건 사랑이 아니다</td>\n      <td>임창정</td>\n      <td>힘든 건 사랑이 아니다</td>\n    </tr>\n    <tr>\n      <th>3</th>\n      <td>-1</td>\n      <td>Lovesick Girls</td>\n      <td>BLACKPINK</td>\n      <td>THE ALBUM</td>\n    </tr>\n    <tr>\n      <th>4</th>\n      <td>1</td>\n      <td>취기를 빌려 (취향저격 그녀 X 산들)</td>\n      <td>산들</td>\n      <td>취기를 빌려 (취향저격 그녀 X 산들)</td>\n    </tr>\n    <tr>\n      <th>5</th>\n      <td>-1</td>\n      <td>DON'T TOUCH ME</td>\n      <td>환불원정대</td>\n      <td>DON'T TOUCH ME</td>\n    </tr>\n    <tr>\n      <th>6</th>\n      <td>0</td>\n      <td>잠이 오질 않네요</td>\n      <td>장범준</td>\n      <td>잠이 오질 않네요</td>\n    </tr>\n    <tr>\n      <th>7</th>\n      <td>0</td>\n      <td>오래된 노래</td>\n      <td>스탠딩 에그</td>\n      <td>오래된 노래</td>\n    </tr>\n    <tr>\n      <th>8</th>\n      <td>3</td>\n      <td>딩가딩가 (Dingga)</td>\n      <td>마마무 (Mamamoo)</td>\n      <td>딩가딩가 (Dingga)</td>\n    </tr>\n    <tr>\n      <th>9</th>\n      <td>-1</td>\n      <td>Savage Love (Laxed - Siren Beat) (BTS Remix)</td>\n      <td>Jawsh 685</td>\n      <td>Savage Love (Laxed - Siren Beat) [BTS Remix]</td>\n    </tr>\n    <tr>\n      <th>10</th>\n      <td>-1</td>\n      <td>내 마음이 움찔했던 순간 (취향저격 그녀 X 규현)</td>\n      <td>규현 (KYUHYUN)</td>\n      <td>내 마음이 움찔했던 순간 (취향저격 그녀 X 규현)</td>\n    </tr>\n    <tr>\n      <th>11</th>\n      <td>-1</td>\n      <td>When We Disco (Duet with 선미)</td>\n      <td>박진영</td>\n      <td>When We Disco</td>\n    </tr>\n    <tr>\n      <th>12</th>\n      <td>2</td>\n      <td>I CAN’T STOP ME</td>\n      <td>TWICE (트와이스)</td>\n      <td>Eyes wide open</td>\n    </tr>\n    <tr>\n      <th>13</th>\n      <td>-1</td>\n      <td>눈누난나 (NUNU NANA)</td>\n      <td>제시 (Jessi)</td>\n      <td>NUNA</td>\n    </tr>\n    <tr>\n      <th>14</th>\n      <td>4</td>\n      <td>흔들리는 꽃들 속에서 네 샴푸향이 느껴진거야</td>\n      <td>장범준</td>\n      <td>멜로가 체질 OST Part 3</td>\n    </tr>\n    <tr>\n      <th>15</th>\n      <td>0</td>\n      <td>How You Like That</td>\n      <td>BLACKPINK</td>\n      <td>How You Like That</td>\n    </tr>\n    <tr>\n      <th>16</th>\n      <td>1</td>\n      <td>에잇(Prod.&amp;Feat. SUGA of BTS)</td>\n      <td>아이유</td>\n      <td>에잇</td>\n    </tr>\n    <tr>\n      <th>17</th>\n      <td>-1</td>\n      <td>마리아 (Maria)</td>\n      <td>화사 (Hwa Sa)</td>\n      <td>María</td>\n    </tr>\n    <tr>\n      <th>18</th>\n      <td>-5</td>\n      <td>놓아줘 (with 태연)</td>\n      <td>Crush</td>\n      <td>with HER</td>\n    </tr>\n    <tr>\n      <th>19</th>\n      <td>0</td>\n      <td>Dolphin</td>\n      <td>오마이걸 (OH MY GIRL)</td>\n      <td>NONSTOP</td>\n    </tr>\n    <tr>\n      <th>20</th>\n      <td>-100</td>\n      <td>가을밤에 든 생각</td>\n      <td>잔나비</td>\n      <td>잔나비 소곡집 l</td>\n    </tr>\n  </tbody>\n</table>\n</div>"
     },
     "metadata": {},
     "execution_count": 111
    }
   ],
   "source": [
    "top100 = pd.DataFrame({\n",
    "    'rank': ranks,\n",
    "    'diff': diffs,\n",
    "    'title': titles,\n",
    "    'singer': singers,\n",
    "    'album': albums\n",
    "})\n",
    "top100 = top100.set_index('rank')\n",
    "print(f'기간: {start_day} ~ {last_day}')\n",
    "top100.head(20)"
   ]
  },
  {
   "cell_type": "code",
   "execution_count": null,
   "metadata": {},
   "outputs": [],
   "source": []
  }
 ]
}