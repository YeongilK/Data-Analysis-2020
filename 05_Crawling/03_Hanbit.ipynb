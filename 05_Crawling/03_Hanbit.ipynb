{
 "metadata": {
  "language_info": {
   "codemirror_mode": {
    "name": "ipython",
    "version": 3
   },
   "file_extension": ".py",
   "mimetype": "text/x-python",
   "name": "python",
   "nbconvert_exporter": "python",
   "pygments_lexer": "ipython3",
   "version": "3.8.3-final"
  },
  "orig_nbformat": 2,
  "kernelspec": {
   "name": "Python 3.8.3 64-bit ('base': conda)",
   "display_name": "Python 3.8.3 64-bit ('base': conda)",
   "metadata": {
    "interpreter": {
     "hash": "b3ba2566441a7c06988d0923437866b63cedc61552a5af99d1f4fb67d367b25f"
    }
   }
  }
 },
 "nbformat": 4,
 "nbformat_minor": 2,
 "cells": [
  {
   "cell_type": "markdown",
   "metadata": {},
   "source": [
    "# 한빛 출판 네트워크 - 새로 나온 책 크롤링"
   ]
  },
  {
   "cell_type": "code",
   "execution_count": 1,
   "metadata": {},
   "outputs": [],
   "source": [
    "from bs4 import BeautifulSoup\n",
    "import urllib.request\n",
    "import pandas as pd"
   ]
  },
  {
   "cell_type": "code",
   "execution_count": 2,
   "metadata": {},
   "outputs": [],
   "source": [
    "import requests\n",
    "url = 'https://www.hanbit.co.kr/academy/books/new_book_list.html?page=1'\n",
    "header = {'User-Agent': 'Mozilla/5.0 (Windows NT 6.3; Trident/7.0; rv:11.0) like Gecko'}\n",
    "req = requests.get(url, headers = header)\n",
    "html = req.text"
   ]
  },
  {
   "cell_type": "code",
   "execution_count": 3,
   "metadata": {},
   "outputs": [],
   "source": [
    "soup = BeautifulSoup(html, 'html.parser')"
   ]
  },
  {
   "cell_type": "markdown",
   "metadata": {},
   "source": [
    "## 1 Page"
   ]
  },
  {
   "cell_type": "code",
   "execution_count": 4,
   "metadata": {},
   "outputs": [
    {
     "output_type": "execute_result",
     "data": {
      "text/plain": [
       "20"
      ]
     },
     "metadata": {},
     "execution_count": 4
    }
   ],
   "source": [
    "book_list = soup.select('.sub_book_list')\n",
    "len(book_list)"
   ]
  },
  {
   "cell_type": "markdown",
   "metadata": {},
   "source": [
    "#### 가격 찾기"
   ]
  },
  {
   "cell_type": "code",
   "execution_count": 5,
   "metadata": {},
   "outputs": [
    {
     "output_type": "execute_result",
     "data": {
      "text/plain": [
       "'32,000원'"
      ]
     },
     "metadata": {},
     "execution_count": 5
    }
   ],
   "source": [
    "price = book_list[0].select_one('.price')\n",
    "price.get_text()"
   ]
  },
  {
   "cell_type": "markdown",
   "metadata": {},
   "source": [
    "#### 제목 찾기"
   ]
  },
  {
   "cell_type": "code",
   "execution_count": 6,
   "metadata": {},
   "outputs": [
    {
     "output_type": "execute_result",
     "data": {
      "text/plain": [
       "'포르잔 C++ 에센셜'"
      ]
     },
     "metadata": {},
     "execution_count": 6
    }
   ],
   "source": [
    "title = book_list[0].select_one('.book_tit')\n",
    "title.get_text()"
   ]
  },
  {
   "cell_type": "markdown",
   "metadata": {},
   "source": [
    "#### 저자 찾기"
   ]
  },
  {
   "cell_type": "code",
   "execution_count": 7,
   "metadata": {},
   "outputs": [
    {
     "output_type": "execute_result",
     "data": {
      "text/plain": [
       "'Behrouz A. Forouzan , Richard F. Gilberg '"
      ]
     },
     "metadata": {},
     "execution_count": 7
    }
   ],
   "source": [
    "writer = book_list[0].select_one('.book_writer')\n",
    "writer.get_text()"
   ]
  },
  {
   "cell_type": "markdown",
   "metadata": {},
   "source": [
    "#### 데이터프레임으로 만들기"
   ]
  },
  {
   "cell_type": "code",
   "execution_count": 8,
   "metadata": {},
   "outputs": [],
   "source": [
    "prices = []; titles = []; writers = []"
   ]
  },
  {
   "cell_type": "code",
   "execution_count": 9,
   "metadata": {},
   "outputs": [],
   "source": [
    "book_list = soup.select('.sub_book_list')\n",
    "\n",
    "for book in book_list:\n",
    "    price = book.select_one('.price').get_text()\n",
    "    title = book.select_one('.book_tit').get_text()\n",
    "    writer = book.select_one('.book_writer').get_text()\n",
    "\n",
    "    prices.append(price); titles.append(title); writers.append(writer)"
   ]
  },
  {
   "cell_type": "code",
   "execution_count": 10,
   "metadata": {},
   "outputs": [
    {
     "output_type": "execute_result",
     "data": {
      "text/plain": [
       "      price                                      title  \\\n",
       "0   32,000원                                포르잔 C++ 에센셜   \n",
       "1   28,000원   IT CookBook, 액세스 2019로 배우는 데이터베이스 기초와 실습   \n",
       "2   45,000원                                포르잔 C++ 바이블   \n",
       "3   38,000원                              딥러닝을 위한 선형대수학   \n",
       "4   29,000원    IT CookBook, 오라클로 배우는 데이터베이스 개론과 실습(2판)   \n",
       "5   18,000원                             대학을 버려야 대학이 산다   \n",
       "6   28,000원              IT CookBook, 따라 하면서 배우는 사물인터넷   \n",
       "7   32,000원            R로 하는 다변량 데이터 분석 : 이론부터 실무 활용까지   \n",
       "8   23,000원                               창의적 공학설계(3판)   \n",
       "9   23,000원            공학 핵심수학(2판)  : 기초부터 심화까지 핵심만 쏙쏙   \n",
       "10  31,000원     응용이 보이는 선형대수학 : 파이썬과 함께하는 선형대수학 이론과 응용   \n",
       "11  29,000원           IT CookBook, 초연결 사회의 데이터통신과 네트워킹   \n",
       "12  30,000원          IT CookBook, 쉽게 배우는 MFC 윈도우 프로그래밍   \n",
       "13  27,000원         IT CookBook, 인공지능 시대를 위한 컴퓨터 과학 개론   \n",
       "14  34,000원          IT CookBook, 코틀린을 활용한 안드로이드 프로그래밍   \n",
       "15  25,000원                 IT CookBook, 처음 만나는 신재생에너지   \n",
       "16  35,000원                                프리드버그 선형대수학   \n",
       "17  32,000원                    IT CookBook, CentOS 리눅스   \n",
       "18  49,000원  Microeconomics, 6th Edition, Asia Edition   \n",
       "19  26,000원                               누구나 파이썬 통계분석   \n",
       "\n",
       "                                       writer  \n",
       "0   Behrouz A. Forouzan , Richard F. Gilberg   \n",
       "1                                        김지연   \n",
       "2   Behrouz A. Forouzan , Richard F. Gilberg   \n",
       "3                             Gilbert Strang   \n",
       "4                            박우창 , 남송휘 , 이현룡   \n",
       "5                        조동성 외 인천대학교 가족 178명   \n",
       "6                                        양재삼   \n",
       "7              카와하시 잇코 , 이와마 노리카즈 , 스즈키 마사유키   \n",
       "8                                        김은경   \n",
       "9                                        함남우   \n",
       "10                                       이건명   \n",
       "11                                       강문식   \n",
       "12                                 김선우 , 신화선   \n",
       "13                                       정기철   \n",
       "14                                 우재남 , 유혜림   \n",
       "15                                       김지홍   \n",
       "16     스티븐 H. 프리드버그 , 아놀드 J. 인셀 , 로렌스 E. 스펜스   \n",
       "17                                       이종원   \n",
       "18         David Besanko , Ronald Braeutigam   \n",
       "19                                  타니아이 히로키   "
      ],
      "text/html": "<div>\n<style scoped>\n    .dataframe tbody tr th:only-of-type {\n        vertical-align: middle;\n    }\n\n    .dataframe tbody tr th {\n        vertical-align: top;\n    }\n\n    .dataframe thead th {\n        text-align: right;\n    }\n</style>\n<table border=\"1\" class=\"dataframe\">\n  <thead>\n    <tr style=\"text-align: right;\">\n      <th></th>\n      <th>price</th>\n      <th>title</th>\n      <th>writer</th>\n    </tr>\n  </thead>\n  <tbody>\n    <tr>\n      <th>0</th>\n      <td>32,000원</td>\n      <td>포르잔 C++ 에센셜</td>\n      <td>Behrouz A. Forouzan , Richard F. Gilberg</td>\n    </tr>\n    <tr>\n      <th>1</th>\n      <td>28,000원</td>\n      <td>IT CookBook, 액세스 2019로 배우는 데이터베이스 기초와 실습</td>\n      <td>김지연</td>\n    </tr>\n    <tr>\n      <th>2</th>\n      <td>45,000원</td>\n      <td>포르잔 C++ 바이블</td>\n      <td>Behrouz A. Forouzan , Richard F. Gilberg</td>\n    </tr>\n    <tr>\n      <th>3</th>\n      <td>38,000원</td>\n      <td>딥러닝을 위한 선형대수학</td>\n      <td>Gilbert Strang</td>\n    </tr>\n    <tr>\n      <th>4</th>\n      <td>29,000원</td>\n      <td>IT CookBook, 오라클로 배우는 데이터베이스 개론과 실습(2판)</td>\n      <td>박우창 , 남송휘 , 이현룡</td>\n    </tr>\n    <tr>\n      <th>5</th>\n      <td>18,000원</td>\n      <td>대학을 버려야 대학이 산다</td>\n      <td>조동성 외 인천대학교 가족 178명</td>\n    </tr>\n    <tr>\n      <th>6</th>\n      <td>28,000원</td>\n      <td>IT CookBook, 따라 하면서 배우는 사물인터넷</td>\n      <td>양재삼</td>\n    </tr>\n    <tr>\n      <th>7</th>\n      <td>32,000원</td>\n      <td>R로 하는 다변량 데이터 분석 : 이론부터 실무 활용까지</td>\n      <td>카와하시 잇코 , 이와마 노리카즈 , 스즈키 마사유키</td>\n    </tr>\n    <tr>\n      <th>8</th>\n      <td>23,000원</td>\n      <td>창의적 공학설계(3판)</td>\n      <td>김은경</td>\n    </tr>\n    <tr>\n      <th>9</th>\n      <td>23,000원</td>\n      <td>공학 핵심수학(2판)  : 기초부터 심화까지 핵심만 쏙쏙</td>\n      <td>함남우</td>\n    </tr>\n    <tr>\n      <th>10</th>\n      <td>31,000원</td>\n      <td>응용이 보이는 선형대수학 : 파이썬과 함께하는 선형대수학 이론과 응용</td>\n      <td>이건명</td>\n    </tr>\n    <tr>\n      <th>11</th>\n      <td>29,000원</td>\n      <td>IT CookBook, 초연결 사회의 데이터통신과 네트워킹</td>\n      <td>강문식</td>\n    </tr>\n    <tr>\n      <th>12</th>\n      <td>30,000원</td>\n      <td>IT CookBook, 쉽게 배우는 MFC 윈도우 프로그래밍</td>\n      <td>김선우 , 신화선</td>\n    </tr>\n    <tr>\n      <th>13</th>\n      <td>27,000원</td>\n      <td>IT CookBook, 인공지능 시대를 위한 컴퓨터 과학 개론</td>\n      <td>정기철</td>\n    </tr>\n    <tr>\n      <th>14</th>\n      <td>34,000원</td>\n      <td>IT CookBook, 코틀린을 활용한 안드로이드 프로그래밍</td>\n      <td>우재남 , 유혜림</td>\n    </tr>\n    <tr>\n      <th>15</th>\n      <td>25,000원</td>\n      <td>IT CookBook, 처음 만나는 신재생에너지</td>\n      <td>김지홍</td>\n    </tr>\n    <tr>\n      <th>16</th>\n      <td>35,000원</td>\n      <td>프리드버그 선형대수학</td>\n      <td>스티븐 H. 프리드버그 , 아놀드 J. 인셀 , 로렌스 E. 스펜스</td>\n    </tr>\n    <tr>\n      <th>17</th>\n      <td>32,000원</td>\n      <td>IT CookBook, CentOS 리눅스</td>\n      <td>이종원</td>\n    </tr>\n    <tr>\n      <th>18</th>\n      <td>49,000원</td>\n      <td>Microeconomics, 6th Edition, Asia Edition</td>\n      <td>David Besanko , Ronald Braeutigam</td>\n    </tr>\n    <tr>\n      <th>19</th>\n      <td>26,000원</td>\n      <td>누구나 파이썬 통계분석</td>\n      <td>타니아이 히로키</td>\n    </tr>\n  </tbody>\n</table>\n</div>"
     },
     "metadata": {},
     "execution_count": 10
    }
   ],
   "source": [
    "books_page1 = pd.DataFrame({\n",
    "    'price': prices,\n",
    "    'title': titles,\n",
    "    'writer': writers\n",
    "})\n",
    "books_page1"
   ]
  },
  {
   "cell_type": "markdown",
   "metadata": {},
   "source": [
    "## 1 ~ 10 page"
   ]
  },
  {
   "cell_type": "code",
   "execution_count": 11,
   "metadata": {},
   "outputs": [],
   "source": [
    "base_url = 'https://www.hanbit.co.kr/academy/books/new_book_list.html?page='\n",
    "page = '1'\n",
    "web_url = base_url + page\n",
    "header = {'User-Agent': 'Mozilla/5.0 (Windows NT 6.3; Trident/7.0; rv:11.0) like Gecko'}\n",
    "req = requests.get(web_url, headers = header)\n",
    "html = req.text"
   ]
  },
  {
   "cell_type": "code",
   "execution_count": 12,
   "metadata": {},
   "outputs": [],
   "source": [
    "soup = BeautifulSoup(html, 'html.parser')"
   ]
  },
  {
   "cell_type": "code",
   "execution_count": 13,
   "metadata": {},
   "outputs": [
    {
     "output_type": "execute_result",
     "data": {
      "text/plain": [
       "10"
      ]
     },
     "metadata": {},
     "execution_count": 13
    }
   ],
   "source": [
    "lis = soup.select_one('.paginate')\n",
    "pages = lis.find_all('a')\n",
    "len(pages)"
   ]
  },
  {
   "cell_type": "code",
   "execution_count": 14,
   "metadata": {},
   "outputs": [],
   "source": [
    "prices = []; titles = []; writers = []"
   ]
  },
  {
   "cell_type": "code",
   "execution_count": 15,
   "metadata": {},
   "outputs": [],
   "source": [
    "for i in range(len(pages)):\n",
    "    base_url = 'https://www.hanbit.co.kr/academy/books/new_book_list.html?page='\n",
    "    page = str(i+1)\n",
    "    web_url = base_url + page\n",
    "    req = requests.get(web_url, headers = header)\n",
    "    html = req.text\n",
    "    soup = BeautifulSoup(html, 'html.parser')\n",
    "    book_list = soup.select('.sub_book_list')\n",
    "\n",
    "    for book in book_list:\n",
    "        price = book.select_one('.price').get_text()\n",
    "        title = book.select_one('.book_tit').get_text()\n",
    "        writer = book.select_one('.book_writer').get_text()\n",
    "\n",
    "        prices.append(price); titles.append(title); writers.append(writer)"
   ]
  },
  {
   "cell_type": "code",
   "execution_count": 16,
   "metadata": {},
   "outputs": [
    {
     "output_type": "execute_result",
     "data": {
      "text/plain": [
       "      price                                             title  \\\n",
       "0   32,000원                                       포르잔 C++ 에센셜   \n",
       "1   28,000원          IT CookBook, 액세스 2019로 배우는 데이터베이스 기초와 실습   \n",
       "2   45,000원                                       포르잔 C++ 바이블   \n",
       "3   38,000원                                     딥러닝을 위한 선형대수학   \n",
       "4   29,000원           IT CookBook, 오라클로 배우는 데이터베이스 개론과 실습(2판)   \n",
       "5   18,000원                                    대학을 버려야 대학이 산다   \n",
       "6   28,000원                     IT CookBook, 따라 하면서 배우는 사물인터넷   \n",
       "7   32,000원                   R로 하는 다변량 데이터 분석 : 이론부터 실무 활용까지   \n",
       "8   23,000원                                      창의적 공학설계(3판)   \n",
       "9   23,000원                   공학 핵심수학(2판)  : 기초부터 심화까지 핵심만 쏙쏙   \n",
       "10  31,000원            응용이 보이는 선형대수학 : 파이썬과 함께하는 선형대수학 이론과 응용   \n",
       "11  29,000원                  IT CookBook, 초연결 사회의 데이터통신과 네트워킹   \n",
       "12  30,000원                 IT CookBook, 쉽게 배우는 MFC 윈도우 프로그래밍   \n",
       "13  27,000원                IT CookBook, 인공지능 시대를 위한 컴퓨터 과학 개론   \n",
       "14  34,000원                 IT CookBook, 코틀린을 활용한 안드로이드 프로그래밍   \n",
       "15  25,000원                        IT CookBook, 처음 만나는 신재생에너지   \n",
       "16  35,000원                                       프리드버그 선형대수학   \n",
       "17  32,000원                           IT CookBook, CentOS 리눅스   \n",
       "18  49,000원         Microeconomics, 6th Edition, Asia Edition   \n",
       "19  26,000원                                      누구나 파이썬 통계분석   \n",
       "20  29,000원                           제대로 배우는 MATLAB&Simulink   \n",
       "21  25,000원                           공학도를 위한 경영 : 4차 산업혁명 시대   \n",
       "22  24,000원        SWedu 011, 앱 인벤터(2판) : 쉽고 재미있게 만드는 앱 프로그래밍   \n",
       "23  27,000원   IT CookBook, 컴파일러의 이해 : 내공 있는 프로그래머로 길러주는 (증보판)   \n",
       "24  28,000원                        (2020) 완벽분석! 사회조사분석사 2급 실기   \n",
       "25  32,000원    IT CookBook, 운영체제론 : Operating Systems, 3rd Ed   \n",
       "26  20,000원                      기초수학 : Basic Mathematics(2판)   \n",
       "27  29,000원  IT CookBook, Android Studio를 활용한 안드로이드 프로그래밍(5판)   \n",
       "28  25,000원                   IT CookBook, 4차 산업혁명 시대의 정보통신개론   \n",
       "29  28,000원                            IT CookBook, C 언어 일취월장   \n",
       "30  27,000원          IT CookBook, UI 디자인과 프로토타이핑을 위한 Adobe XD   \n",
       "31  28,000원       IT CookBook, UI/UX 디자인 이론과 실습 with Adobe XD   \n",
       "32  24,000원          IT CookBook, 객체 지향 설계와 분석을 위한 UML 기초와 응용   \n",
       "33  24,000원                  IT CookBook, 리눅스 실습 for Beginner   \n",
       "34  25,000원                      IT CookBook, 비주얼 베이직 2019 입문   \n",
       "35  21,000원                     IT CookBook, 스크래치로 배우는 컴퓨팅 사고   \n",
       "36  21,000원                       IT CookBook, 엑셀로 배우는 데이터 분석   \n",
       "37  26,000원                    IT CookBook, 초연결 사회를 위한 컴퓨터 개론   \n",
       "38  23,000원                 IT CookBook, 파이썬 for Beginner(2판)   \n",
       "39  28,000원                             NO BULLSHIT 선형대수학 가이드   \n",
       "\n",
       "                                       writer  \n",
       "0   Behrouz A. Forouzan , Richard F. Gilberg   \n",
       "1                                        김지연   \n",
       "2   Behrouz A. Forouzan , Richard F. Gilberg   \n",
       "3                             Gilbert Strang   \n",
       "4                            박우창 , 남송휘 , 이현룡   \n",
       "5                        조동성 외 인천대학교 가족 178명   \n",
       "6                                        양재삼   \n",
       "7              카와하시 잇코 , 이와마 노리카즈 , 스즈키 마사유키   \n",
       "8                                        김은경   \n",
       "9                                        함남우   \n",
       "10                                       이건명   \n",
       "11                                       강문식   \n",
       "12                                 김선우 , 신화선   \n",
       "13                                       정기철   \n",
       "14                                 우재남 , 유혜림   \n",
       "15                                       김지홍   \n",
       "16     스티븐 H. 프리드버그 , 아놀드 J. 인셀 , 로렌스 E. 스펜스   \n",
       "17                                       이종원   \n",
       "18         David Besanko , Ronald Braeutigam   \n",
       "19                                  타니아이 히로키   \n",
       "20                                       방성완   \n",
       "21                                       하귀룡   \n",
       "22                                       이종원   \n",
       "23                                       박두순   \n",
       "24                           노경섭 , 김성일 , 김기만   \n",
       "25                    하비 디텔 , 폴 디텔 , 데이빗 쇼픈스   \n",
       "26                                       이재원   \n",
       "27                                 우재남 , 박길식   \n",
       "28                                       고응남   \n",
       "29                                       신윤환   \n",
       "30                                       이영주   \n",
       "31                                       이영주   \n",
       "32                                 한정수 , 김귀정   \n",
       "33                                       우재남   \n",
       "34                                       임관철   \n",
       "35                                 조성호 , 고광일   \n",
       "36                                       박주미   \n",
       "37                                       조성호   \n",
       "38                                       우재남   \n",
       "39                                Ivan Savov   "
      ],
      "text/html": "<div>\n<style scoped>\n    .dataframe tbody tr th:only-of-type {\n        vertical-align: middle;\n    }\n\n    .dataframe tbody tr th {\n        vertical-align: top;\n    }\n\n    .dataframe thead th {\n        text-align: right;\n    }\n</style>\n<table border=\"1\" class=\"dataframe\">\n  <thead>\n    <tr style=\"text-align: right;\">\n      <th></th>\n      <th>price</th>\n      <th>title</th>\n      <th>writer</th>\n    </tr>\n  </thead>\n  <tbody>\n    <tr>\n      <th>0</th>\n      <td>32,000원</td>\n      <td>포르잔 C++ 에센셜</td>\n      <td>Behrouz A. Forouzan , Richard F. Gilberg</td>\n    </tr>\n    <tr>\n      <th>1</th>\n      <td>28,000원</td>\n      <td>IT CookBook, 액세스 2019로 배우는 데이터베이스 기초와 실습</td>\n      <td>김지연</td>\n    </tr>\n    <tr>\n      <th>2</th>\n      <td>45,000원</td>\n      <td>포르잔 C++ 바이블</td>\n      <td>Behrouz A. Forouzan , Richard F. Gilberg</td>\n    </tr>\n    <tr>\n      <th>3</th>\n      <td>38,000원</td>\n      <td>딥러닝을 위한 선형대수학</td>\n      <td>Gilbert Strang</td>\n    </tr>\n    <tr>\n      <th>4</th>\n      <td>29,000원</td>\n      <td>IT CookBook, 오라클로 배우는 데이터베이스 개론과 실습(2판)</td>\n      <td>박우창 , 남송휘 , 이현룡</td>\n    </tr>\n    <tr>\n      <th>5</th>\n      <td>18,000원</td>\n      <td>대학을 버려야 대학이 산다</td>\n      <td>조동성 외 인천대학교 가족 178명</td>\n    </tr>\n    <tr>\n      <th>6</th>\n      <td>28,000원</td>\n      <td>IT CookBook, 따라 하면서 배우는 사물인터넷</td>\n      <td>양재삼</td>\n    </tr>\n    <tr>\n      <th>7</th>\n      <td>32,000원</td>\n      <td>R로 하는 다변량 데이터 분석 : 이론부터 실무 활용까지</td>\n      <td>카와하시 잇코 , 이와마 노리카즈 , 스즈키 마사유키</td>\n    </tr>\n    <tr>\n      <th>8</th>\n      <td>23,000원</td>\n      <td>창의적 공학설계(3판)</td>\n      <td>김은경</td>\n    </tr>\n    <tr>\n      <th>9</th>\n      <td>23,000원</td>\n      <td>공학 핵심수학(2판)  : 기초부터 심화까지 핵심만 쏙쏙</td>\n      <td>함남우</td>\n    </tr>\n    <tr>\n      <th>10</th>\n      <td>31,000원</td>\n      <td>응용이 보이는 선형대수학 : 파이썬과 함께하는 선형대수학 이론과 응용</td>\n      <td>이건명</td>\n    </tr>\n    <tr>\n      <th>11</th>\n      <td>29,000원</td>\n      <td>IT CookBook, 초연결 사회의 데이터통신과 네트워킹</td>\n      <td>강문식</td>\n    </tr>\n    <tr>\n      <th>12</th>\n      <td>30,000원</td>\n      <td>IT CookBook, 쉽게 배우는 MFC 윈도우 프로그래밍</td>\n      <td>김선우 , 신화선</td>\n    </tr>\n    <tr>\n      <th>13</th>\n      <td>27,000원</td>\n      <td>IT CookBook, 인공지능 시대를 위한 컴퓨터 과학 개론</td>\n      <td>정기철</td>\n    </tr>\n    <tr>\n      <th>14</th>\n      <td>34,000원</td>\n      <td>IT CookBook, 코틀린을 활용한 안드로이드 프로그래밍</td>\n      <td>우재남 , 유혜림</td>\n    </tr>\n    <tr>\n      <th>15</th>\n      <td>25,000원</td>\n      <td>IT CookBook, 처음 만나는 신재생에너지</td>\n      <td>김지홍</td>\n    </tr>\n    <tr>\n      <th>16</th>\n      <td>35,000원</td>\n      <td>프리드버그 선형대수학</td>\n      <td>스티븐 H. 프리드버그 , 아놀드 J. 인셀 , 로렌스 E. 스펜스</td>\n    </tr>\n    <tr>\n      <th>17</th>\n      <td>32,000원</td>\n      <td>IT CookBook, CentOS 리눅스</td>\n      <td>이종원</td>\n    </tr>\n    <tr>\n      <th>18</th>\n      <td>49,000원</td>\n      <td>Microeconomics, 6th Edition, Asia Edition</td>\n      <td>David Besanko , Ronald Braeutigam</td>\n    </tr>\n    <tr>\n      <th>19</th>\n      <td>26,000원</td>\n      <td>누구나 파이썬 통계분석</td>\n      <td>타니아이 히로키</td>\n    </tr>\n    <tr>\n      <th>20</th>\n      <td>29,000원</td>\n      <td>제대로 배우는 MATLAB&amp;Simulink</td>\n      <td>방성완</td>\n    </tr>\n    <tr>\n      <th>21</th>\n      <td>25,000원</td>\n      <td>공학도를 위한 경영 : 4차 산업혁명 시대</td>\n      <td>하귀룡</td>\n    </tr>\n    <tr>\n      <th>22</th>\n      <td>24,000원</td>\n      <td>SWedu 011, 앱 인벤터(2판) : 쉽고 재미있게 만드는 앱 프로그래밍</td>\n      <td>이종원</td>\n    </tr>\n    <tr>\n      <th>23</th>\n      <td>27,000원</td>\n      <td>IT CookBook, 컴파일러의 이해 : 내공 있는 프로그래머로 길러주는 (증보판)</td>\n      <td>박두순</td>\n    </tr>\n    <tr>\n      <th>24</th>\n      <td>28,000원</td>\n      <td>(2020) 완벽분석! 사회조사분석사 2급 실기</td>\n      <td>노경섭 , 김성일 , 김기만</td>\n    </tr>\n    <tr>\n      <th>25</th>\n      <td>32,000원</td>\n      <td>IT CookBook, 운영체제론 : Operating Systems, 3rd Ed</td>\n      <td>하비 디텔 , 폴 디텔 , 데이빗 쇼픈스</td>\n    </tr>\n    <tr>\n      <th>26</th>\n      <td>20,000원</td>\n      <td>기초수학 : Basic Mathematics(2판)</td>\n      <td>이재원</td>\n    </tr>\n    <tr>\n      <th>27</th>\n      <td>29,000원</td>\n      <td>IT CookBook, Android Studio를 활용한 안드로이드 프로그래밍(5판)</td>\n      <td>우재남 , 박길식</td>\n    </tr>\n    <tr>\n      <th>28</th>\n      <td>25,000원</td>\n      <td>IT CookBook, 4차 산업혁명 시대의 정보통신개론</td>\n      <td>고응남</td>\n    </tr>\n    <tr>\n      <th>29</th>\n      <td>28,000원</td>\n      <td>IT CookBook, C 언어 일취월장</td>\n      <td>신윤환</td>\n    </tr>\n    <tr>\n      <th>30</th>\n      <td>27,000원</td>\n      <td>IT CookBook, UI 디자인과 프로토타이핑을 위한 Adobe XD</td>\n      <td>이영주</td>\n    </tr>\n    <tr>\n      <th>31</th>\n      <td>28,000원</td>\n      <td>IT CookBook, UI/UX 디자인 이론과 실습 with Adobe XD</td>\n      <td>이영주</td>\n    </tr>\n    <tr>\n      <th>32</th>\n      <td>24,000원</td>\n      <td>IT CookBook, 객체 지향 설계와 분석을 위한 UML 기초와 응용</td>\n      <td>한정수 , 김귀정</td>\n    </tr>\n    <tr>\n      <th>33</th>\n      <td>24,000원</td>\n      <td>IT CookBook, 리눅스 실습 for Beginner</td>\n      <td>우재남</td>\n    </tr>\n    <tr>\n      <th>34</th>\n      <td>25,000원</td>\n      <td>IT CookBook, 비주얼 베이직 2019 입문</td>\n      <td>임관철</td>\n    </tr>\n    <tr>\n      <th>35</th>\n      <td>21,000원</td>\n      <td>IT CookBook, 스크래치로 배우는 컴퓨팅 사고</td>\n      <td>조성호 , 고광일</td>\n    </tr>\n    <tr>\n      <th>36</th>\n      <td>21,000원</td>\n      <td>IT CookBook, 엑셀로 배우는 데이터 분석</td>\n      <td>박주미</td>\n    </tr>\n    <tr>\n      <th>37</th>\n      <td>26,000원</td>\n      <td>IT CookBook, 초연결 사회를 위한 컴퓨터 개론</td>\n      <td>조성호</td>\n    </tr>\n    <tr>\n      <th>38</th>\n      <td>23,000원</td>\n      <td>IT CookBook, 파이썬 for Beginner(2판)</td>\n      <td>우재남</td>\n    </tr>\n    <tr>\n      <th>39</th>\n      <td>28,000원</td>\n      <td>NO BULLSHIT 선형대수학 가이드</td>\n      <td>Ivan Savov</td>\n    </tr>\n  </tbody>\n</table>\n</div>"
     },
     "metadata": {},
     "execution_count": 16
    }
   ],
   "source": [
    "books_page10 = pd.DataFrame({\n",
    "    'price': prices,\n",
    "    'title': titles,\n",
    "    'writer': writers\n",
    "})\n",
    "books_page10.head(40)"
   ]
  },
  {
   "cell_type": "markdown",
   "metadata": {},
   "source": [
    "## 모든 페이지(~ 16 page) "
   ]
  },
  {
   "cell_type": "code",
   "execution_count": 68,
   "metadata": {},
   "outputs": [],
   "source": [
    "prices = []; titles = []; writers = []"
   ]
  },
  {
   "cell_type": "code",
   "execution_count": 69,
   "metadata": {},
   "outputs": [],
   "source": [
    "for i in range(16):\n",
    "    base_url = 'https://www.hanbit.co.kr/academy/books/new_book_list.html?page='\n",
    "    page = str(i+1)\n",
    "    web_url = base_url + page\n",
    "    req = requests.get(web_url, headers = header)\n",
    "    html = req.text\n",
    "    soup = BeautifulSoup(html, 'html.parser')\n",
    "    book_list = soup.select('.sub_book_list')\n",
    "\n",
    "    for book in book_list:\n",
    "        price = book.select_one('.price').get_text()[:-1]\n",
    "        price = int(price.replace(\",\", \"\"))\n",
    "        title = book.select_one('.book_tit').get_text()\n",
    "        writer = book.select_one('.book_writer').get_text()\n",
    "\n",
    "        prices.append(price); titles.append(title); writers.append(writer)"
   ]
  },
  {
   "cell_type": "code",
   "execution_count": 70,
   "metadata": {},
   "outputs": [
    {
     "output_type": "execute_result",
     "data": {
      "text/plain": [
       "     price                                              title  \\\n",
       "0    32000                                        포르잔 C++ 에센셜   \n",
       "1    28000           IT CookBook, 액세스 2019로 배우는 데이터베이스 기초와 실습   \n",
       "2    45000                                        포르잔 C++ 바이블   \n",
       "3    38000                                      딥러닝을 위한 선형대수학   \n",
       "4    29000            IT CookBook, 오라클로 배우는 데이터베이스 개론과 실습(2판)   \n",
       "..     ...                                                ...   \n",
       "296  18000                      문제해결력을 키우는 이공계 글쓰기 : 발표와 토론까지   \n",
       "297  20000                진로개발과 직업세계 : 대학생과 청년층을 위한 진로, 취업지침서   \n",
       "298  36000                                 Essential Calculus   \n",
       "299  25000  IT CookBook, 디지털 통신 시스템 : Digital Communicatio...   \n",
       "300  32000     IT CookBook, 운영체제론 : Operating Systems, 3rd Ed   \n",
       "\n",
       "                                        writer  \n",
       "0    Behrouz A. Forouzan , Richard F. Gilberg   \n",
       "1                                         김지연   \n",
       "2    Behrouz A. Forouzan , Richard F. Gilberg   \n",
       "3                              Gilbert Strang   \n",
       "4                             박우창 , 남송휘 , 이현룡   \n",
       "..                                         ...  \n",
       "296                                       한성우   \n",
       "297                     서일수 , 김도균 , 김지혜 , 이정배   \n",
       "298                             James Stewart   \n",
       "299                                 정호영 , 임승각   \n",
       "300                    하비 디텔 , 폴 디텔 , 데이빗 쇼픈스   \n",
       "\n",
       "[301 rows x 3 columns]"
      ],
      "text/html": "<div>\n<style scoped>\n    .dataframe tbody tr th:only-of-type {\n        vertical-align: middle;\n    }\n\n    .dataframe tbody tr th {\n        vertical-align: top;\n    }\n\n    .dataframe thead th {\n        text-align: right;\n    }\n</style>\n<table border=\"1\" class=\"dataframe\">\n  <thead>\n    <tr style=\"text-align: right;\">\n      <th></th>\n      <th>price</th>\n      <th>title</th>\n      <th>writer</th>\n    </tr>\n  </thead>\n  <tbody>\n    <tr>\n      <th>0</th>\n      <td>32000</td>\n      <td>포르잔 C++ 에센셜</td>\n      <td>Behrouz A. Forouzan , Richard F. Gilberg</td>\n    </tr>\n    <tr>\n      <th>1</th>\n      <td>28000</td>\n      <td>IT CookBook, 액세스 2019로 배우는 데이터베이스 기초와 실습</td>\n      <td>김지연</td>\n    </tr>\n    <tr>\n      <th>2</th>\n      <td>45000</td>\n      <td>포르잔 C++ 바이블</td>\n      <td>Behrouz A. Forouzan , Richard F. Gilberg</td>\n    </tr>\n    <tr>\n      <th>3</th>\n      <td>38000</td>\n      <td>딥러닝을 위한 선형대수학</td>\n      <td>Gilbert Strang</td>\n    </tr>\n    <tr>\n      <th>4</th>\n      <td>29000</td>\n      <td>IT CookBook, 오라클로 배우는 데이터베이스 개론과 실습(2판)</td>\n      <td>박우창 , 남송휘 , 이현룡</td>\n    </tr>\n    <tr>\n      <th>...</th>\n      <td>...</td>\n      <td>...</td>\n      <td>...</td>\n    </tr>\n    <tr>\n      <th>296</th>\n      <td>18000</td>\n      <td>문제해결력을 키우는 이공계 글쓰기 : 발표와 토론까지</td>\n      <td>한성우</td>\n    </tr>\n    <tr>\n      <th>297</th>\n      <td>20000</td>\n      <td>진로개발과 직업세계 : 대학생과 청년층을 위한 진로, 취업지침서</td>\n      <td>서일수 , 김도균 , 김지혜 , 이정배</td>\n    </tr>\n    <tr>\n      <th>298</th>\n      <td>36000</td>\n      <td>Essential Calculus</td>\n      <td>James Stewart</td>\n    </tr>\n    <tr>\n      <th>299</th>\n      <td>25000</td>\n      <td>IT CookBook, 디지털 통신 시스템 : Digital Communicatio...</td>\n      <td>정호영 , 임승각</td>\n    </tr>\n    <tr>\n      <th>300</th>\n      <td>32000</td>\n      <td>IT CookBook, 운영체제론 : Operating Systems, 3rd Ed</td>\n      <td>하비 디텔 , 폴 디텔 , 데이빗 쇼픈스</td>\n    </tr>\n  </tbody>\n</table>\n<p>301 rows × 3 columns</p>\n</div>"
     },
     "metadata": {},
     "execution_count": 70
    }
   ],
   "source": [
    "books = pd.DataFrame({\n",
    "    'price': prices,\n",
    "    'title': titles,\n",
    "    'writer': writers\n",
    "})\n",
    "books"
   ]
  },
  {
   "cell_type": "code",
   "execution_count": 71,
   "metadata": {},
   "outputs": [],
   "source": [
    "books.to_csv('../input/books1.csv', sep=',', encoding='utf8')"
   ]
  },
  {
   "cell_type": "markdown",
   "metadata": {},
   "source": [
    "## 책 상세정보"
   ]
  },
  {
   "cell_type": "code",
   "execution_count": 21,
   "metadata": {},
   "outputs": [],
   "source": [
    "url = 'https://www.hanbit.co.kr/academy/books/book_view.html?p_code=B4797877052'\n",
    "header = {'User-Agent': 'Mozilla/5.0 (Windows NT 6.3; Trident/7.0; rv:11.0) like Gecko'}\n",
    "req = requests.get(url, headers = header)\n",
    "html = req.text"
   ]
  },
  {
   "cell_type": "code",
   "execution_count": 22,
   "metadata": {},
   "outputs": [],
   "source": [
    "soup = BeautifulSoup(html, 'html.parser')"
   ]
  },
  {
   "cell_type": "code",
   "execution_count": 23,
   "metadata": {},
   "outputs": [],
   "source": [
    "product_info = soup.select_one('.store_product_info_box')"
   ]
  },
  {
   "cell_type": "markdown",
   "metadata": {},
   "source": [
    "#### 제목 찾기"
   ]
  },
  {
   "cell_type": "code",
   "execution_count": 24,
   "metadata": {},
   "outputs": [
    {
     "output_type": "execute_result",
     "data": {
      "text/plain": [
       "'포르잔 C++ 에센셜'"
      ]
     },
     "metadata": {},
     "execution_count": 24
    }
   ],
   "source": [
    "product_info.find('h3').get_text()"
   ]
  },
  {
   "cell_type": "markdown",
   "metadata": {},
   "source": [
    "#### 저자 찾기"
   ]
  },
  {
   "cell_type": "code",
   "execution_count": 25,
   "metadata": {},
   "outputs": [
    {
     "output_type": "execute_result",
     "data": {
      "text/plain": [
       "'Behrouz A. Forouzan , Richard F. Gilberg '"
      ]
     },
     "metadata": {},
     "execution_count": 25
    }
   ],
   "source": [
    "info_list = product_info.select_one('.info_list')\n",
    "spans = info_list.find_all('span')\n",
    "spans[0].get_text()"
   ]
  },
  {
   "cell_type": "markdown",
   "metadata": {},
   "source": [
    "#### 번역 찾기"
   ]
  },
  {
   "cell_type": "code",
   "execution_count": 26,
   "metadata": {},
   "outputs": [
    {
     "output_type": "execute_result",
     "data": {
      "text/plain": [
       "'윤인성 '"
      ]
     },
     "metadata": {},
     "execution_count": 26
    }
   ],
   "source": [
    "spans[1].get_text()"
   ]
  },
  {
   "cell_type": "markdown",
   "metadata": {},
   "source": [
    "#### 출간일 찾기"
   ]
  },
  {
   "cell_type": "code",
   "execution_count": 27,
   "metadata": {},
   "outputs": [
    {
     "output_type": "execute_result",
     "data": {
      "text/plain": [
       "'2020-11-10'"
      ]
     },
     "metadata": {},
     "execution_count": 27
    }
   ],
   "source": [
    "spans[2].get_text()"
   ]
  },
  {
   "cell_type": "markdown",
   "metadata": {},
   "source": [
    "#### 페이지 찾기"
   ]
  },
  {
   "cell_type": "code",
   "execution_count": 28,
   "metadata": {},
   "outputs": [
    {
     "output_type": "execute_result",
     "data": {
      "text/plain": [
       "'756 쪽'"
      ]
     },
     "metadata": {},
     "execution_count": 28
    }
   ],
   "source": [
    "spans[3].get_text()"
   ]
  },
  {
   "cell_type": "markdown",
   "metadata": {},
   "source": [
    "#### ISBN 찾기"
   ]
  },
  {
   "cell_type": "code",
   "execution_count": 29,
   "metadata": {},
   "outputs": [
    {
     "output_type": "execute_result",
     "data": {
      "text/plain": [
       "'9791156645061'"
      ]
     },
     "metadata": {},
     "execution_count": 29
    }
   ],
   "source": [
    "spans[4].get_text()"
   ]
  },
  {
   "cell_type": "markdown",
   "metadata": {},
   "source": [
    "#### 물류코드 찾기"
   ]
  },
  {
   "cell_type": "code",
   "execution_count": 30,
   "metadata": {},
   "outputs": [
    {
     "output_type": "execute_result",
     "data": {
      "text/plain": [
       "'4506'"
      ]
     },
     "metadata": {},
     "execution_count": 30
    }
   ],
   "source": [
    "spans[5].get_text()"
   ]
  },
  {
   "cell_type": "markdown",
   "metadata": {},
   "source": [
    "#### 가격 정보 찾기"
   ]
  },
  {
   "cell_type": "code",
   "execution_count": 31,
   "metadata": {},
   "outputs": [],
   "source": [
    "payment_list = soup.select_one('.store_payment_area')"
   ]
  },
  {
   "cell_type": "code",
   "execution_count": 32,
   "metadata": {},
   "outputs": [
    {
     "output_type": "stream",
     "name": "stdout",
     "text": [
      "32,000원\n32,000원(0% off)\n960점 (3%)\n"
     ]
    }
   ],
   "source": [
    "# 정가, 판매가, 마일리지\n",
    "fixed_prices = []; selling_prices = []; mileages = []\n",
    "pb_list = payment_list.select('.pbr')\n",
    "for pay in pb_list:\n",
    "    print(pay.get_text())"
   ]
  },
  {
   "cell_type": "markdown",
   "metadata": {},
   "source": [
    "#### 책 코드 뽑아내기"
   ]
  },
  {
   "cell_type": "code",
   "execution_count": 74,
   "metadata": {},
   "outputs": [],
   "source": [
    "import requests\n",
    "url = 'https://www.hanbit.co.kr/academy/books/new_book_list.html?page=1'\n",
    "header = {'User-Agent': 'Mozilla/5.0 (Windows NT 6.3; Trident/7.0; rv:11.0) like Gecko'}\n",
    "req = requests.get(url, headers = header)\n",
    "html = req.text"
   ]
  },
  {
   "cell_type": "code",
   "execution_count": 75,
   "metadata": {},
   "outputs": [],
   "source": [
    "soup = BeautifulSoup(html, 'html.parser')"
   ]
  },
  {
   "cell_type": "code",
   "execution_count": 76,
   "metadata": {},
   "outputs": [
    {
     "output_type": "execute_result",
     "data": {
      "text/plain": [
       "'B4797877052'"
      ]
     },
     "metadata": {},
     "execution_count": 76
    }
   ],
   "source": [
    "codes = soup.select('.thumb')\n",
    "codes[0].attrs['src'][12:23]\n",
    "#img.attrs['src'][12:23]"
   ]
  },
  {
   "cell_type": "code",
   "execution_count": 77,
   "metadata": {},
   "outputs": [
    {
     "output_type": "execute_result",
     "data": {
      "text/plain": [
       "['B4797877052',\n",
       " 'B6503201303',\n",
       " 'B1851418066',\n",
       " 'B9479195027',\n",
       " 'B2082711299',\n",
       " 'B1825116777',\n",
       " 'B5937482728',\n",
       " 'B8404138031',\n",
       " 'B8573612142',\n",
       " 'B8658821149',\n",
       " 'B7926921440',\n",
       " 'B4295361584',\n",
       " 'B3126325886',\n",
       " 'B3715221949',\n",
       " 'B3055805288',\n",
       " 'B4872546419',\n",
       " 'B1710834745',\n",
       " 'B8200129293',\n",
       " 'B8983481859',\n",
       " 'B2049588591']"
      ]
     },
     "metadata": {},
     "execution_count": 77
    }
   ],
   "source": [
    "codes = soup.select('.thumb'); code_list = []\n",
    "for code in codes:\n",
    "    code_list.append(code.attrs['src'][12:23])\n",
    "code_list"
   ]
  },
  {
   "cell_type": "markdown",
   "metadata": {},
   "source": [
    "## 1 Page"
   ]
  },
  {
   "cell_type": "code",
   "execution_count": null,
   "metadata": {},
   "outputs": [],
   "source": [
    "titles = []; writers = []; dates = []; pages = []; ISBNs = []"
   ]
  },
  {
   "cell_type": "code",
   "execution_count": null,
   "metadata": {},
   "outputs": [],
   "source": [
    "codes = soup.select('.thumb')\n",
    "product_info = soup.select_one('.store_product_info_box')\n",
    "\n",
    "for c in code_list:\n",
    "    web_url = 'https://www.hanbit.co.kr/academy/books/book_view.html?p_code='\n",
    "    book_code = c\n",
    "    url = web_url + book_code\n",
    "    header = {'User-Agent': 'Mozilla/5.0 (Windows NT 6.3; Trident/7.0; rv:11.0) like Gecko'}\n",
    "    req = requests.get(url, headers = header)\n",
    "    html = req.text\n",
    "\n",
    "    title = product_info.find('h3').get_text()\n",
    "    writer = "
   ]
  },
  {
   "cell_type": "code",
   "execution_count": null,
   "metadata": {},
   "outputs": [],
   "source": [
    "web_url = 'https://www.hanbit.co.kr/academy/books/book_view.html?p_code='\n",
    "book_code = 'B4797877052'\n",
    "url = web_url + book_code\n",
    "header = {'User-Agent': 'Mozilla/5.0 (Windows NT 6.3; Trident/7.0; rv:11.0) like Gecko'}\n",
    "req = requests.get(url, headers = header)\n",
    "html = req.text"
   ]
  },
  {
   "cell_type": "code",
   "execution_count": null,
   "metadata": {},
   "outputs": [],
   "source": [
    "soup = BeautifulSoup(html, 'html.parser')"
   ]
  }
 ]
}