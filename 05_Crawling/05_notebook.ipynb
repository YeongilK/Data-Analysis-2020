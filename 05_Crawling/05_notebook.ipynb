{
 "metadata": {
  "language_info": {
   "codemirror_mode": {
    "name": "ipython",
    "version": 3
   },
   "file_extension": ".py",
   "mimetype": "text/x-python",
   "name": "python",
   "nbconvert_exporter": "python",
   "pygments_lexer": "ipython3",
   "version": "3.8.3-final"
  },
  "orig_nbformat": 2,
  "kernelspec": {
   "name": "Python 3.8.3 64-bit ('base': conda)",
   "display_name": "Python 3.8.3 64-bit ('base': conda)",
   "metadata": {
    "interpreter": {
     "hash": "b3ba2566441a7c06988d0923437866b63cedc61552a5af99d1f4fb67d367b25f"
    }
   }
  }
 },
 "nbformat": 4,
 "nbformat_minor": 2,
 "cells": [
  {
   "cell_type": "markdown",
   "metadata": {},
   "source": [
    "## 네이버 쇼핑 - 노트북 구매 정보 크롤링"
   ]
  },
  {
   "cell_type": "code",
   "execution_count": 1,
   "metadata": {},
   "outputs": [],
   "source": [
    "import numpy as np \n",
    "import pandas as pd \n",
    "from bs4 import BeautifulSoup\n",
    "from urllib.request import urlopen\n",
    "from tqdm import tqdm_notebook"
   ]
  },
  {
   "cell_type": "code",
   "execution_count": 2,
   "metadata": {},
   "outputs": [],
   "source": [
    "url = 'https://search.shopping.naver.com/search/category?catId=50000151'\n",
    "\n",
    "html = urlopen(url)\n",
    "soup = BeautifulSoup(html, 'html.parser')"
   ]
  },
  {
   "cell_type": "code",
   "execution_count": 13,
   "metadata": {},
   "outputs": [
    {
     "output_type": "execute_result",
     "data": {
      "text/plain": [
       "39"
      ]
     },
     "metadata": {},
     "execution_count": 13
    }
   ],
   "source": [
    "head = soup.select_one('#__next')\n",
    "products = head.select_one('.list_basis')\n",
    "lis = products.find_all('li')\n",
    "len(lis)"
   ]
  },
  {
   "cell_type": "markdown",
   "metadata": {},
   "source": [
    "#### 제조사, 상품명 추출"
   ]
  },
  {
   "cell_type": "code",
   "execution_count": 16,
   "metadata": {},
   "outputs": [
    {
     "output_type": "execute_result",
     "data": {
      "text/plain": [
       "'삼성전자 갤럭시북 플렉스 NT950QCG-X716A'"
      ]
     },
     "metadata": {},
     "execution_count": 16
    }
   ],
   "source": [
    "word = lis[0].select_one('.basicList_title__3P9Q7').get_text()\n",
    "word"
   ]
  },
  {
   "cell_type": "code",
   "execution_count": 17,
   "metadata": {},
   "outputs": [
    {
     "output_type": "execute_result",
     "data": {
      "text/plain": [
       "('삼성전자', '갤럭시북 플렉스 NT950QCG-X716A')"
      ]
     },
     "metadata": {},
     "execution_count": 17
    }
   ],
   "source": [
    "manufacturer, product_name = word.split(maxsplit=1)\n",
    "manufacturer, product_name"
   ]
  },
  {
   "cell_type": "markdown",
   "metadata": {},
   "source": [
    "#### 가격(최저가) 추출"
   ]
  },
  {
   "cell_type": "code",
   "execution_count": 23,
   "metadata": {},
   "outputs": [
    {
     "output_type": "execute_result",
     "data": {
      "text/plain": [
       "2438820"
      ]
     },
     "metadata": {},
     "execution_count": 23
    }
   ],
   "source": [
    "# 2,438,820원(str) --> 2438820(int)\n",
    "lowest_price = int(lis[0].select_one('.price_num__2WUXn').get_text()[:-1].replace(',', ''))\n",
    "lowest_price"
   ]
  },
  {
   "cell_type": "markdown",
   "metadata": {},
   "source": [
    "#### 상품 스펙 추출"
   ]
  },
  {
   "cell_type": "code",
   "execution_count": 27,
   "metadata": {},
   "outputs": [
    {
     "output_type": "execute_result",
     "data": {
      "text/plain": [
       "(<a class=\"basicList_detail__27Krk\" href=\"#\" rel=\"noopener\">화면크기 : 15인치(37~39cm)</a>,\n",
       " <a class=\"basicList_detail__27Krk\" href=\"#\" rel=\"noopener\">무게 : 1.52kg</a>)"
      ]
     },
     "metadata": {},
     "execution_count": 27
    }
   ],
   "source": [
    "detail_box = lis[0].select_one('.basicList_detail_box__3ta3h')\n",
    "details = detail_box.find_all('a')\n",
    "details[0], details[1]"
   ]
  },
  {
   "cell_type": "code",
   "execution_count": 29,
   "metadata": {},
   "outputs": [
    {
     "output_type": "execute_result",
     "data": {
      "text/plain": [
       "{'화면크기': '15인치(37~39cm)',\n",
       " '무게': '1.52kg',\n",
       " '종류': '코어i7 10세대',\n",
       " '운영체제': '윈도우10 홈',\n",
       " 'CPU': '코어i7-1065G7',\n",
       " '칩셋 제조사': '인텔',\n",
       " '코어종류': '쿼드코어',\n",
       " '코드명': '아이스레이크',\n",
       " 'CPU속도': '1.3GHz',\n",
       " '터보부스트': '3.9GHz',\n",
       " '램': '16GB'}"
      ]
     },
     "metadata": {},
     "execution_count": 29
    }
   ],
   "source": [
    "# 뒤에 있는 스펙들은 쓸 데 없는게 많아서 11개까지만 추출\n",
    "details = detail_box.find_all('a')[:11]\n",
    "detail_dict = {}\n",
    "for a in details:\n",
    "    idx = a.get_text().find(':')\n",
    "    key = a.get_text()[:idx-1]\n",
    "    value = a.get_text()[idx+2:]\n",
    "    detail_dict.update([[key, value]])\n",
    "detail_dict"
   ]
  },
  {
   "cell_type": "code",
   "execution_count": null,
   "metadata": {},
   "outputs": [],
   "source": []
  }
 ]
}