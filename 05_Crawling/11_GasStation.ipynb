{
 "metadata": {
  "language_info": {
   "codemirror_mode": {
    "name": "ipython",
    "version": 3
   },
   "file_extension": ".py",
   "mimetype": "text/x-python",
   "name": "python",
   "nbconvert_exporter": "python",
   "pygments_lexer": "ipython3",
   "version": "3.8.3-final"
  },
  "orig_nbformat": 2,
  "kernelspec": {
   "name": "Python 3.8.3 64-bit ('base': conda)",
   "display_name": "Python 3.8.3 64-bit ('base': conda)",
   "metadata": {
    "interpreter": {
     "hash": "b3ba2566441a7c06988d0923437866b63cedc61552a5af99d1f4fb67d367b25f"
    }
   }
  }
 },
 "nbformat": 4,
 "nbformat_minor": 2,
 "cells": [
  {
   "cell_type": "markdown",
   "metadata": {},
   "source": [
    "# 집 근처 주유소 10곳 분석"
   ]
  },
  {
   "cell_type": "code",
   "execution_count": 1,
   "metadata": {},
   "outputs": [],
   "source": [
    "import time\n",
    "import pandas as pd \n",
    "import folium\n",
    "import requests\n",
    "from urllib.parse import urlparse\n",
    "from glob import glob \n",
    "from tqdm import tqdm_notebook\n",
    "from selenium import webdriver\n",
    "from selenium.webdriver.common.keys import Keys"
   ]
  },
  {
   "cell_type": "markdown",
   "metadata": {},
   "source": [
    "### 집 근처인 강서구, 양천구 주유소 데이터만 받기"
   ]
  },
  {
   "cell_type": "code",
   "execution_count": 2,
   "metadata": {},
   "outputs": [],
   "source": [
    "driver = webdriver.Chrome('./chromedriver')\n",
    "#driver.maximize_window()\n",
    "driver.get('http://www.opinet.co.kr/user/main/mainView.do')\n",
    "time.sleep(1)\n",
    "driver.find_element_by_css_selector('.ic_m1').click()\n",
    "time.sleep(2)\n",
    "\n",
    "region = driver.find_element_by_xpath('//*[@id=\"SIGUNGU_NM0\"]')\n",
    "gu_list = region.find_elements_by_tag_name('option')\n",
    "\n",
    "gu_names = [gu.get_attribute('value') for gu in gu_list]\n",
    "del gu_names[0]\n",
    "\n",
    "# 강서구, 양천구에 대해서 엑셀 다운로드\n",
    "for gu in gu_names:\n",
    "    region = driver.find_element_by_xpath('//*[@id=\"SIGUNGU_NM0\"]')\n",
    "    region.send_keys(gu)\n",
    "    time.sleep(1)\n",
    "\n",
    "    if gu == '강서구' or gu == '양천구':\n",
    "        driver.find_element_by_xpath('//*[@id=\"glopopd_excel\"]/span').click()\n",
    "        time.sleep(1)"
   ]
  },
  {
   "cell_type": "code",
   "execution_count": 3,
   "metadata": {},
   "outputs": [],
   "source": [
    "# 강서, 양천구 주유소에 대해 한 개의 데이터 프레임으로 만든다\n",
    "station_files = glob('./station_data/집근처*.xls')\n",
    "tmp_raw = []\n",
    "\n",
    "for file_name in station_files:\n",
    "    tmp = pd.read_excel(file_name, header=2)\n",
    "    tmp_raw.append(tmp)\n",
    "\n",
    "station_raw = pd.concat(tmp_raw)"
   ]
  },
  {
   "cell_type": "code",
   "execution_count": 4,
   "metadata": {},
   "outputs": [
    {
     "output_type": "execute_result",
     "data": {
      "text/plain": [
       "      지역           상호                        주소      상표          전화번호 셀프여부  \\\n",
       "0  서울특별시       뉴신정주유소      서울 강서구 곰달래로 207(화곡동)   알뜰주유소  02-2601-0077    N   \n",
       "1  서울특별시       화곡역주유소  서울특별시 강서구  강서로 154 (화곡동)   알뜰주유소  02-2691-5151    Y   \n",
       "2  서울특별시        방화주유소    서울 강서구 방화동로 58-2 (방화동)   SK에너지  02-2662-0503    N   \n",
       "3  서울특별시  행촌에너지 공항주유소     서울 강서구 개화동로 420 (개화동)  현대오일뱅크  02-2665-5189    Y   \n",
       "4  서울특별시    강서오곡셀프주유소      서울 강서구 벌말로 254 (오곡동)   SK에너지  032-671-5186    Y   \n",
       "\n",
       "  고급휘발유   휘발유    경유 실내등유  \n",
       "0     -  1243  1043    -  \n",
       "1     -  1243  1043    -  \n",
       "2     -  1263  1063  950  \n",
       "3     -  1264  1064    -  \n",
       "4     -  1265  1065    -  "
      ],
      "text/html": "<div>\n<style scoped>\n    .dataframe tbody tr th:only-of-type {\n        vertical-align: middle;\n    }\n\n    .dataframe tbody tr th {\n        vertical-align: top;\n    }\n\n    .dataframe thead th {\n        text-align: right;\n    }\n</style>\n<table border=\"1\" class=\"dataframe\">\n  <thead>\n    <tr style=\"text-align: right;\">\n      <th></th>\n      <th>지역</th>\n      <th>상호</th>\n      <th>주소</th>\n      <th>상표</th>\n      <th>전화번호</th>\n      <th>셀프여부</th>\n      <th>고급휘발유</th>\n      <th>휘발유</th>\n      <th>경유</th>\n      <th>실내등유</th>\n    </tr>\n  </thead>\n  <tbody>\n    <tr>\n      <th>0</th>\n      <td>서울특별시</td>\n      <td>뉴신정주유소</td>\n      <td>서울 강서구 곰달래로 207(화곡동)</td>\n      <td>알뜰주유소</td>\n      <td>02-2601-0077</td>\n      <td>N</td>\n      <td>-</td>\n      <td>1243</td>\n      <td>1043</td>\n      <td>-</td>\n    </tr>\n    <tr>\n      <th>1</th>\n      <td>서울특별시</td>\n      <td>화곡역주유소</td>\n      <td>서울특별시 강서구  강서로 154 (화곡동)</td>\n      <td>알뜰주유소</td>\n      <td>02-2691-5151</td>\n      <td>Y</td>\n      <td>-</td>\n      <td>1243</td>\n      <td>1043</td>\n      <td>-</td>\n    </tr>\n    <tr>\n      <th>2</th>\n      <td>서울특별시</td>\n      <td>방화주유소</td>\n      <td>서울 강서구 방화동로 58-2 (방화동)</td>\n      <td>SK에너지</td>\n      <td>02-2662-0503</td>\n      <td>N</td>\n      <td>-</td>\n      <td>1263</td>\n      <td>1063</td>\n      <td>950</td>\n    </tr>\n    <tr>\n      <th>3</th>\n      <td>서울특별시</td>\n      <td>행촌에너지 공항주유소</td>\n      <td>서울 강서구 개화동로 420 (개화동)</td>\n      <td>현대오일뱅크</td>\n      <td>02-2665-5189</td>\n      <td>Y</td>\n      <td>-</td>\n      <td>1264</td>\n      <td>1064</td>\n      <td>-</td>\n    </tr>\n    <tr>\n      <th>4</th>\n      <td>서울특별시</td>\n      <td>강서오곡셀프주유소</td>\n      <td>서울 강서구 벌말로 254 (오곡동)</td>\n      <td>SK에너지</td>\n      <td>032-671-5186</td>\n      <td>Y</td>\n      <td>-</td>\n      <td>1265</td>\n      <td>1065</td>\n      <td>-</td>\n    </tr>\n  </tbody>\n</table>\n</div>"
     },
     "metadata": {},
     "execution_count": 4
    }
   ],
   "source": [
    "station_raw.head()"
   ]
  },
  {
   "cell_type": "code",
   "execution_count": 5,
   "metadata": {},
   "outputs": [
    {
     "output_type": "execute_result",
     "data": {
      "text/plain": [
       "       지역               상호                        주소      상표          전화번호  \\\n",
       "1   서울특별시           화곡역주유소  서울특별시 강서구  강서로 154 (화곡동)   알뜰주유소  02-2691-5151   \n",
       "0   서울특별시           뉴신정주유소      서울 강서구 곰달래로 207(화곡동)   알뜰주유소  02-2601-0077   \n",
       "6   서울특별시  지에스칼텍스㈜ 경인고속주유소     서울 강서구 국회대로 225 (화곡동)   GS칼텍스  02-2608-5151   \n",
       "32  서울특별시           염창동주유소      서울 강서구 양천로 720 (염창동)   SK에너지  02-3664-4134   \n",
       "13  서울특별시            목동주유소     서울 양천구 목동중앙로 125 (목동)   SK에너지  02-2645-5104   \n",
       "15  서울특별시   (주)삼표에너지 목동주유소      서울 양천구 목동서로 129 (목동)   GS칼텍스  02-2654-5153   \n",
       "1   서울특별시          가로공원주유소    서울 양천구 가로공원로 165 (신월동)   SK에너지  02-2695-3423   \n",
       "14  서울특별시  현대오일뱅크(주) 양천주유소     서울 양천구 안양천로 1179 (목동)  현대오일뱅크  02-2653-5189   \n",
       "11  서울특별시    지에스칼텍스㈜ 건지주유소     서울 양천구 안양천로 1171 (목동)   GS칼텍스  02-2644-5108   \n",
       "13  서울특별시            목동주유소     서울 양천구 목동중앙로 125 (목동)   SK에너지  02-2645-5104   \n",
       "15  서울특별시   (주)삼표에너지 목동주유소      서울 양천구 목동서로 129 (목동)   GS칼텍스  02-2654-5153   \n",
       "4   서울특별시           양천구주유소      서울 양천구 국회대로 275 (목동)   알뜰주유소  02-2644-5105   \n",
       "\n",
       "   셀프여부 고급휘발유   휘발유    경유  실내등유  \n",
       "1     Y     -  1243  1043     -  \n",
       "0     N     -  1243  1043     -  \n",
       "6     Y  1416  1266  1072  1100  \n",
       "32    N     -  1688  1468     -  \n",
       "13    Y     -  1318  1128     -  \n",
       "15    N  1518  1318  1128     -  \n",
       "1     N     -  1249  1048     -  \n",
       "14    N  1589  1318  1128     -  \n",
       "11    Y  1495  1308  1118  1030  \n",
       "13    Y     -  1318  1128     -  \n",
       "15    N  1518  1318  1128     -  \n",
       "4     Y     -  1259  1062     -  "
      ],
      "text/html": "<div>\n<style scoped>\n    .dataframe tbody tr th:only-of-type {\n        vertical-align: middle;\n    }\n\n    .dataframe tbody tr th {\n        vertical-align: top;\n    }\n\n    .dataframe thead th {\n        text-align: right;\n    }\n</style>\n<table border=\"1\" class=\"dataframe\">\n  <thead>\n    <tr style=\"text-align: right;\">\n      <th></th>\n      <th>지역</th>\n      <th>상호</th>\n      <th>주소</th>\n      <th>상표</th>\n      <th>전화번호</th>\n      <th>셀프여부</th>\n      <th>고급휘발유</th>\n      <th>휘발유</th>\n      <th>경유</th>\n      <th>실내등유</th>\n    </tr>\n  </thead>\n  <tbody>\n    <tr>\n      <th>1</th>\n      <td>서울특별시</td>\n      <td>화곡역주유소</td>\n      <td>서울특별시 강서구  강서로 154 (화곡동)</td>\n      <td>알뜰주유소</td>\n      <td>02-2691-5151</td>\n      <td>Y</td>\n      <td>-</td>\n      <td>1243</td>\n      <td>1043</td>\n      <td>-</td>\n    </tr>\n    <tr>\n      <th>0</th>\n      <td>서울특별시</td>\n      <td>뉴신정주유소</td>\n      <td>서울 강서구 곰달래로 207(화곡동)</td>\n      <td>알뜰주유소</td>\n      <td>02-2601-0077</td>\n      <td>N</td>\n      <td>-</td>\n      <td>1243</td>\n      <td>1043</td>\n      <td>-</td>\n    </tr>\n    <tr>\n      <th>6</th>\n      <td>서울특별시</td>\n      <td>지에스칼텍스㈜ 경인고속주유소</td>\n      <td>서울 강서구 국회대로 225 (화곡동)</td>\n      <td>GS칼텍스</td>\n      <td>02-2608-5151</td>\n      <td>Y</td>\n      <td>1416</td>\n      <td>1266</td>\n      <td>1072</td>\n      <td>1100</td>\n    </tr>\n    <tr>\n      <th>32</th>\n      <td>서울특별시</td>\n      <td>염창동주유소</td>\n      <td>서울 강서구 양천로 720 (염창동)</td>\n      <td>SK에너지</td>\n      <td>02-3664-4134</td>\n      <td>N</td>\n      <td>-</td>\n      <td>1688</td>\n      <td>1468</td>\n      <td>-</td>\n    </tr>\n    <tr>\n      <th>13</th>\n      <td>서울특별시</td>\n      <td>목동주유소</td>\n      <td>서울 양천구 목동중앙로 125 (목동)</td>\n      <td>SK에너지</td>\n      <td>02-2645-5104</td>\n      <td>Y</td>\n      <td>-</td>\n      <td>1318</td>\n      <td>1128</td>\n      <td>-</td>\n    </tr>\n    <tr>\n      <th>15</th>\n      <td>서울특별시</td>\n      <td>(주)삼표에너지 목동주유소</td>\n      <td>서울 양천구 목동서로 129 (목동)</td>\n      <td>GS칼텍스</td>\n      <td>02-2654-5153</td>\n      <td>N</td>\n      <td>1518</td>\n      <td>1318</td>\n      <td>1128</td>\n      <td>-</td>\n    </tr>\n    <tr>\n      <th>1</th>\n      <td>서울특별시</td>\n      <td>가로공원주유소</td>\n      <td>서울 양천구 가로공원로 165 (신월동)</td>\n      <td>SK에너지</td>\n      <td>02-2695-3423</td>\n      <td>N</td>\n      <td>-</td>\n      <td>1249</td>\n      <td>1048</td>\n      <td>-</td>\n    </tr>\n    <tr>\n      <th>14</th>\n      <td>서울특별시</td>\n      <td>현대오일뱅크(주) 양천주유소</td>\n      <td>서울 양천구 안양천로 1179 (목동)</td>\n      <td>현대오일뱅크</td>\n      <td>02-2653-5189</td>\n      <td>N</td>\n      <td>1589</td>\n      <td>1318</td>\n      <td>1128</td>\n      <td>-</td>\n    </tr>\n    <tr>\n      <th>11</th>\n      <td>서울특별시</td>\n      <td>지에스칼텍스㈜ 건지주유소</td>\n      <td>서울 양천구 안양천로 1171 (목동)</td>\n      <td>GS칼텍스</td>\n      <td>02-2644-5108</td>\n      <td>Y</td>\n      <td>1495</td>\n      <td>1308</td>\n      <td>1118</td>\n      <td>1030</td>\n    </tr>\n    <tr>\n      <th>13</th>\n      <td>서울특별시</td>\n      <td>목동주유소</td>\n      <td>서울 양천구 목동중앙로 125 (목동)</td>\n      <td>SK에너지</td>\n      <td>02-2645-5104</td>\n      <td>Y</td>\n      <td>-</td>\n      <td>1318</td>\n      <td>1128</td>\n      <td>-</td>\n    </tr>\n    <tr>\n      <th>15</th>\n      <td>서울특별시</td>\n      <td>(주)삼표에너지 목동주유소</td>\n      <td>서울 양천구 목동서로 129 (목동)</td>\n      <td>GS칼텍스</td>\n      <td>02-2654-5153</td>\n      <td>N</td>\n      <td>1518</td>\n      <td>1318</td>\n      <td>1128</td>\n      <td>-</td>\n    </tr>\n    <tr>\n      <th>4</th>\n      <td>서울특별시</td>\n      <td>양천구주유소</td>\n      <td>서울 양천구 국회대로 275 (목동)</td>\n      <td>알뜰주유소</td>\n      <td>02-2644-5105</td>\n      <td>Y</td>\n      <td>-</td>\n      <td>1259</td>\n      <td>1062</td>\n      <td>-</td>\n    </tr>\n  </tbody>\n</table>\n</div>"
     },
     "metadata": {},
     "execution_count": 5
    }
   ],
   "source": [
    "station_list = ['화곡역주유소', '뉴신정주유소', '경인고속주유소', '염창동주유소', '목동주유소', '가로공원주유소', '양천주유소', '건지주유소', '목동주유소', '양천구주유소']\n",
    "tmp = pd.DataFrame(columns=['지역', '상호', '주소', '상표', '전화번호', '셀프여부', '고급휘발유', '휘발유', '경유', '실내등유'])\n",
    "for station in station_list:\n",
    "    result = station_raw.loc[station_raw['상호'].str.contains(station, na=False)]\n",
    "    tmp = pd.concat([tmp, result])\n",
    "tmp"
   ]
  },
  {
   "cell_type": "code",
   "execution_count": 6,
   "metadata": {},
   "outputs": [
    {
     "output_type": "execute_result",
     "data": {
      "text/plain": [
       "      지역               상호                        주소      상표          전화번호  \\\n",
       "0  서울특별시           화곡역주유소  서울특별시 강서구  강서로 154 (화곡동)   알뜰주유소  02-2691-5151   \n",
       "1  서울특별시           뉴신정주유소      서울 강서구 곰달래로 207(화곡동)   알뜰주유소  02-2601-0077   \n",
       "2  서울특별시  지에스칼텍스㈜ 경인고속주유소     서울 강서구 국회대로 225 (화곡동)   GS칼텍스  02-2608-5151   \n",
       "3  서울특별시           염창동주유소      서울 강서구 양천로 720 (염창동)   SK에너지  02-3664-4134   \n",
       "4  서울특별시            목동주유소     서울 양천구 목동중앙로 125 (목동)   SK에너지  02-2645-5104   \n",
       "5  서울특별시   (주)삼표에너지 목동주유소      서울 양천구 목동서로 129 (목동)   GS칼텍스  02-2654-5153   \n",
       "6  서울특별시          가로공원주유소    서울 양천구 가로공원로 165 (신월동)   SK에너지  02-2695-3423   \n",
       "7  서울특별시  현대오일뱅크(주) 양천주유소     서울 양천구 안양천로 1179 (목동)  현대오일뱅크  02-2653-5189   \n",
       "8  서울특별시    지에스칼텍스㈜ 건지주유소     서울 양천구 안양천로 1171 (목동)   GS칼텍스  02-2644-5108   \n",
       "9  서울특별시           양천구주유소      서울 양천구 국회대로 275 (목동)   알뜰주유소  02-2644-5105   \n",
       "\n",
       "  셀프여부 고급휘발유   휘발유    경유  실내등유  \n",
       "0    Y     -  1243  1043     -  \n",
       "1    N     -  1243  1043     -  \n",
       "2    Y  1416  1266  1072  1100  \n",
       "3    N     -  1688  1468     -  \n",
       "4    Y     -  1318  1128     -  \n",
       "5    N  1518  1318  1128     -  \n",
       "6    N     -  1249  1048     -  \n",
       "7    N  1589  1318  1128     -  \n",
       "8    Y  1495  1308  1118  1030  \n",
       "9    Y     -  1259  1062     -  "
      ],
      "text/html": "<div>\n<style scoped>\n    .dataframe tbody tr th:only-of-type {\n        vertical-align: middle;\n    }\n\n    .dataframe tbody tr th {\n        vertical-align: top;\n    }\n\n    .dataframe thead th {\n        text-align: right;\n    }\n</style>\n<table border=\"1\" class=\"dataframe\">\n  <thead>\n    <tr style=\"text-align: right;\">\n      <th></th>\n      <th>지역</th>\n      <th>상호</th>\n      <th>주소</th>\n      <th>상표</th>\n      <th>전화번호</th>\n      <th>셀프여부</th>\n      <th>고급휘발유</th>\n      <th>휘발유</th>\n      <th>경유</th>\n      <th>실내등유</th>\n    </tr>\n  </thead>\n  <tbody>\n    <tr>\n      <th>0</th>\n      <td>서울특별시</td>\n      <td>화곡역주유소</td>\n      <td>서울특별시 강서구  강서로 154 (화곡동)</td>\n      <td>알뜰주유소</td>\n      <td>02-2691-5151</td>\n      <td>Y</td>\n      <td>-</td>\n      <td>1243</td>\n      <td>1043</td>\n      <td>-</td>\n    </tr>\n    <tr>\n      <th>1</th>\n      <td>서울특별시</td>\n      <td>뉴신정주유소</td>\n      <td>서울 강서구 곰달래로 207(화곡동)</td>\n      <td>알뜰주유소</td>\n      <td>02-2601-0077</td>\n      <td>N</td>\n      <td>-</td>\n      <td>1243</td>\n      <td>1043</td>\n      <td>-</td>\n    </tr>\n    <tr>\n      <th>2</th>\n      <td>서울특별시</td>\n      <td>지에스칼텍스㈜ 경인고속주유소</td>\n      <td>서울 강서구 국회대로 225 (화곡동)</td>\n      <td>GS칼텍스</td>\n      <td>02-2608-5151</td>\n      <td>Y</td>\n      <td>1416</td>\n      <td>1266</td>\n      <td>1072</td>\n      <td>1100</td>\n    </tr>\n    <tr>\n      <th>3</th>\n      <td>서울특별시</td>\n      <td>염창동주유소</td>\n      <td>서울 강서구 양천로 720 (염창동)</td>\n      <td>SK에너지</td>\n      <td>02-3664-4134</td>\n      <td>N</td>\n      <td>-</td>\n      <td>1688</td>\n      <td>1468</td>\n      <td>-</td>\n    </tr>\n    <tr>\n      <th>4</th>\n      <td>서울특별시</td>\n      <td>목동주유소</td>\n      <td>서울 양천구 목동중앙로 125 (목동)</td>\n      <td>SK에너지</td>\n      <td>02-2645-5104</td>\n      <td>Y</td>\n      <td>-</td>\n      <td>1318</td>\n      <td>1128</td>\n      <td>-</td>\n    </tr>\n    <tr>\n      <th>5</th>\n      <td>서울특별시</td>\n      <td>(주)삼표에너지 목동주유소</td>\n      <td>서울 양천구 목동서로 129 (목동)</td>\n      <td>GS칼텍스</td>\n      <td>02-2654-5153</td>\n      <td>N</td>\n      <td>1518</td>\n      <td>1318</td>\n      <td>1128</td>\n      <td>-</td>\n    </tr>\n    <tr>\n      <th>6</th>\n      <td>서울특별시</td>\n      <td>가로공원주유소</td>\n      <td>서울 양천구 가로공원로 165 (신월동)</td>\n      <td>SK에너지</td>\n      <td>02-2695-3423</td>\n      <td>N</td>\n      <td>-</td>\n      <td>1249</td>\n      <td>1048</td>\n      <td>-</td>\n    </tr>\n    <tr>\n      <th>7</th>\n      <td>서울특별시</td>\n      <td>현대오일뱅크(주) 양천주유소</td>\n      <td>서울 양천구 안양천로 1179 (목동)</td>\n      <td>현대오일뱅크</td>\n      <td>02-2653-5189</td>\n      <td>N</td>\n      <td>1589</td>\n      <td>1318</td>\n      <td>1128</td>\n      <td>-</td>\n    </tr>\n    <tr>\n      <th>8</th>\n      <td>서울특별시</td>\n      <td>지에스칼텍스㈜ 건지주유소</td>\n      <td>서울 양천구 안양천로 1171 (목동)</td>\n      <td>GS칼텍스</td>\n      <td>02-2644-5108</td>\n      <td>Y</td>\n      <td>1495</td>\n      <td>1308</td>\n      <td>1118</td>\n      <td>1030</td>\n    </tr>\n    <tr>\n      <th>9</th>\n      <td>서울특별시</td>\n      <td>양천구주유소</td>\n      <td>서울 양천구 국회대로 275 (목동)</td>\n      <td>알뜰주유소</td>\n      <td>02-2644-5105</td>\n      <td>Y</td>\n      <td>-</td>\n      <td>1259</td>\n      <td>1062</td>\n      <td>-</td>\n    </tr>\n  </tbody>\n</table>\n</div>"
     },
     "metadata": {},
     "execution_count": 6
    }
   ],
   "source": [
    "# '주소' 를 기준으로 중복되는 행 제거 후 인덱스 초기화\n",
    "tmp = tmp.drop_duplicates(['주소'])\n",
    "tmp.reset_index(drop=True, inplace=True)\n",
    "tmp"
   ]
  },
  {
   "cell_type": "code",
   "execution_count": 8,
   "metadata": {},
   "outputs": [
    {
     "output_type": "execute_result",
     "data": {
      "text/plain": [
       "         Oil_store                        주소   휘발유    경유 셀프      상표\n",
       "0           화곡역주유소  서울특별시 강서구  강서로 154 (화곡동)  1243  1043  Y   알뜰주유소\n",
       "1           뉴신정주유소      서울 강서구 곰달래로 207(화곡동)  1243  1043  N   알뜰주유소\n",
       "2  지에스칼텍스㈜ 경인고속주유소     서울 강서구 국회대로 225 (화곡동)  1266  1072  Y   GS칼텍스\n",
       "3           염창동주유소      서울 강서구 양천로 720 (염창동)  1688  1468  N   SK에너지\n",
       "4            목동주유소     서울 양천구 목동중앙로 125 (목동)  1318  1128  Y   SK에너지\n",
       "5   (주)삼표에너지 목동주유소      서울 양천구 목동서로 129 (목동)  1318  1128  N   GS칼텍스\n",
       "6          가로공원주유소    서울 양천구 가로공원로 165 (신월동)  1249  1048  N   SK에너지\n",
       "7  현대오일뱅크(주) 양천주유소     서울 양천구 안양천로 1179 (목동)  1318  1128  N  현대오일뱅크\n",
       "8    지에스칼텍스㈜ 건지주유소     서울 양천구 안양천로 1171 (목동)  1308  1118  Y   GS칼텍스\n",
       "9           양천구주유소      서울 양천구 국회대로 275 (목동)  1259  1062  Y   알뜰주유소"
      ],
      "text/html": "<div>\n<style scoped>\n    .dataframe tbody tr th:only-of-type {\n        vertical-align: middle;\n    }\n\n    .dataframe tbody tr th {\n        vertical-align: top;\n    }\n\n    .dataframe thead th {\n        text-align: right;\n    }\n</style>\n<table border=\"1\" class=\"dataframe\">\n  <thead>\n    <tr style=\"text-align: right;\">\n      <th></th>\n      <th>Oil_store</th>\n      <th>주소</th>\n      <th>휘발유</th>\n      <th>경유</th>\n      <th>셀프</th>\n      <th>상표</th>\n    </tr>\n  </thead>\n  <tbody>\n    <tr>\n      <th>0</th>\n      <td>화곡역주유소</td>\n      <td>서울특별시 강서구  강서로 154 (화곡동)</td>\n      <td>1243</td>\n      <td>1043</td>\n      <td>Y</td>\n      <td>알뜰주유소</td>\n    </tr>\n    <tr>\n      <th>1</th>\n      <td>뉴신정주유소</td>\n      <td>서울 강서구 곰달래로 207(화곡동)</td>\n      <td>1243</td>\n      <td>1043</td>\n      <td>N</td>\n      <td>알뜰주유소</td>\n    </tr>\n    <tr>\n      <th>2</th>\n      <td>지에스칼텍스㈜ 경인고속주유소</td>\n      <td>서울 강서구 국회대로 225 (화곡동)</td>\n      <td>1266</td>\n      <td>1072</td>\n      <td>Y</td>\n      <td>GS칼텍스</td>\n    </tr>\n    <tr>\n      <th>3</th>\n      <td>염창동주유소</td>\n      <td>서울 강서구 양천로 720 (염창동)</td>\n      <td>1688</td>\n      <td>1468</td>\n      <td>N</td>\n      <td>SK에너지</td>\n    </tr>\n    <tr>\n      <th>4</th>\n      <td>목동주유소</td>\n      <td>서울 양천구 목동중앙로 125 (목동)</td>\n      <td>1318</td>\n      <td>1128</td>\n      <td>Y</td>\n      <td>SK에너지</td>\n    </tr>\n    <tr>\n      <th>5</th>\n      <td>(주)삼표에너지 목동주유소</td>\n      <td>서울 양천구 목동서로 129 (목동)</td>\n      <td>1318</td>\n      <td>1128</td>\n      <td>N</td>\n      <td>GS칼텍스</td>\n    </tr>\n    <tr>\n      <th>6</th>\n      <td>가로공원주유소</td>\n      <td>서울 양천구 가로공원로 165 (신월동)</td>\n      <td>1249</td>\n      <td>1048</td>\n      <td>N</td>\n      <td>SK에너지</td>\n    </tr>\n    <tr>\n      <th>7</th>\n      <td>현대오일뱅크(주) 양천주유소</td>\n      <td>서울 양천구 안양천로 1179 (목동)</td>\n      <td>1318</td>\n      <td>1128</td>\n      <td>N</td>\n      <td>현대오일뱅크</td>\n    </tr>\n    <tr>\n      <th>8</th>\n      <td>지에스칼텍스㈜ 건지주유소</td>\n      <td>서울 양천구 안양천로 1171 (목동)</td>\n      <td>1308</td>\n      <td>1118</td>\n      <td>Y</td>\n      <td>GS칼텍스</td>\n    </tr>\n    <tr>\n      <th>9</th>\n      <td>양천구주유소</td>\n      <td>서울 양천구 국회대로 275 (목동)</td>\n      <td>1259</td>\n      <td>1062</td>\n      <td>Y</td>\n      <td>알뜰주유소</td>\n    </tr>\n  </tbody>\n</table>\n</div>"
     },
     "metadata": {},
     "execution_count": 8
    }
   ],
   "source": [
    "# 필요한 정보만 추출하여 stations 데이터프레임 만들기\n",
    "stations = pd.DataFrame({\n",
    "    'Oil_store': tmp['상호'],\n",
    "    '주소': tmp['주소'],\n",
    "    '휘발유': tmp['휘발유'],\n",
    "    '경유': tmp['경유'],\n",
    "    '셀프': tmp['셀프여부'],\n",
    "    '상표': tmp['상표']\n",
    "})\n",
    "stations"
   ]
  },
  {
   "cell_type": "markdown",
   "metadata": {},
   "source": [
    "### '주소' 정보를 통해 위도, 경도 정보 받아오기"
   ]
  },
  {
   "cell_type": "code",
   "execution_count": 9,
   "metadata": {},
   "outputs": [],
   "source": [
    "key_fd = open('kakaomapkey.txt', mode='r')\n",
    "kmap_key = key_fd.read(100)\n",
    "key_fd.close()"
   ]
  },
  {
   "cell_type": "code",
   "execution_count": 10,
   "metadata": {},
   "outputs": [
    {
     "output_type": "display_data",
     "data": {
      "text/plain": "HBox(children=(FloatProgress(value=0.0, max=10.0), HTML(value='')))",
      "application/vnd.jupyter.widget-view+json": {
       "version_major": 2,
       "version_minor": 0,
       "model_id": "df755a691ca945bbbe54911d3e1b6445"
      }
     },
     "metadata": {}
    },
    {
     "output_type": "stream",
     "name": "stdout",
     "text": [
      "\n"
     ]
    }
   ],
   "source": [
    "lat_list = []; lng_list = []\n",
    "for i in tqdm_notebook(stations.index):\n",
    "    url = 'https://dapi.kakao.com/v2/local/search/address.json?query=' + stations['주소'][i]\n",
    "    result = requests.get(urlparse(url).geturl(), headers={\"Authorization\":\"KakaoAK \" + kmap_key}).json()\n",
    "    if result['documents'] == []:\n",
    "        lat_list.append(np.nan); lng_list.append(np.nan)\n",
    "    else:\n",
    "        lat = float(result['documents'][0]['y'])\n",
    "        lng = float(result['documents'][0]['x'])\n",
    "        lat_list.append(lat); lng_list.append(lng)"
   ]
  },
  {
   "cell_type": "code",
   "execution_count": 11,
   "metadata": {},
   "outputs": [
    {
     "output_type": "execute_result",
     "data": {
      "text/plain": [
       "(10, 10, 10, 10, 10, 10, 10, 10)"
      ]
     },
     "metadata": {},
     "execution_count": 11
    }
   ],
   "source": [
    "len(stations['Oil_store']), len(stations['주소']), len(stations['휘발유']), len(stations['경유']), len(stations['셀프']), len(stations['상표']), len(lat_list), len(lng_list)"
   ]
  },
  {
   "cell_type": "code",
   "execution_count": 12,
   "metadata": {},
   "outputs": [
    {
     "output_type": "execute_result",
     "data": {
      "text/plain": [
       "         Oil_store                        주소   휘발유    경유 셀프      상표  \\\n",
       "0           화곡역주유소  서울특별시 강서구  강서로 154 (화곡동)  1243  1043  Y   알뜰주유소   \n",
       "1           뉴신정주유소      서울 강서구 곰달래로 207(화곡동)  1243  1043  N   알뜰주유소   \n",
       "2  지에스칼텍스㈜ 경인고속주유소     서울 강서구 국회대로 225 (화곡동)  1266  1072  Y   GS칼텍스   \n",
       "3           염창동주유소      서울 강서구 양천로 720 (염창동)  1688  1468  N   SK에너지   \n",
       "4            목동주유소     서울 양천구 목동중앙로 125 (목동)  1318  1128  Y   SK에너지   \n",
       "5   (주)삼표에너지 목동주유소      서울 양천구 목동서로 129 (목동)  1318  1128  N   GS칼텍스   \n",
       "6          가로공원주유소    서울 양천구 가로공원로 165 (신월동)  1249  1048  N   SK에너지   \n",
       "7  현대오일뱅크(주) 양천주유소     서울 양천구 안양천로 1179 (목동)  1318  1128  N  현대오일뱅크   \n",
       "8    지에스칼텍스㈜ 건지주유소     서울 양천구 안양천로 1171 (목동)  1308  1118  Y   GS칼텍스   \n",
       "9           양천구주유소      서울 양천구 국회대로 275 (목동)  1259  1062  Y   알뜰주유소   \n",
       "\n",
       "          위도          경도  \n",
       "0  37.540768  126.841472  \n",
       "1  37.531562  126.856035  \n",
       "2  37.529645  126.859835  \n",
       "3  37.549218  126.875677  \n",
       "4  37.539601  126.874553  \n",
       "5  37.532164  126.875540  \n",
       "6  37.537020  126.834299  \n",
       "7  37.545859  126.881442  \n",
       "8  37.545316  126.882153  \n",
       "9  37.530373  126.865512  "
      ],
      "text/html": "<div>\n<style scoped>\n    .dataframe tbody tr th:only-of-type {\n        vertical-align: middle;\n    }\n\n    .dataframe tbody tr th {\n        vertical-align: top;\n    }\n\n    .dataframe thead th {\n        text-align: right;\n    }\n</style>\n<table border=\"1\" class=\"dataframe\">\n  <thead>\n    <tr style=\"text-align: right;\">\n      <th></th>\n      <th>Oil_store</th>\n      <th>주소</th>\n      <th>휘발유</th>\n      <th>경유</th>\n      <th>셀프</th>\n      <th>상표</th>\n      <th>위도</th>\n      <th>경도</th>\n    </tr>\n  </thead>\n  <tbody>\n    <tr>\n      <th>0</th>\n      <td>화곡역주유소</td>\n      <td>서울특별시 강서구  강서로 154 (화곡동)</td>\n      <td>1243</td>\n      <td>1043</td>\n      <td>Y</td>\n      <td>알뜰주유소</td>\n      <td>37.540768</td>\n      <td>126.841472</td>\n    </tr>\n    <tr>\n      <th>1</th>\n      <td>뉴신정주유소</td>\n      <td>서울 강서구 곰달래로 207(화곡동)</td>\n      <td>1243</td>\n      <td>1043</td>\n      <td>N</td>\n      <td>알뜰주유소</td>\n      <td>37.531562</td>\n      <td>126.856035</td>\n    </tr>\n    <tr>\n      <th>2</th>\n      <td>지에스칼텍스㈜ 경인고속주유소</td>\n      <td>서울 강서구 국회대로 225 (화곡동)</td>\n      <td>1266</td>\n      <td>1072</td>\n      <td>Y</td>\n      <td>GS칼텍스</td>\n      <td>37.529645</td>\n      <td>126.859835</td>\n    </tr>\n    <tr>\n      <th>3</th>\n      <td>염창동주유소</td>\n      <td>서울 강서구 양천로 720 (염창동)</td>\n      <td>1688</td>\n      <td>1468</td>\n      <td>N</td>\n      <td>SK에너지</td>\n      <td>37.549218</td>\n      <td>126.875677</td>\n    </tr>\n    <tr>\n      <th>4</th>\n      <td>목동주유소</td>\n      <td>서울 양천구 목동중앙로 125 (목동)</td>\n      <td>1318</td>\n      <td>1128</td>\n      <td>Y</td>\n      <td>SK에너지</td>\n      <td>37.539601</td>\n      <td>126.874553</td>\n    </tr>\n    <tr>\n      <th>5</th>\n      <td>(주)삼표에너지 목동주유소</td>\n      <td>서울 양천구 목동서로 129 (목동)</td>\n      <td>1318</td>\n      <td>1128</td>\n      <td>N</td>\n      <td>GS칼텍스</td>\n      <td>37.532164</td>\n      <td>126.875540</td>\n    </tr>\n    <tr>\n      <th>6</th>\n      <td>가로공원주유소</td>\n      <td>서울 양천구 가로공원로 165 (신월동)</td>\n      <td>1249</td>\n      <td>1048</td>\n      <td>N</td>\n      <td>SK에너지</td>\n      <td>37.537020</td>\n      <td>126.834299</td>\n    </tr>\n    <tr>\n      <th>7</th>\n      <td>현대오일뱅크(주) 양천주유소</td>\n      <td>서울 양천구 안양천로 1179 (목동)</td>\n      <td>1318</td>\n      <td>1128</td>\n      <td>N</td>\n      <td>현대오일뱅크</td>\n      <td>37.545859</td>\n      <td>126.881442</td>\n    </tr>\n    <tr>\n      <th>8</th>\n      <td>지에스칼텍스㈜ 건지주유소</td>\n      <td>서울 양천구 안양천로 1171 (목동)</td>\n      <td>1308</td>\n      <td>1118</td>\n      <td>Y</td>\n      <td>GS칼텍스</td>\n      <td>37.545316</td>\n      <td>126.882153</td>\n    </tr>\n    <tr>\n      <th>9</th>\n      <td>양천구주유소</td>\n      <td>서울 양천구 국회대로 275 (목동)</td>\n      <td>1259</td>\n      <td>1062</td>\n      <td>Y</td>\n      <td>알뜰주유소</td>\n      <td>37.530373</td>\n      <td>126.865512</td>\n    </tr>\n  </tbody>\n</table>\n</div>"
     },
     "metadata": {},
     "execution_count": 12
    }
   ],
   "source": [
    "# 추출한 위도, 경도 정보를 stations 데이터프레임에 추가\n",
    "stations['위도'] = lat_list\n",
    "stations['경도'] = lng_list\n",
    "stations"
   ]
  },
  {
   "cell_type": "code",
   "execution_count": 35,
   "metadata": {},
   "outputs": [],
   "source": [
    "stations['color'] = 'blue'; stations['icon'] = 'tint'"
   ]
  },
  {
   "cell_type": "code",
   "execution_count": 36,
   "metadata": {},
   "outputs": [
    {
     "output_type": "execute_result",
     "data": {
      "text/plain": [
       "  Oil_store                        주소   휘발유    경유 셀프     상표         위도  \\\n",
       "0    화곡역주유소  서울특별시 강서구  강서로 154 (화곡동)  1243  1043  Y  알뜰주유소  37.540768   \n",
       "\n",
       "           경도 color  icon  \n",
       "0  126.841472   red  star  "
      ],
      "text/html": "<div>\n<style scoped>\n    .dataframe tbody tr th:only-of-type {\n        vertical-align: middle;\n    }\n\n    .dataframe tbody tr th {\n        vertical-align: top;\n    }\n\n    .dataframe thead th {\n        text-align: right;\n    }\n</style>\n<table border=\"1\" class=\"dataframe\">\n  <thead>\n    <tr style=\"text-align: right;\">\n      <th></th>\n      <th>Oil_store</th>\n      <th>주소</th>\n      <th>휘발유</th>\n      <th>경유</th>\n      <th>셀프</th>\n      <th>상표</th>\n      <th>위도</th>\n      <th>경도</th>\n      <th>color</th>\n      <th>icon</th>\n    </tr>\n  </thead>\n  <tbody>\n    <tr>\n      <th>0</th>\n      <td>화곡역주유소</td>\n      <td>서울특별시 강서구  강서로 154 (화곡동)</td>\n      <td>1243</td>\n      <td>1043</td>\n      <td>Y</td>\n      <td>알뜰주유소</td>\n      <td>37.540768</td>\n      <td>126.841472</td>\n      <td>red</td>\n      <td>star</td>\n    </tr>\n  </tbody>\n</table>\n</div>"
     },
     "metadata": {},
     "execution_count": 36
    }
   ],
   "source": [
    "# 휘발유 가격을 기준으로 가장 저렴한 곳 찾은 후 color와 icon 다르게 표시\n",
    "top1 = stations.sort_values(by='휘발유', ascending=True).head(1)\n",
    "top1['color'] = 'red'; top1['icon'] = 'star'\n",
    "top1"
   ]
  },
  {
   "cell_type": "code",
   "execution_count": 37,
   "metadata": {},
   "outputs": [
    {
     "output_type": "execute_result",
     "data": {
      "text/plain": [
       "         Oil_store                        주소   휘발유    경유 셀프      상표  \\\n",
       "0           화곡역주유소  서울특별시 강서구  강서로 154 (화곡동)  1243  1043  Y   알뜰주유소   \n",
       "1           뉴신정주유소      서울 강서구 곰달래로 207(화곡동)  1243  1043  N   알뜰주유소   \n",
       "2  지에스칼텍스㈜ 경인고속주유소     서울 강서구 국회대로 225 (화곡동)  1266  1072  Y   GS칼텍스   \n",
       "3           염창동주유소      서울 강서구 양천로 720 (염창동)  1688  1468  N   SK에너지   \n",
       "4            목동주유소     서울 양천구 목동중앙로 125 (목동)  1318  1128  Y   SK에너지   \n",
       "5   (주)삼표에너지 목동주유소      서울 양천구 목동서로 129 (목동)  1318  1128  N   GS칼텍스   \n",
       "6          가로공원주유소    서울 양천구 가로공원로 165 (신월동)  1249  1048  N   SK에너지   \n",
       "7  현대오일뱅크(주) 양천주유소     서울 양천구 안양천로 1179 (목동)  1318  1128  N  현대오일뱅크   \n",
       "8    지에스칼텍스㈜ 건지주유소     서울 양천구 안양천로 1171 (목동)  1308  1118  Y   GS칼텍스   \n",
       "9           양천구주유소      서울 양천구 국회대로 275 (목동)  1259  1062  Y   알뜰주유소   \n",
       "\n",
       "          위도          경도 color  icon  \n",
       "0  37.540768  126.841472   red  star  \n",
       "1  37.531562  126.856035  blue  tint  \n",
       "2  37.529645  126.859835  blue  tint  \n",
       "3  37.549218  126.875677  blue  tint  \n",
       "4  37.539601  126.874553  blue  tint  \n",
       "5  37.532164  126.875540  blue  tint  \n",
       "6  37.537020  126.834299  blue  tint  \n",
       "7  37.545859  126.881442  blue  tint  \n",
       "8  37.545316  126.882153  blue  tint  \n",
       "9  37.530373  126.865512  blue  tint  "
      ],
      "text/html": "<div>\n<style scoped>\n    .dataframe tbody tr th:only-of-type {\n        vertical-align: middle;\n    }\n\n    .dataframe tbody tr th {\n        vertical-align: top;\n    }\n\n    .dataframe thead th {\n        text-align: right;\n    }\n</style>\n<table border=\"1\" class=\"dataframe\">\n  <thead>\n    <tr style=\"text-align: right;\">\n      <th></th>\n      <th>Oil_store</th>\n      <th>주소</th>\n      <th>휘발유</th>\n      <th>경유</th>\n      <th>셀프</th>\n      <th>상표</th>\n      <th>위도</th>\n      <th>경도</th>\n      <th>color</th>\n      <th>icon</th>\n    </tr>\n  </thead>\n  <tbody>\n    <tr>\n      <th>0</th>\n      <td>화곡역주유소</td>\n      <td>서울특별시 강서구  강서로 154 (화곡동)</td>\n      <td>1243</td>\n      <td>1043</td>\n      <td>Y</td>\n      <td>알뜰주유소</td>\n      <td>37.540768</td>\n      <td>126.841472</td>\n      <td>red</td>\n      <td>star</td>\n    </tr>\n    <tr>\n      <th>1</th>\n      <td>뉴신정주유소</td>\n      <td>서울 강서구 곰달래로 207(화곡동)</td>\n      <td>1243</td>\n      <td>1043</td>\n      <td>N</td>\n      <td>알뜰주유소</td>\n      <td>37.531562</td>\n      <td>126.856035</td>\n      <td>blue</td>\n      <td>tint</td>\n    </tr>\n    <tr>\n      <th>2</th>\n      <td>지에스칼텍스㈜ 경인고속주유소</td>\n      <td>서울 강서구 국회대로 225 (화곡동)</td>\n      <td>1266</td>\n      <td>1072</td>\n      <td>Y</td>\n      <td>GS칼텍스</td>\n      <td>37.529645</td>\n      <td>126.859835</td>\n      <td>blue</td>\n      <td>tint</td>\n    </tr>\n    <tr>\n      <th>3</th>\n      <td>염창동주유소</td>\n      <td>서울 강서구 양천로 720 (염창동)</td>\n      <td>1688</td>\n      <td>1468</td>\n      <td>N</td>\n      <td>SK에너지</td>\n      <td>37.549218</td>\n      <td>126.875677</td>\n      <td>blue</td>\n      <td>tint</td>\n    </tr>\n    <tr>\n      <th>4</th>\n      <td>목동주유소</td>\n      <td>서울 양천구 목동중앙로 125 (목동)</td>\n      <td>1318</td>\n      <td>1128</td>\n      <td>Y</td>\n      <td>SK에너지</td>\n      <td>37.539601</td>\n      <td>126.874553</td>\n      <td>blue</td>\n      <td>tint</td>\n    </tr>\n    <tr>\n      <th>5</th>\n      <td>(주)삼표에너지 목동주유소</td>\n      <td>서울 양천구 목동서로 129 (목동)</td>\n      <td>1318</td>\n      <td>1128</td>\n      <td>N</td>\n      <td>GS칼텍스</td>\n      <td>37.532164</td>\n      <td>126.875540</td>\n      <td>blue</td>\n      <td>tint</td>\n    </tr>\n    <tr>\n      <th>6</th>\n      <td>가로공원주유소</td>\n      <td>서울 양천구 가로공원로 165 (신월동)</td>\n      <td>1249</td>\n      <td>1048</td>\n      <td>N</td>\n      <td>SK에너지</td>\n      <td>37.537020</td>\n      <td>126.834299</td>\n      <td>blue</td>\n      <td>tint</td>\n    </tr>\n    <tr>\n      <th>7</th>\n      <td>현대오일뱅크(주) 양천주유소</td>\n      <td>서울 양천구 안양천로 1179 (목동)</td>\n      <td>1318</td>\n      <td>1128</td>\n      <td>N</td>\n      <td>현대오일뱅크</td>\n      <td>37.545859</td>\n      <td>126.881442</td>\n      <td>blue</td>\n      <td>tint</td>\n    </tr>\n    <tr>\n      <th>8</th>\n      <td>지에스칼텍스㈜ 건지주유소</td>\n      <td>서울 양천구 안양천로 1171 (목동)</td>\n      <td>1308</td>\n      <td>1118</td>\n      <td>Y</td>\n      <td>GS칼텍스</td>\n      <td>37.545316</td>\n      <td>126.882153</td>\n      <td>blue</td>\n      <td>tint</td>\n    </tr>\n    <tr>\n      <th>9</th>\n      <td>양천구주유소</td>\n      <td>서울 양천구 국회대로 275 (목동)</td>\n      <td>1259</td>\n      <td>1062</td>\n      <td>Y</td>\n      <td>알뜰주유소</td>\n      <td>37.530373</td>\n      <td>126.865512</td>\n      <td>blue</td>\n      <td>tint</td>\n    </tr>\n  </tbody>\n</table>\n</div>"
     },
     "metadata": {},
     "execution_count": 37
    }
   ],
   "source": [
    "# 원래 데이터프레임과 병합 후 중복제거(단, top1을 앞에 놓음으로써 제거되지 않게함)\n",
    "stations = pd.concat([top1, stations])\n",
    "stations = stations.drop_duplicates(['주소'])\n",
    "stations.reset_index(drop=True, inplace=True)\n",
    "stations"
   ]
  },
  {
   "cell_type": "markdown",
   "metadata": {},
   "source": [
    "### 지도 위에 주유소 10곳 표시\n",
    "- 가장 저렴한 주유소는 따로 표시"
   ]
  },
  {
   "cell_type": "code",
   "execution_count": 38,
   "metadata": {},
   "outputs": [
    {
     "output_type": "execute_result",
     "data": {
      "text/plain": [
       "<folium.folium.Map at 0x17fea4cfdc0>"
      ],
      "text/html": "<div style=\"width:100%;\"><div style=\"position:relative;width:100%;height:0;padding-bottom:60%;\"><span style=\"color:#565656\">Make this Notebook Trusted to load map: File -> Trust Notebook</span><iframe src=\"about:blank\" style=\"position:absolute;width:100%;height:100%;left:0;top:0;border:none !important;\" data-html=%3C%21DOCTYPE%20html%3E%0A%3Chead%3E%20%20%20%20%0A%20%20%20%20%3Cmeta%20http-equiv%3D%22content-type%22%20content%3D%22text/html%3B%20charset%3DUTF-8%22%20/%3E%0A%20%20%20%20%0A%20%20%20%20%20%20%20%20%3Cscript%3E%0A%20%20%20%20%20%20%20%20%20%20%20%20L_NO_TOUCH%20%3D%20false%3B%0A%20%20%20%20%20%20%20%20%20%20%20%20L_DISABLE_3D%20%3D%20false%3B%0A%20%20%20%20%20%20%20%20%3C/script%3E%0A%20%20%20%20%0A%20%20%20%20%3Cscript%20src%3D%22https%3A//cdn.jsdelivr.net/npm/leaflet%401.6.0/dist/leaflet.js%22%3E%3C/script%3E%0A%20%20%20%20%3Cscript%20src%3D%22https%3A//code.jquery.com/jquery-1.12.4.min.js%22%3E%3C/script%3E%0A%20%20%20%20%3Cscript%20src%3D%22https%3A//maxcdn.bootstrapcdn.com/bootstrap/3.2.0/js/bootstrap.min.js%22%3E%3C/script%3E%0A%20%20%20%20%3Cscript%20src%3D%22https%3A//cdnjs.cloudflare.com/ajax/libs/Leaflet.awesome-markers/2.0.2/leaflet.awesome-markers.js%22%3E%3C/script%3E%0A%20%20%20%20%3Clink%20rel%3D%22stylesheet%22%20href%3D%22https%3A//cdn.jsdelivr.net/npm/leaflet%401.6.0/dist/leaflet.css%22/%3E%0A%20%20%20%20%3Clink%20rel%3D%22stylesheet%22%20href%3D%22https%3A//maxcdn.bootstrapcdn.com/bootstrap/3.2.0/css/bootstrap.min.css%22/%3E%0A%20%20%20%20%3Clink%20rel%3D%22stylesheet%22%20href%3D%22https%3A//maxcdn.bootstrapcdn.com/bootstrap/3.2.0/css/bootstrap-theme.min.css%22/%3E%0A%20%20%20%20%3Clink%20rel%3D%22stylesheet%22%20href%3D%22https%3A//maxcdn.bootstrapcdn.com/font-awesome/4.6.3/css/font-awesome.min.css%22/%3E%0A%20%20%20%20%3Clink%20rel%3D%22stylesheet%22%20href%3D%22https%3A//cdnjs.cloudflare.com/ajax/libs/Leaflet.awesome-markers/2.0.2/leaflet.awesome-markers.css%22/%3E%0A%20%20%20%20%3Clink%20rel%3D%22stylesheet%22%20href%3D%22https%3A//rawcdn.githack.com/python-visualization/folium/master/folium/templates/leaflet.awesome.rotate.css%22/%3E%0A%20%20%20%20%3Cstyle%3Ehtml%2C%20body%20%7Bwidth%3A%20100%25%3Bheight%3A%20100%25%3Bmargin%3A%200%3Bpadding%3A%200%3B%7D%3C/style%3E%0A%20%20%20%20%3Cstyle%3E%23map%20%7Bposition%3Aabsolute%3Btop%3A0%3Bbottom%3A0%3Bright%3A0%3Bleft%3A0%3B%7D%3C/style%3E%0A%20%20%20%20%0A%20%20%20%20%20%20%20%20%20%20%20%20%3Cmeta%20name%3D%22viewport%22%20content%3D%22width%3Ddevice-width%2C%0A%20%20%20%20%20%20%20%20%20%20%20%20%20%20%20%20initial-scale%3D1.0%2C%20maximum-scale%3D1.0%2C%20user-scalable%3Dno%22%20/%3E%0A%20%20%20%20%20%20%20%20%20%20%20%20%3Cstyle%3E%0A%20%20%20%20%20%20%20%20%20%20%20%20%20%20%20%20%23map_5b3e1469a7784e0dbb5446381abb96f7%20%7B%0A%20%20%20%20%20%20%20%20%20%20%20%20%20%20%20%20%20%20%20%20position%3A%20relative%3B%0A%20%20%20%20%20%20%20%20%20%20%20%20%20%20%20%20%20%20%20%20width%3A%20100.0%25%3B%0A%20%20%20%20%20%20%20%20%20%20%20%20%20%20%20%20%20%20%20%20height%3A%20100.0%25%3B%0A%20%20%20%20%20%20%20%20%20%20%20%20%20%20%20%20%20%20%20%20left%3A%200.0%25%3B%0A%20%20%20%20%20%20%20%20%20%20%20%20%20%20%20%20%20%20%20%20top%3A%200.0%25%3B%0A%20%20%20%20%20%20%20%20%20%20%20%20%20%20%20%20%7D%0A%20%20%20%20%20%20%20%20%20%20%20%20%3C/style%3E%0A%20%20%20%20%20%20%20%20%0A%3C/head%3E%0A%3Cbody%3E%20%20%20%20%0A%20%20%20%20%0A%20%20%20%20%20%20%20%20%20%20%20%20%3Cdiv%20class%3D%22folium-map%22%20id%3D%22map_5b3e1469a7784e0dbb5446381abb96f7%22%20%3E%3C/div%3E%0A%20%20%20%20%20%20%20%20%0A%3C/body%3E%0A%3Cscript%3E%20%20%20%20%0A%20%20%20%20%0A%20%20%20%20%20%20%20%20%20%20%20%20var%20map_5b3e1469a7784e0dbb5446381abb96f7%20%3D%20L.map%28%0A%20%20%20%20%20%20%20%20%20%20%20%20%20%20%20%20%22map_5b3e1469a7784e0dbb5446381abb96f7%22%2C%0A%20%20%20%20%20%20%20%20%20%20%20%20%20%20%20%20%7B%0A%20%20%20%20%20%20%20%20%20%20%20%20%20%20%20%20%20%20%20%20center%3A%20%5B37.5381526099203%2C%20126.86465176267389%5D%2C%0A%20%20%20%20%20%20%20%20%20%20%20%20%20%20%20%20%20%20%20%20crs%3A%20L.CRS.EPSG3857%2C%0A%20%20%20%20%20%20%20%20%20%20%20%20%20%20%20%20%20%20%20%20zoom%3A%2014%2C%0A%20%20%20%20%20%20%20%20%20%20%20%20%20%20%20%20%20%20%20%20zoomControl%3A%20true%2C%0A%20%20%20%20%20%20%20%20%20%20%20%20%20%20%20%20%20%20%20%20preferCanvas%3A%20false%2C%0A%20%20%20%20%20%20%20%20%20%20%20%20%20%20%20%20%7D%0A%20%20%20%20%20%20%20%20%20%20%20%20%29%3B%0A%0A%20%20%20%20%20%20%20%20%20%20%20%20%0A%0A%20%20%20%20%20%20%20%20%0A%20%20%20%20%0A%20%20%20%20%20%20%20%20%20%20%20%20var%20tile_layer_3987f0093d0043229865ec1edde43a3b%20%3D%20L.tileLayer%28%0A%20%20%20%20%20%20%20%20%20%20%20%20%20%20%20%20%22https%3A//%7Bs%7D.tile.openstreetmap.org/%7Bz%7D/%7Bx%7D/%7By%7D.png%22%2C%0A%20%20%20%20%20%20%20%20%20%20%20%20%20%20%20%20%7B%22attribution%22%3A%20%22Data%20by%20%5Cu0026copy%3B%20%5Cu003ca%20href%3D%5C%22http%3A//openstreetmap.org%5C%22%5Cu003eOpenStreetMap%5Cu003c/a%5Cu003e%2C%20under%20%5Cu003ca%20href%3D%5C%22http%3A//www.openstreetmap.org/copyright%5C%22%5Cu003eODbL%5Cu003c/a%5Cu003e.%22%2C%20%22detectRetina%22%3A%20false%2C%20%22maxNativeZoom%22%3A%2018%2C%20%22maxZoom%22%3A%2018%2C%20%22minZoom%22%3A%200%2C%20%22noWrap%22%3A%20false%2C%20%22opacity%22%3A%201%2C%20%22subdomains%22%3A%20%22abc%22%2C%20%22tms%22%3A%20false%7D%0A%20%20%20%20%20%20%20%20%20%20%20%20%29.addTo%28map_5b3e1469a7784e0dbb5446381abb96f7%29%3B%0A%20%20%20%20%20%20%20%20%0A%20%20%20%20%0A%20%20%20%20%20%20%20%20%20%20%20%20var%20marker_507e5fcc66d3410eb1fdcf8f82266483%20%3D%20L.marker%28%0A%20%20%20%20%20%20%20%20%20%20%20%20%20%20%20%20%5B37.5407680113225%2C%20126.8414715329%5D%2C%0A%20%20%20%20%20%20%20%20%20%20%20%20%20%20%20%20%7B%7D%0A%20%20%20%20%20%20%20%20%20%20%20%20%29.addTo%28map_5b3e1469a7784e0dbb5446381abb96f7%29%3B%0A%20%20%20%20%20%20%20%20%0A%20%20%20%20%0A%20%20%20%20%20%20%20%20%20%20%20%20var%20icon_5661dbb8803b44beb285907553b4aa6d%20%3D%20L.AwesomeMarkers.icon%28%0A%20%20%20%20%20%20%20%20%20%20%20%20%20%20%20%20%7B%22extraClasses%22%3A%20%22fa-rotate-0%22%2C%20%22icon%22%3A%20%22star%22%2C%20%22iconColor%22%3A%20%22white%22%2C%20%22markerColor%22%3A%20%22red%22%2C%20%22prefix%22%3A%20%22glyphicon%22%7D%0A%20%20%20%20%20%20%20%20%20%20%20%20%29%3B%0A%20%20%20%20%20%20%20%20%20%20%20%20marker_507e5fcc66d3410eb1fdcf8f82266483.setIcon%28icon_5661dbb8803b44beb285907553b4aa6d%29%3B%0A%20%20%20%20%20%20%20%20%0A%20%20%20%20%0A%20%20%20%20%20%20%20%20var%20popup_f8b1f4772a9b48788060c99db0788fe8%20%3D%20L.popup%28%7B%22maxWidth%22%3A%20%22100%25%22%7D%29%3B%0A%0A%20%20%20%20%20%20%20%20%0A%20%20%20%20%20%20%20%20%20%20%20%20var%20html_eb870577ac8842868cefb69a164d1f19%20%3D%20%24%28%60%3Cdiv%20id%3D%22html_eb870577ac8842868cefb69a164d1f19%22%20style%3D%22width%3A%20100.0%25%3B%20height%3A%20100.0%25%3B%22%3E%EC%84%9C%EC%9A%B8%ED%8A%B9%EB%B3%84%EC%8B%9C%20%EA%B0%95%EC%84%9C%EA%B5%AC%20%20%EA%B0%95%EC%84%9C%EB%A1%9C%20154%20%28%ED%99%94%EA%B3%A1%EB%8F%99%29%3C/div%3E%60%29%5B0%5D%3B%0A%20%20%20%20%20%20%20%20%20%20%20%20popup_f8b1f4772a9b48788060c99db0788fe8.setContent%28html_eb870577ac8842868cefb69a164d1f19%29%3B%0A%20%20%20%20%20%20%20%20%0A%0A%20%20%20%20%20%20%20%20marker_507e5fcc66d3410eb1fdcf8f82266483.bindPopup%28popup_f8b1f4772a9b48788060c99db0788fe8%29%0A%20%20%20%20%20%20%20%20%3B%0A%0A%20%20%20%20%20%20%20%20%0A%20%20%20%20%0A%20%20%20%20%0A%20%20%20%20%20%20%20%20%20%20%20%20marker_507e5fcc66d3410eb1fdcf8f82266483.bindTooltip%28%0A%20%20%20%20%20%20%20%20%20%20%20%20%20%20%20%20%60%3Cdiv%3E%0A%20%20%20%20%20%20%20%20%20%20%20%20%20%20%20%20%20%20%20%20%20%ED%9C%98%EB%B0%9C%EC%9C%A0%20%EA%B0%80%EA%B2%A9%3A%201243%EC%9B%90%20/%20%EA%B2%BD%EC%9C%A0%20%EA%B0%80%EA%B2%A9%3A%201043%EC%9B%90%0A%20%20%20%20%20%20%20%20%20%20%20%20%20%20%20%20%20%3C/div%3E%60%2C%0A%20%20%20%20%20%20%20%20%20%20%20%20%20%20%20%20%7B%22sticky%22%3A%20true%7D%0A%20%20%20%20%20%20%20%20%20%20%20%20%29%3B%0A%20%20%20%20%20%20%20%20%0A%20%20%20%20%0A%20%20%20%20%20%20%20%20%20%20%20%20var%20marker_27865bd68ab14389be7b2327bb4e79a6%20%3D%20L.marker%28%0A%20%20%20%20%20%20%20%20%20%20%20%20%20%20%20%20%5B37.5315624983884%2C%20126.856035365887%5D%2C%0A%20%20%20%20%20%20%20%20%20%20%20%20%20%20%20%20%7B%7D%0A%20%20%20%20%20%20%20%20%20%20%20%20%29.addTo%28map_5b3e1469a7784e0dbb5446381abb96f7%29%3B%0A%20%20%20%20%20%20%20%20%0A%20%20%20%20%0A%20%20%20%20%20%20%20%20%20%20%20%20var%20icon_785b637e34f74dfa8f36c6ccf673143d%20%3D%20L.AwesomeMarkers.icon%28%0A%20%20%20%20%20%20%20%20%20%20%20%20%20%20%20%20%7B%22extraClasses%22%3A%20%22fa-rotate-0%22%2C%20%22icon%22%3A%20%22tint%22%2C%20%22iconColor%22%3A%20%22white%22%2C%20%22markerColor%22%3A%20%22blue%22%2C%20%22prefix%22%3A%20%22glyphicon%22%7D%0A%20%20%20%20%20%20%20%20%20%20%20%20%29%3B%0A%20%20%20%20%20%20%20%20%20%20%20%20marker_27865bd68ab14389be7b2327bb4e79a6.setIcon%28icon_785b637e34f74dfa8f36c6ccf673143d%29%3B%0A%20%20%20%20%20%20%20%20%0A%20%20%20%20%0A%20%20%20%20%20%20%20%20var%20popup_1fffa266724047adb354ee413d7c13c4%20%3D%20L.popup%28%7B%22maxWidth%22%3A%20%22100%25%22%7D%29%3B%0A%0A%20%20%20%20%20%20%20%20%0A%20%20%20%20%20%20%20%20%20%20%20%20var%20html_dc6261f312a048ee8512be7d5d652388%20%3D%20%24%28%60%3Cdiv%20id%3D%22html_dc6261f312a048ee8512be7d5d652388%22%20style%3D%22width%3A%20100.0%25%3B%20height%3A%20100.0%25%3B%22%3E%EC%84%9C%EC%9A%B8%20%EA%B0%95%EC%84%9C%EA%B5%AC%20%EA%B3%B0%EB%8B%AC%EB%9E%98%EB%A1%9C%20207%28%ED%99%94%EA%B3%A1%EB%8F%99%29%3C/div%3E%60%29%5B0%5D%3B%0A%20%20%20%20%20%20%20%20%20%20%20%20popup_1fffa266724047adb354ee413d7c13c4.setContent%28html_dc6261f312a048ee8512be7d5d652388%29%3B%0A%20%20%20%20%20%20%20%20%0A%0A%20%20%20%20%20%20%20%20marker_27865bd68ab14389be7b2327bb4e79a6.bindPopup%28popup_1fffa266724047adb354ee413d7c13c4%29%0A%20%20%20%20%20%20%20%20%3B%0A%0A%20%20%20%20%20%20%20%20%0A%20%20%20%20%0A%20%20%20%20%0A%20%20%20%20%20%20%20%20%20%20%20%20marker_27865bd68ab14389be7b2327bb4e79a6.bindTooltip%28%0A%20%20%20%20%20%20%20%20%20%20%20%20%20%20%20%20%60%3Cdiv%3E%0A%20%20%20%20%20%20%20%20%20%20%20%20%20%20%20%20%20%20%20%20%20%ED%9C%98%EB%B0%9C%EC%9C%A0%20%EA%B0%80%EA%B2%A9%3A%201243%EC%9B%90%20/%20%EA%B2%BD%EC%9C%A0%20%EA%B0%80%EA%B2%A9%3A%201043%EC%9B%90%0A%20%20%20%20%20%20%20%20%20%20%20%20%20%20%20%20%20%3C/div%3E%60%2C%0A%20%20%20%20%20%20%20%20%20%20%20%20%20%20%20%20%7B%22sticky%22%3A%20true%7D%0A%20%20%20%20%20%20%20%20%20%20%20%20%29%3B%0A%20%20%20%20%20%20%20%20%0A%20%20%20%20%0A%20%20%20%20%20%20%20%20%20%20%20%20var%20marker_b202cf3ccca54294889d1ede1e469e47%20%3D%20L.marker%28%0A%20%20%20%20%20%20%20%20%20%20%20%20%20%20%20%20%5B37.5296452344476%2C%20126.859834931985%5D%2C%0A%20%20%20%20%20%20%20%20%20%20%20%20%20%20%20%20%7B%7D%0A%20%20%20%20%20%20%20%20%20%20%20%20%29.addTo%28map_5b3e1469a7784e0dbb5446381abb96f7%29%3B%0A%20%20%20%20%20%20%20%20%0A%20%20%20%20%0A%20%20%20%20%20%20%20%20%20%20%20%20var%20icon_f03d9c80048644059e75d578d965b88b%20%3D%20L.AwesomeMarkers.icon%28%0A%20%20%20%20%20%20%20%20%20%20%20%20%20%20%20%20%7B%22extraClasses%22%3A%20%22fa-rotate-0%22%2C%20%22icon%22%3A%20%22tint%22%2C%20%22iconColor%22%3A%20%22white%22%2C%20%22markerColor%22%3A%20%22blue%22%2C%20%22prefix%22%3A%20%22glyphicon%22%7D%0A%20%20%20%20%20%20%20%20%20%20%20%20%29%3B%0A%20%20%20%20%20%20%20%20%20%20%20%20marker_b202cf3ccca54294889d1ede1e469e47.setIcon%28icon_f03d9c80048644059e75d578d965b88b%29%3B%0A%20%20%20%20%20%20%20%20%0A%20%20%20%20%0A%20%20%20%20%20%20%20%20var%20popup_254c9a460b944fc191dab3190ba701bf%20%3D%20L.popup%28%7B%22maxWidth%22%3A%20%22100%25%22%7D%29%3B%0A%0A%20%20%20%20%20%20%20%20%0A%20%20%20%20%20%20%20%20%20%20%20%20var%20html_eb410983ce514e7788f04ad8c99aae01%20%3D%20%24%28%60%3Cdiv%20id%3D%22html_eb410983ce514e7788f04ad8c99aae01%22%20style%3D%22width%3A%20100.0%25%3B%20height%3A%20100.0%25%3B%22%3E%EC%84%9C%EC%9A%B8%20%EA%B0%95%EC%84%9C%EA%B5%AC%20%EA%B5%AD%ED%9A%8C%EB%8C%80%EB%A1%9C%20225%20%28%ED%99%94%EA%B3%A1%EB%8F%99%29%3C/div%3E%60%29%5B0%5D%3B%0A%20%20%20%20%20%20%20%20%20%20%20%20popup_254c9a460b944fc191dab3190ba701bf.setContent%28html_eb410983ce514e7788f04ad8c99aae01%29%3B%0A%20%20%20%20%20%20%20%20%0A%0A%20%20%20%20%20%20%20%20marker_b202cf3ccca54294889d1ede1e469e47.bindPopup%28popup_254c9a460b944fc191dab3190ba701bf%29%0A%20%20%20%20%20%20%20%20%3B%0A%0A%20%20%20%20%20%20%20%20%0A%20%20%20%20%0A%20%20%20%20%0A%20%20%20%20%20%20%20%20%20%20%20%20marker_b202cf3ccca54294889d1ede1e469e47.bindTooltip%28%0A%20%20%20%20%20%20%20%20%20%20%20%20%20%20%20%20%60%3Cdiv%3E%0A%20%20%20%20%20%20%20%20%20%20%20%20%20%20%20%20%20%20%20%20%20%ED%9C%98%EB%B0%9C%EC%9C%A0%20%EA%B0%80%EA%B2%A9%3A%201266%EC%9B%90%20/%20%EA%B2%BD%EC%9C%A0%20%EA%B0%80%EA%B2%A9%3A%201072%EC%9B%90%0A%20%20%20%20%20%20%20%20%20%20%20%20%20%20%20%20%20%3C/div%3E%60%2C%0A%20%20%20%20%20%20%20%20%20%20%20%20%20%20%20%20%7B%22sticky%22%3A%20true%7D%0A%20%20%20%20%20%20%20%20%20%20%20%20%29%3B%0A%20%20%20%20%20%20%20%20%0A%20%20%20%20%0A%20%20%20%20%20%20%20%20%20%20%20%20var%20marker_c92dacda632440dc805a196417d4dfff%20%3D%20L.marker%28%0A%20%20%20%20%20%20%20%20%20%20%20%20%20%20%20%20%5B37.5492177273409%2C%20126.875677103073%5D%2C%0A%20%20%20%20%20%20%20%20%20%20%20%20%20%20%20%20%7B%7D%0A%20%20%20%20%20%20%20%20%20%20%20%20%29.addTo%28map_5b3e1469a7784e0dbb5446381abb96f7%29%3B%0A%20%20%20%20%20%20%20%20%0A%20%20%20%20%0A%20%20%20%20%20%20%20%20%20%20%20%20var%20icon_ed665cfcba964ddaa02ec85bec460000%20%3D%20L.AwesomeMarkers.icon%28%0A%20%20%20%20%20%20%20%20%20%20%20%20%20%20%20%20%7B%22extraClasses%22%3A%20%22fa-rotate-0%22%2C%20%22icon%22%3A%20%22tint%22%2C%20%22iconColor%22%3A%20%22white%22%2C%20%22markerColor%22%3A%20%22blue%22%2C%20%22prefix%22%3A%20%22glyphicon%22%7D%0A%20%20%20%20%20%20%20%20%20%20%20%20%29%3B%0A%20%20%20%20%20%20%20%20%20%20%20%20marker_c92dacda632440dc805a196417d4dfff.setIcon%28icon_ed665cfcba964ddaa02ec85bec460000%29%3B%0A%20%20%20%20%20%20%20%20%0A%20%20%20%20%0A%20%20%20%20%20%20%20%20var%20popup_45aa794c29c14098bacbe4bce089e340%20%3D%20L.popup%28%7B%22maxWidth%22%3A%20%22100%25%22%7D%29%3B%0A%0A%20%20%20%20%20%20%20%20%0A%20%20%20%20%20%20%20%20%20%20%20%20var%20html_1c94a5b1314644869e266a5880794ed8%20%3D%20%24%28%60%3Cdiv%20id%3D%22html_1c94a5b1314644869e266a5880794ed8%22%20style%3D%22width%3A%20100.0%25%3B%20height%3A%20100.0%25%3B%22%3E%EC%84%9C%EC%9A%B8%20%EA%B0%95%EC%84%9C%EA%B5%AC%20%EC%96%91%EC%B2%9C%EB%A1%9C%20720%20%28%EC%97%BC%EC%B0%BD%EB%8F%99%29%3C/div%3E%60%29%5B0%5D%3B%0A%20%20%20%20%20%20%20%20%20%20%20%20popup_45aa794c29c14098bacbe4bce089e340.setContent%28html_1c94a5b1314644869e266a5880794ed8%29%3B%0A%20%20%20%20%20%20%20%20%0A%0A%20%20%20%20%20%20%20%20marker_c92dacda632440dc805a196417d4dfff.bindPopup%28popup_45aa794c29c14098bacbe4bce089e340%29%0A%20%20%20%20%20%20%20%20%3B%0A%0A%20%20%20%20%20%20%20%20%0A%20%20%20%20%0A%20%20%20%20%0A%20%20%20%20%20%20%20%20%20%20%20%20marker_c92dacda632440dc805a196417d4dfff.bindTooltip%28%0A%20%20%20%20%20%20%20%20%20%20%20%20%20%20%20%20%60%3Cdiv%3E%0A%20%20%20%20%20%20%20%20%20%20%20%20%20%20%20%20%20%20%20%20%20%ED%9C%98%EB%B0%9C%EC%9C%A0%20%EA%B0%80%EA%B2%A9%3A%201688%EC%9B%90%20/%20%EA%B2%BD%EC%9C%A0%20%EA%B0%80%EA%B2%A9%3A%201468%EC%9B%90%0A%20%20%20%20%20%20%20%20%20%20%20%20%20%20%20%20%20%3C/div%3E%60%2C%0A%20%20%20%20%20%20%20%20%20%20%20%20%20%20%20%20%7B%22sticky%22%3A%20true%7D%0A%20%20%20%20%20%20%20%20%20%20%20%20%29%3B%0A%20%20%20%20%20%20%20%20%0A%20%20%20%20%0A%20%20%20%20%20%20%20%20%20%20%20%20var%20marker_2475b878266c4421b260f3bc1d78e5cf%20%3D%20L.marker%28%0A%20%20%20%20%20%20%20%20%20%20%20%20%20%20%20%20%5B37.5396005386844%2C%20126.874552753564%5D%2C%0A%20%20%20%20%20%20%20%20%20%20%20%20%20%20%20%20%7B%7D%0A%20%20%20%20%20%20%20%20%20%20%20%20%29.addTo%28map_5b3e1469a7784e0dbb5446381abb96f7%29%3B%0A%20%20%20%20%20%20%20%20%0A%20%20%20%20%0A%20%20%20%20%20%20%20%20%20%20%20%20var%20icon_dd69101a29514114800d2ebca6204921%20%3D%20L.AwesomeMarkers.icon%28%0A%20%20%20%20%20%20%20%20%20%20%20%20%20%20%20%20%7B%22extraClasses%22%3A%20%22fa-rotate-0%22%2C%20%22icon%22%3A%20%22tint%22%2C%20%22iconColor%22%3A%20%22white%22%2C%20%22markerColor%22%3A%20%22blue%22%2C%20%22prefix%22%3A%20%22glyphicon%22%7D%0A%20%20%20%20%20%20%20%20%20%20%20%20%29%3B%0A%20%20%20%20%20%20%20%20%20%20%20%20marker_2475b878266c4421b260f3bc1d78e5cf.setIcon%28icon_dd69101a29514114800d2ebca6204921%29%3B%0A%20%20%20%20%20%20%20%20%0A%20%20%20%20%0A%20%20%20%20%20%20%20%20var%20popup_add13f55b7ae4a728ffa4badd1ccfc82%20%3D%20L.popup%28%7B%22maxWidth%22%3A%20%22100%25%22%7D%29%3B%0A%0A%20%20%20%20%20%20%20%20%0A%20%20%20%20%20%20%20%20%20%20%20%20var%20html_e9a8ea07cfb24b4a900af7d2edb6c505%20%3D%20%24%28%60%3Cdiv%20id%3D%22html_e9a8ea07cfb24b4a900af7d2edb6c505%22%20style%3D%22width%3A%20100.0%25%3B%20height%3A%20100.0%25%3B%22%3E%EC%84%9C%EC%9A%B8%20%EC%96%91%EC%B2%9C%EA%B5%AC%20%EB%AA%A9%EB%8F%99%EC%A4%91%EC%95%99%EB%A1%9C%20125%20%28%EB%AA%A9%EB%8F%99%29%3C/div%3E%60%29%5B0%5D%3B%0A%20%20%20%20%20%20%20%20%20%20%20%20popup_add13f55b7ae4a728ffa4badd1ccfc82.setContent%28html_e9a8ea07cfb24b4a900af7d2edb6c505%29%3B%0A%20%20%20%20%20%20%20%20%0A%0A%20%20%20%20%20%20%20%20marker_2475b878266c4421b260f3bc1d78e5cf.bindPopup%28popup_add13f55b7ae4a728ffa4badd1ccfc82%29%0A%20%20%20%20%20%20%20%20%3B%0A%0A%20%20%20%20%20%20%20%20%0A%20%20%20%20%0A%20%20%20%20%0A%20%20%20%20%20%20%20%20%20%20%20%20marker_2475b878266c4421b260f3bc1d78e5cf.bindTooltip%28%0A%20%20%20%20%20%20%20%20%20%20%20%20%20%20%20%20%60%3Cdiv%3E%0A%20%20%20%20%20%20%20%20%20%20%20%20%20%20%20%20%20%20%20%20%20%ED%9C%98%EB%B0%9C%EC%9C%A0%20%EA%B0%80%EA%B2%A9%3A%201318%EC%9B%90%20/%20%EA%B2%BD%EC%9C%A0%20%EA%B0%80%EA%B2%A9%3A%201128%EC%9B%90%0A%20%20%20%20%20%20%20%20%20%20%20%20%20%20%20%20%20%3C/div%3E%60%2C%0A%20%20%20%20%20%20%20%20%20%20%20%20%20%20%20%20%7B%22sticky%22%3A%20true%7D%0A%20%20%20%20%20%20%20%20%20%20%20%20%29%3B%0A%20%20%20%20%20%20%20%20%0A%20%20%20%20%0A%20%20%20%20%20%20%20%20%20%20%20%20var%20marker_04d5ef44ec924d38acd09da3b522555d%20%3D%20L.marker%28%0A%20%20%20%20%20%20%20%20%20%20%20%20%20%20%20%20%5B37.5321638279811%2C%20126.875540347599%5D%2C%0A%20%20%20%20%20%20%20%20%20%20%20%20%20%20%20%20%7B%7D%0A%20%20%20%20%20%20%20%20%20%20%20%20%29.addTo%28map_5b3e1469a7784e0dbb5446381abb96f7%29%3B%0A%20%20%20%20%20%20%20%20%0A%20%20%20%20%0A%20%20%20%20%20%20%20%20%20%20%20%20var%20icon_c343dcf38f86422980b13f578c55eb01%20%3D%20L.AwesomeMarkers.icon%28%0A%20%20%20%20%20%20%20%20%20%20%20%20%20%20%20%20%7B%22extraClasses%22%3A%20%22fa-rotate-0%22%2C%20%22icon%22%3A%20%22tint%22%2C%20%22iconColor%22%3A%20%22white%22%2C%20%22markerColor%22%3A%20%22blue%22%2C%20%22prefix%22%3A%20%22glyphicon%22%7D%0A%20%20%20%20%20%20%20%20%20%20%20%20%29%3B%0A%20%20%20%20%20%20%20%20%20%20%20%20marker_04d5ef44ec924d38acd09da3b522555d.setIcon%28icon_c343dcf38f86422980b13f578c55eb01%29%3B%0A%20%20%20%20%20%20%20%20%0A%20%20%20%20%0A%20%20%20%20%20%20%20%20var%20popup_7e1e964355ac49c7868ced2654fa3a48%20%3D%20L.popup%28%7B%22maxWidth%22%3A%20%22100%25%22%7D%29%3B%0A%0A%20%20%20%20%20%20%20%20%0A%20%20%20%20%20%20%20%20%20%20%20%20var%20html_c3ab05ff90f54007b0c22e5935917362%20%3D%20%24%28%60%3Cdiv%20id%3D%22html_c3ab05ff90f54007b0c22e5935917362%22%20style%3D%22width%3A%20100.0%25%3B%20height%3A%20100.0%25%3B%22%3E%EC%84%9C%EC%9A%B8%20%EC%96%91%EC%B2%9C%EA%B5%AC%20%EB%AA%A9%EB%8F%99%EC%84%9C%EB%A1%9C%20129%20%28%EB%AA%A9%EB%8F%99%29%3C/div%3E%60%29%5B0%5D%3B%0A%20%20%20%20%20%20%20%20%20%20%20%20popup_7e1e964355ac49c7868ced2654fa3a48.setContent%28html_c3ab05ff90f54007b0c22e5935917362%29%3B%0A%20%20%20%20%20%20%20%20%0A%0A%20%20%20%20%20%20%20%20marker_04d5ef44ec924d38acd09da3b522555d.bindPopup%28popup_7e1e964355ac49c7868ced2654fa3a48%29%0A%20%20%20%20%20%20%20%20%3B%0A%0A%20%20%20%20%20%20%20%20%0A%20%20%20%20%0A%20%20%20%20%0A%20%20%20%20%20%20%20%20%20%20%20%20marker_04d5ef44ec924d38acd09da3b522555d.bindTooltip%28%0A%20%20%20%20%20%20%20%20%20%20%20%20%20%20%20%20%60%3Cdiv%3E%0A%20%20%20%20%20%20%20%20%20%20%20%20%20%20%20%20%20%20%20%20%20%ED%9C%98%EB%B0%9C%EC%9C%A0%20%EA%B0%80%EA%B2%A9%3A%201318%EC%9B%90%20/%20%EA%B2%BD%EC%9C%A0%20%EA%B0%80%EA%B2%A9%3A%201128%EC%9B%90%0A%20%20%20%20%20%20%20%20%20%20%20%20%20%20%20%20%20%3C/div%3E%60%2C%0A%20%20%20%20%20%20%20%20%20%20%20%20%20%20%20%20%7B%22sticky%22%3A%20true%7D%0A%20%20%20%20%20%20%20%20%20%20%20%20%29%3B%0A%20%20%20%20%20%20%20%20%0A%20%20%20%20%0A%20%20%20%20%20%20%20%20%20%20%20%20var%20marker_ac7b34f47c5143c7af005e26fe10bf66%20%3D%20L.marker%28%0A%20%20%20%20%20%20%20%20%20%20%20%20%20%20%20%20%5B37.5370203692233%2C%20126.834298807985%5D%2C%0A%20%20%20%20%20%20%20%20%20%20%20%20%20%20%20%20%7B%7D%0A%20%20%20%20%20%20%20%20%20%20%20%20%29.addTo%28map_5b3e1469a7784e0dbb5446381abb96f7%29%3B%0A%20%20%20%20%20%20%20%20%0A%20%20%20%20%0A%20%20%20%20%20%20%20%20%20%20%20%20var%20icon_873999a8aedd43c7915473e1dc7d21ed%20%3D%20L.AwesomeMarkers.icon%28%0A%20%20%20%20%20%20%20%20%20%20%20%20%20%20%20%20%7B%22extraClasses%22%3A%20%22fa-rotate-0%22%2C%20%22icon%22%3A%20%22tint%22%2C%20%22iconColor%22%3A%20%22white%22%2C%20%22markerColor%22%3A%20%22blue%22%2C%20%22prefix%22%3A%20%22glyphicon%22%7D%0A%20%20%20%20%20%20%20%20%20%20%20%20%29%3B%0A%20%20%20%20%20%20%20%20%20%20%20%20marker_ac7b34f47c5143c7af005e26fe10bf66.setIcon%28icon_873999a8aedd43c7915473e1dc7d21ed%29%3B%0A%20%20%20%20%20%20%20%20%0A%20%20%20%20%0A%20%20%20%20%20%20%20%20var%20popup_4d63ff46167f48a88775a4e94e28ee2f%20%3D%20L.popup%28%7B%22maxWidth%22%3A%20%22100%25%22%7D%29%3B%0A%0A%20%20%20%20%20%20%20%20%0A%20%20%20%20%20%20%20%20%20%20%20%20var%20html_f1a70ef6e7a24c43b890112fe904fce7%20%3D%20%24%28%60%3Cdiv%20id%3D%22html_f1a70ef6e7a24c43b890112fe904fce7%22%20style%3D%22width%3A%20100.0%25%3B%20height%3A%20100.0%25%3B%22%3E%EC%84%9C%EC%9A%B8%20%EC%96%91%EC%B2%9C%EA%B5%AC%20%EA%B0%80%EB%A1%9C%EA%B3%B5%EC%9B%90%EB%A1%9C%20165%20%28%EC%8B%A0%EC%9B%94%EB%8F%99%29%3C/div%3E%60%29%5B0%5D%3B%0A%20%20%20%20%20%20%20%20%20%20%20%20popup_4d63ff46167f48a88775a4e94e28ee2f.setContent%28html_f1a70ef6e7a24c43b890112fe904fce7%29%3B%0A%20%20%20%20%20%20%20%20%0A%0A%20%20%20%20%20%20%20%20marker_ac7b34f47c5143c7af005e26fe10bf66.bindPopup%28popup_4d63ff46167f48a88775a4e94e28ee2f%29%0A%20%20%20%20%20%20%20%20%3B%0A%0A%20%20%20%20%20%20%20%20%0A%20%20%20%20%0A%20%20%20%20%0A%20%20%20%20%20%20%20%20%20%20%20%20marker_ac7b34f47c5143c7af005e26fe10bf66.bindTooltip%28%0A%20%20%20%20%20%20%20%20%20%20%20%20%20%20%20%20%60%3Cdiv%3E%0A%20%20%20%20%20%20%20%20%20%20%20%20%20%20%20%20%20%20%20%20%20%ED%9C%98%EB%B0%9C%EC%9C%A0%20%EA%B0%80%EA%B2%A9%3A%201249%EC%9B%90%20/%20%EA%B2%BD%EC%9C%A0%20%EA%B0%80%EA%B2%A9%3A%201048%EC%9B%90%0A%20%20%20%20%20%20%20%20%20%20%20%20%20%20%20%20%20%3C/div%3E%60%2C%0A%20%20%20%20%20%20%20%20%20%20%20%20%20%20%20%20%7B%22sticky%22%3A%20true%7D%0A%20%20%20%20%20%20%20%20%20%20%20%20%29%3B%0A%20%20%20%20%20%20%20%20%0A%20%20%20%20%0A%20%20%20%20%20%20%20%20%20%20%20%20var%20marker_f8921937acae403db591e6d75880c736%20%3D%20L.marker%28%0A%20%20%20%20%20%20%20%20%20%20%20%20%20%20%20%20%5B37.5458594189461%2C%20126.88144235004%5D%2C%0A%20%20%20%20%20%20%20%20%20%20%20%20%20%20%20%20%7B%7D%0A%20%20%20%20%20%20%20%20%20%20%20%20%29.addTo%28map_5b3e1469a7784e0dbb5446381abb96f7%29%3B%0A%20%20%20%20%20%20%20%20%0A%20%20%20%20%0A%20%20%20%20%20%20%20%20%20%20%20%20var%20icon_cdb69cf05d0840aab3798dcf9c84a290%20%3D%20L.AwesomeMarkers.icon%28%0A%20%20%20%20%20%20%20%20%20%20%20%20%20%20%20%20%7B%22extraClasses%22%3A%20%22fa-rotate-0%22%2C%20%22icon%22%3A%20%22tint%22%2C%20%22iconColor%22%3A%20%22white%22%2C%20%22markerColor%22%3A%20%22blue%22%2C%20%22prefix%22%3A%20%22glyphicon%22%7D%0A%20%20%20%20%20%20%20%20%20%20%20%20%29%3B%0A%20%20%20%20%20%20%20%20%20%20%20%20marker_f8921937acae403db591e6d75880c736.setIcon%28icon_cdb69cf05d0840aab3798dcf9c84a290%29%3B%0A%20%20%20%20%20%20%20%20%0A%20%20%20%20%0A%20%20%20%20%20%20%20%20var%20popup_f2338c1fda1b4ea1ae51b6aec376f32c%20%3D%20L.popup%28%7B%22maxWidth%22%3A%20%22100%25%22%7D%29%3B%0A%0A%20%20%20%20%20%20%20%20%0A%20%20%20%20%20%20%20%20%20%20%20%20var%20html_48a17b7a8c344835aa507040c404ad43%20%3D%20%24%28%60%3Cdiv%20id%3D%22html_48a17b7a8c344835aa507040c404ad43%22%20style%3D%22width%3A%20100.0%25%3B%20height%3A%20100.0%25%3B%22%3E%EC%84%9C%EC%9A%B8%20%EC%96%91%EC%B2%9C%EA%B5%AC%20%EC%95%88%EC%96%91%EC%B2%9C%EB%A1%9C%201179%20%28%EB%AA%A9%EB%8F%99%29%3C/div%3E%60%29%5B0%5D%3B%0A%20%20%20%20%20%20%20%20%20%20%20%20popup_f2338c1fda1b4ea1ae51b6aec376f32c.setContent%28html_48a17b7a8c344835aa507040c404ad43%29%3B%0A%20%20%20%20%20%20%20%20%0A%0A%20%20%20%20%20%20%20%20marker_f8921937acae403db591e6d75880c736.bindPopup%28popup_f2338c1fda1b4ea1ae51b6aec376f32c%29%0A%20%20%20%20%20%20%20%20%3B%0A%0A%20%20%20%20%20%20%20%20%0A%20%20%20%20%0A%20%20%20%20%0A%20%20%20%20%20%20%20%20%20%20%20%20marker_f8921937acae403db591e6d75880c736.bindTooltip%28%0A%20%20%20%20%20%20%20%20%20%20%20%20%20%20%20%20%60%3Cdiv%3E%0A%20%20%20%20%20%20%20%20%20%20%20%20%20%20%20%20%20%20%20%20%20%ED%9C%98%EB%B0%9C%EC%9C%A0%20%EA%B0%80%EA%B2%A9%3A%201318%EC%9B%90%20/%20%EA%B2%BD%EC%9C%A0%20%EA%B0%80%EA%B2%A9%3A%201128%EC%9B%90%0A%20%20%20%20%20%20%20%20%20%20%20%20%20%20%20%20%20%3C/div%3E%60%2C%0A%20%20%20%20%20%20%20%20%20%20%20%20%20%20%20%20%7B%22sticky%22%3A%20true%7D%0A%20%20%20%20%20%20%20%20%20%20%20%20%29%3B%0A%20%20%20%20%20%20%20%20%0A%20%20%20%20%0A%20%20%20%20%20%20%20%20%20%20%20%20var%20marker_1fbd1fe349fb4c359d14601da5b7b5d0%20%3D%20L.marker%28%0A%20%20%20%20%20%20%20%20%20%20%20%20%20%20%20%20%5B37.545315926725%2C%20126.882152598122%5D%2C%0A%20%20%20%20%20%20%20%20%20%20%20%20%20%20%20%20%7B%7D%0A%20%20%20%20%20%20%20%20%20%20%20%20%29.addTo%28map_5b3e1469a7784e0dbb5446381abb96f7%29%3B%0A%20%20%20%20%20%20%20%20%0A%20%20%20%20%0A%20%20%20%20%20%20%20%20%20%20%20%20var%20icon_d6ede97aaa364064972bdf046bcce3ae%20%3D%20L.AwesomeMarkers.icon%28%0A%20%20%20%20%20%20%20%20%20%20%20%20%20%20%20%20%7B%22extraClasses%22%3A%20%22fa-rotate-0%22%2C%20%22icon%22%3A%20%22tint%22%2C%20%22iconColor%22%3A%20%22white%22%2C%20%22markerColor%22%3A%20%22blue%22%2C%20%22prefix%22%3A%20%22glyphicon%22%7D%0A%20%20%20%20%20%20%20%20%20%20%20%20%29%3B%0A%20%20%20%20%20%20%20%20%20%20%20%20marker_1fbd1fe349fb4c359d14601da5b7b5d0.setIcon%28icon_d6ede97aaa364064972bdf046bcce3ae%29%3B%0A%20%20%20%20%20%20%20%20%0A%20%20%20%20%0A%20%20%20%20%20%20%20%20var%20popup_d0054125f936494a8d7fef61dcd9cfbd%20%3D%20L.popup%28%7B%22maxWidth%22%3A%20%22100%25%22%7D%29%3B%0A%0A%20%20%20%20%20%20%20%20%0A%20%20%20%20%20%20%20%20%20%20%20%20var%20html_b57c346042d942d9b523123a1b3976ff%20%3D%20%24%28%60%3Cdiv%20id%3D%22html_b57c346042d942d9b523123a1b3976ff%22%20style%3D%22width%3A%20100.0%25%3B%20height%3A%20100.0%25%3B%22%3E%EC%84%9C%EC%9A%B8%20%EC%96%91%EC%B2%9C%EA%B5%AC%20%EC%95%88%EC%96%91%EC%B2%9C%EB%A1%9C%201171%20%28%EB%AA%A9%EB%8F%99%29%3C/div%3E%60%29%5B0%5D%3B%0A%20%20%20%20%20%20%20%20%20%20%20%20popup_d0054125f936494a8d7fef61dcd9cfbd.setContent%28html_b57c346042d942d9b523123a1b3976ff%29%3B%0A%20%20%20%20%20%20%20%20%0A%0A%20%20%20%20%20%20%20%20marker_1fbd1fe349fb4c359d14601da5b7b5d0.bindPopup%28popup_d0054125f936494a8d7fef61dcd9cfbd%29%0A%20%20%20%20%20%20%20%20%3B%0A%0A%20%20%20%20%20%20%20%20%0A%20%20%20%20%0A%20%20%20%20%0A%20%20%20%20%20%20%20%20%20%20%20%20marker_1fbd1fe349fb4c359d14601da5b7b5d0.bindTooltip%28%0A%20%20%20%20%20%20%20%20%20%20%20%20%20%20%20%20%60%3Cdiv%3E%0A%20%20%20%20%20%20%20%20%20%20%20%20%20%20%20%20%20%20%20%20%20%ED%9C%98%EB%B0%9C%EC%9C%A0%20%EA%B0%80%EA%B2%A9%3A%201308%EC%9B%90%20/%20%EA%B2%BD%EC%9C%A0%20%EA%B0%80%EA%B2%A9%3A%201118%EC%9B%90%0A%20%20%20%20%20%20%20%20%20%20%20%20%20%20%20%20%20%3C/div%3E%60%2C%0A%20%20%20%20%20%20%20%20%20%20%20%20%20%20%20%20%7B%22sticky%22%3A%20true%7D%0A%20%20%20%20%20%20%20%20%20%20%20%20%29%3B%0A%20%20%20%20%20%20%20%20%0A%20%20%20%20%0A%20%20%20%20%20%20%20%20%20%20%20%20var%20marker_31ae319a466c41918dac3345a39e5ace%20%3D%20L.marker%28%0A%20%20%20%20%20%20%20%20%20%20%20%20%20%20%20%20%5B37.5303725461437%2C%20126.865511835584%5D%2C%0A%20%20%20%20%20%20%20%20%20%20%20%20%20%20%20%20%7B%7D%0A%20%20%20%20%20%20%20%20%20%20%20%20%29.addTo%28map_5b3e1469a7784e0dbb5446381abb96f7%29%3B%0A%20%20%20%20%20%20%20%20%0A%20%20%20%20%0A%20%20%20%20%20%20%20%20%20%20%20%20var%20icon_71d97353ffb944b9aa9ac32348a68201%20%3D%20L.AwesomeMarkers.icon%28%0A%20%20%20%20%20%20%20%20%20%20%20%20%20%20%20%20%7B%22extraClasses%22%3A%20%22fa-rotate-0%22%2C%20%22icon%22%3A%20%22tint%22%2C%20%22iconColor%22%3A%20%22white%22%2C%20%22markerColor%22%3A%20%22blue%22%2C%20%22prefix%22%3A%20%22glyphicon%22%7D%0A%20%20%20%20%20%20%20%20%20%20%20%20%29%3B%0A%20%20%20%20%20%20%20%20%20%20%20%20marker_31ae319a466c41918dac3345a39e5ace.setIcon%28icon_71d97353ffb944b9aa9ac32348a68201%29%3B%0A%20%20%20%20%20%20%20%20%0A%20%20%20%20%0A%20%20%20%20%20%20%20%20var%20popup_9ff07d2e069f4783b76cda9e90f30a47%20%3D%20L.popup%28%7B%22maxWidth%22%3A%20%22100%25%22%7D%29%3B%0A%0A%20%20%20%20%20%20%20%20%0A%20%20%20%20%20%20%20%20%20%20%20%20var%20html_1c0a12b047064df389600a12a6601fc2%20%3D%20%24%28%60%3Cdiv%20id%3D%22html_1c0a12b047064df389600a12a6601fc2%22%20style%3D%22width%3A%20100.0%25%3B%20height%3A%20100.0%25%3B%22%3E%EC%84%9C%EC%9A%B8%20%EC%96%91%EC%B2%9C%EA%B5%AC%20%EA%B5%AD%ED%9A%8C%EB%8C%80%EB%A1%9C%20275%20%28%EB%AA%A9%EB%8F%99%29%3C/div%3E%60%29%5B0%5D%3B%0A%20%20%20%20%20%20%20%20%20%20%20%20popup_9ff07d2e069f4783b76cda9e90f30a47.setContent%28html_1c0a12b047064df389600a12a6601fc2%29%3B%0A%20%20%20%20%20%20%20%20%0A%0A%20%20%20%20%20%20%20%20marker_31ae319a466c41918dac3345a39e5ace.bindPopup%28popup_9ff07d2e069f4783b76cda9e90f30a47%29%0A%20%20%20%20%20%20%20%20%3B%0A%0A%20%20%20%20%20%20%20%20%0A%20%20%20%20%0A%20%20%20%20%0A%20%20%20%20%20%20%20%20%20%20%20%20marker_31ae319a466c41918dac3345a39e5ace.bindTooltip%28%0A%20%20%20%20%20%20%20%20%20%20%20%20%20%20%20%20%60%3Cdiv%3E%0A%20%20%20%20%20%20%20%20%20%20%20%20%20%20%20%20%20%20%20%20%20%ED%9C%98%EB%B0%9C%EC%9C%A0%20%EA%B0%80%EA%B2%A9%3A%201259%EC%9B%90%20/%20%EA%B2%BD%EC%9C%A0%20%EA%B0%80%EA%B2%A9%3A%201062%EC%9B%90%0A%20%20%20%20%20%20%20%20%20%20%20%20%20%20%20%20%20%3C/div%3E%60%2C%0A%20%20%20%20%20%20%20%20%20%20%20%20%20%20%20%20%7B%22sticky%22%3A%20true%7D%0A%20%20%20%20%20%20%20%20%20%20%20%20%29%3B%0A%20%20%20%20%20%20%20%20%0A%3C/script%3E onload=\"this.contentDocument.open();this.contentDocument.write(    decodeURIComponent(this.getAttribute('data-html')));this.contentDocument.close();\" allowfullscreen webkitallowfullscreen mozallowfullscreen></iframe></div></div>"
     },
     "metadata": {},
     "execution_count": 38
    }
   ],
   "source": [
    "map = folium.Map(location=[stations['위도'].mean(), stations['경도'].mean()], zoom_start=14)\n",
    "\n",
    "for i in stations.index:\n",
    "    folium.Marker(\n",
    "        location=[stations['위도'][i], stations['경도'][i]],\n",
    "        popup=stations['주소'][i],\n",
    "        tooltip=f\"휘발유 가격: {stations['휘발유'][i]}원 / 경유 가격: {stations['경유'][i]}원\",\n",
    "        icon=folium.Icon(color=stations.color[i], icon=stations.icon[i])\n",
    "    ).add_to(map)\n",
    "map"
   ]
  }
 ]
}