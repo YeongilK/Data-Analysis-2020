{
 "metadata": {
  "language_info": {
   "codemirror_mode": {
    "name": "ipython",
    "version": 3
   },
   "file_extension": ".py",
   "mimetype": "text/x-python",
   "name": "python",
   "nbconvert_exporter": "python",
   "pygments_lexer": "ipython3",
   "version": "3.8.3-final"
  },
  "orig_nbformat": 2,
  "kernelspec": {
   "name": "Python 3.8.3 64-bit ('base': conda)",
   "display_name": "Python 3.8.3 64-bit ('base': conda)",
   "metadata": {
    "interpreter": {
     "hash": "b3ba2566441a7c06988d0923437866b63cedc61552a5af99d1f4fb67d367b25f"
    }
   }
  }
 },
 "nbformat": 4,
 "nbformat_minor": 2,
 "cells": [
  {
   "cell_type": "code",
   "execution_count": 17,
   "metadata": {},
   "outputs": [],
   "source": [
    "import numpy as np \n",
    "import pandas as pd \n",
    "import urllib.request\n",
    "from urllib.parse import quote\n",
    "from bs4 import BeautifulSoup\n",
    "from tqdm import tqdm_notebook"
   ]
  },
  {
   "cell_type": "code",
   "execution_count": 18,
   "metadata": {},
   "outputs": [],
   "source": [
    "base_url = 'https://dogpre.com'\n",
    "page_url = '/category/036004?page=0'\n",
    "url = base_url + page_url\n",
    "with urllib.request.urlopen(url) as response:\n",
    "    html = response.read()\n",
    "    soup = BeautifulSoup(html, 'html.parser')"
   ]
  },
  {
   "cell_type": "code",
   "execution_count": 19,
   "metadata": {},
   "outputs": [
    {
     "output_type": "execute_result",
     "data": {
      "text/plain": [
       "20"
      ]
     },
     "metadata": {},
     "execution_count": 19
    }
   ],
   "source": [
    "tmp = soup.select_one('.jss179')\n",
    "lis = tmp.find_all('a')\n",
    "len(lis)"
   ]
  },
  {
   "cell_type": "code",
   "execution_count": 20,
   "metadata": {},
   "outputs": [
    {
     "output_type": "execute_result",
     "data": {
      "text/plain": [
       "'/product/23333'"
      ]
     },
     "metadata": {},
     "execution_count": 20
    }
   ],
   "source": [
    "prod_url = lis[0].attrs['href']\n",
    "prod_url"
   ]
  },
  {
   "cell_type": "code",
   "execution_count": 21,
   "metadata": {},
   "outputs": [],
   "source": [
    "url = base_url + prod_url\n",
    "with urllib.request.urlopen(url) as response:\n",
    "    html = response.read()\n",
    "    prd_soup = BeautifulSoup(html, 'html.parser')"
   ]
  },
  {
   "cell_type": "code",
   "execution_count": 23,
   "metadata": {},
   "outputs": [
    {
     "output_type": "execute_result",
     "data": {
      "text/plain": [
       "'네츄럴코어 홀리스틱 베네 M32 멀티프로테인 7.2kg'"
      ]
     },
     "metadata": {},
     "execution_count": 23
    }
   ],
   "source": [
    "# 상품명\n",
    "info = prd_soup.select_one('.jss142')\n",
    "word = info.find('h2').get_text()\n",
    "word"
   ]
  },
  {
   "cell_type": "code",
   "execution_count": 25,
   "metadata": {},
   "outputs": [
    {
     "output_type": "execute_result",
     "data": {
      "text/plain": [
       "<div class=\"jss198\"><dl class=\"jss199\"><dt class=\"jss200\">정가</dt><dd class=\"jss201\"><s>49,000<!-- -->원</s></dd></dl><dl class=\"jss199\"><dt class=\"jss200\">판매가</dt><dd class=\"jss201\"><span><span>38,000<!-- -->원</span></span></dd></dl></div>"
      ]
     },
     "metadata": {},
     "execution_count": 25
    }
   ],
   "source": [
    "# 정가, 판매가\n",
    "price = info.select_one('.jss198')\n",
    "price"
   ]
  },
  {
   "cell_type": "code",
   "execution_count": 29,
   "metadata": {},
   "outputs": [
    {
     "output_type": "execute_result",
     "data": {
      "text/plain": [
       "(49000, 38000)"
      ]
     },
     "metadata": {},
     "execution_count": 29
    }
   ],
   "source": [
    "full_price = int(price.find('s').get_text().replace(',', '').replace('원', ''))\n",
    "selling_price = int(price.find('span').get_text().replace(',', '').replace('원', ''))\n",
    "full_price, selling_price"
   ]
  },
  {
   "cell_type": "code",
   "execution_count": 31,
   "metadata": {},
   "outputs": [
    {
     "output_type": "execute_result",
     "data": {
      "text/plain": [
       "'11,000원 (22%)'"
      ]
     },
     "metadata": {},
     "execution_count": 31
    }
   ],
   "source": [
    "# 할인받은 금액, 할인율\n",
    "discount = info.select_one('.jss205').get_text()\n",
    "discount"
   ]
  },
  {
   "cell_type": "code",
   "execution_count": 32,
   "metadata": {},
   "outputs": [
    {
     "output_type": "execute_result",
     "data": {
      "text/plain": [
       "(11000, '22%')"
      ]
     },
     "metadata": {},
     "execution_count": 32
    }
   ],
   "source": [
    "diff_price, disc_rate = discount.split(maxsplit=1)\n",
    "diff_price = int(diff_price.replace(',', '').replace('원', ''))\n",
    "disc_rate = disc_rate[1:-1]\n",
    "diff_price, disc_rate"
   ]
  },
  {
   "cell_type": "code",
   "execution_count": 63,
   "metadata": {},
   "outputs": [
    {
     "output_type": "display_data",
     "data": {
      "text/plain": "HBox(children=(FloatProgress(value=0.0, max=20.0), HTML(value='')))",
      "application/vnd.jupyter.widget-view+json": {
       "version_major": 2,
       "version_minor": 0,
       "model_id": "212974dce9cd4a7d8e7c74f1ab6461f9"
      }
     },
     "metadata": {}
    },
    {
     "output_type": "stream",
     "name": "stdout",
     "text": [
      "\n"
     ]
    }
   ],
   "source": [
    "# 첫 번째 페이지\n",
    "name_list = []; full_price_list = []; selling_price_list = []\n",
    "diff_price_list = []; disc_rate_list = []\n",
    "tmp = soup.select_one('.jss179')\n",
    "lis = tmp.find_all('a')\n",
    "base_url = 'https://dogpre.com'\n",
    "\n",
    "for li in tqdm_notebook(lis):\n",
    "    #print(i)        # 몇 번째 상품에서 에러가 나는지 확인하는 방법\n",
    "    prod_url = li.attrs['href']\n",
    "    url = base_url + prod_url\n",
    "    with urllib.request.urlopen(url) as response:\n",
    "        html = response.read()\n",
    "        prd_soup = BeautifulSoup(html, 'html.parser')\n",
    "\n",
    "    # 상품명\n",
    "    info = prd_soup.select_one('.jss142')\n",
    "    word = info.find('h2').get_text()\n",
    "    name_list.append(word)\n",
    "    # 정가, 판매가\n",
    "    price = info.select_one('.jss198')\n",
    "    if price:\n",
    "        price = info.select_one('.jss198')\n",
    "    else:\n",
    "        price = info.select_one('.jss252')\n",
    "    full_price = int(price.find('s').get_text().replace(',', '').replace('원', ''))\n",
    "    selling_price = int(price.find('span').get_text().replace(',', '').replace('원', ''))\n",
    "    full_price_list.append(full_price); selling_price_list.append(selling_price)\n",
    "    # 할인받은 금액, 할인율\n",
    "    discount = info.select_one('.jss205').get_text()\n",
    "    if '%' in discount:\n",
    "        discount = info.select_one('.jss205').get_text()\n",
    "    else:\n",
    "        discount = info.select_one('.jss259').get_text()\n",
    "    diff_price, disc_rate = discount.split(maxsplit=1)\n",
    "    diff_price = int(diff_price.replace(',', '').replace('원', ''))\n",
    "    disc_rate = disc_rate[1:-1]\n",
    "    diff_price_list.append(diff_price); disc_rate_list.append(disc_rate)"
   ]
  },
  {
   "cell_type": "code",
   "execution_count": 64,
   "metadata": {},
   "outputs": [
    {
     "output_type": "execute_result",
     "data": {
      "text/plain": [
       "                                상품명      원가     판매가  할인 받은 금액  할인율\n",
       "0    네츄럴코어 홀리스틱 베네 M32 멀티프로테인 7.2kg   49000   38000     11000  22%\n",
       "1           네츄럴코어 유기농 에코 70B 연어 7kg   60000   40000     20000  33%\n",
       "2              뉴트리나 건강백서 건강한 관절 2kg   20000   15000      5000  25%\n",
       "3        now 그레인프리 어덜트 스몰브리드 11.3kg  120000  108000     12000  10%\n",
       "4           로얄캐닌 엑스스몰 어덜트 4.5kg 기획팩   54000   46900      7100  13%\n",
       "5        now 그레인프리 어덜트 스몰브리드 2.72kg   42000   37800      4200  10%\n",
       "6    ANF 유기농 6Free 플러스 소고기&연어 5.6kg   45000   39000      6000  13%\n",
       "7        now 그레인프리 시니어 스몰브리드 2.72kg   42000   37800      4200  10%\n",
       "8   ANF 유기농 6Free 플러스 오리고기&연어 5.6kg   45000   39000      6000  13%\n",
       "9        now 그레인프리 어덜트 스몰브리드 5.44kg   75000   67500      7500  10%\n",
       "10    네츄럴코어 유기농 에코 2 오리고기 작은알갱이 7kg   60000   52000      8000  13%\n",
       "11   네츄럴코어 유기농 에코 9a 시니어 오리&고구마 6kg   60000   52000      8000  13%\n",
       "12     네츄럴코어 유기농 에코 4 오리고기 슬림다운 6kg   60000   52000      8000  13%\n",
       "13                뉴트리나 울트라 액티브 15kg   28000   24800      3200  11%\n",
       "14            로얄캐닌 미니 인도어 어덜트 1.5kg   22000   17500      4500  20%\n",
       "15    네츄럴코어 유기농 에코 2 오리고기 작은알갱이 2kg   22000   20000      2000   9%\n",
       "16                로얄캐닌 푸들 어덜트 1.5kg   23000   19300      3700  16%\n",
       "17                   오리젠 오리지널 독 2kg   50000   38000     12000  24%\n",
       "18                ANF 프리미엄 램28 15kg   67000   57000     10000  15%\n",
       "19             ANF 램 홀리스틱 시니어 7.2kg   49000   41900      7100  14%"
      ],
      "text/html": "<div>\n<style scoped>\n    .dataframe tbody tr th:only-of-type {\n        vertical-align: middle;\n    }\n\n    .dataframe tbody tr th {\n        vertical-align: top;\n    }\n\n    .dataframe thead th {\n        text-align: right;\n    }\n</style>\n<table border=\"1\" class=\"dataframe\">\n  <thead>\n    <tr style=\"text-align: right;\">\n      <th></th>\n      <th>상품명</th>\n      <th>원가</th>\n      <th>판매가</th>\n      <th>할인 받은 금액</th>\n      <th>할인율</th>\n    </tr>\n  </thead>\n  <tbody>\n    <tr>\n      <th>0</th>\n      <td>네츄럴코어 홀리스틱 베네 M32 멀티프로테인 7.2kg</td>\n      <td>49000</td>\n      <td>38000</td>\n      <td>11000</td>\n      <td>22%</td>\n    </tr>\n    <tr>\n      <th>1</th>\n      <td>네츄럴코어 유기농 에코 70B 연어 7kg</td>\n      <td>60000</td>\n      <td>40000</td>\n      <td>20000</td>\n      <td>33%</td>\n    </tr>\n    <tr>\n      <th>2</th>\n      <td>뉴트리나 건강백서 건강한 관절 2kg</td>\n      <td>20000</td>\n      <td>15000</td>\n      <td>5000</td>\n      <td>25%</td>\n    </tr>\n    <tr>\n      <th>3</th>\n      <td>now 그레인프리 어덜트 스몰브리드 11.3kg</td>\n      <td>120000</td>\n      <td>108000</td>\n      <td>12000</td>\n      <td>10%</td>\n    </tr>\n    <tr>\n      <th>4</th>\n      <td>로얄캐닌 엑스스몰 어덜트 4.5kg 기획팩</td>\n      <td>54000</td>\n      <td>46900</td>\n      <td>7100</td>\n      <td>13%</td>\n    </tr>\n    <tr>\n      <th>5</th>\n      <td>now 그레인프리 어덜트 스몰브리드 2.72kg</td>\n      <td>42000</td>\n      <td>37800</td>\n      <td>4200</td>\n      <td>10%</td>\n    </tr>\n    <tr>\n      <th>6</th>\n      <td>ANF 유기농 6Free 플러스 소고기&amp;연어 5.6kg</td>\n      <td>45000</td>\n      <td>39000</td>\n      <td>6000</td>\n      <td>13%</td>\n    </tr>\n    <tr>\n      <th>7</th>\n      <td>now 그레인프리 시니어 스몰브리드 2.72kg</td>\n      <td>42000</td>\n      <td>37800</td>\n      <td>4200</td>\n      <td>10%</td>\n    </tr>\n    <tr>\n      <th>8</th>\n      <td>ANF 유기농 6Free 플러스 오리고기&amp;연어 5.6kg</td>\n      <td>45000</td>\n      <td>39000</td>\n      <td>6000</td>\n      <td>13%</td>\n    </tr>\n    <tr>\n      <th>9</th>\n      <td>now 그레인프리 어덜트 스몰브리드 5.44kg</td>\n      <td>75000</td>\n      <td>67500</td>\n      <td>7500</td>\n      <td>10%</td>\n    </tr>\n    <tr>\n      <th>10</th>\n      <td>네츄럴코어 유기농 에코 2 오리고기 작은알갱이 7kg</td>\n      <td>60000</td>\n      <td>52000</td>\n      <td>8000</td>\n      <td>13%</td>\n    </tr>\n    <tr>\n      <th>11</th>\n      <td>네츄럴코어 유기농 에코 9a 시니어 오리&amp;고구마 6kg</td>\n      <td>60000</td>\n      <td>52000</td>\n      <td>8000</td>\n      <td>13%</td>\n    </tr>\n    <tr>\n      <th>12</th>\n      <td>네츄럴코어 유기농 에코 4 오리고기 슬림다운 6kg</td>\n      <td>60000</td>\n      <td>52000</td>\n      <td>8000</td>\n      <td>13%</td>\n    </tr>\n    <tr>\n      <th>13</th>\n      <td>뉴트리나 울트라 액티브 15kg</td>\n      <td>28000</td>\n      <td>24800</td>\n      <td>3200</td>\n      <td>11%</td>\n    </tr>\n    <tr>\n      <th>14</th>\n      <td>로얄캐닌 미니 인도어 어덜트 1.5kg</td>\n      <td>22000</td>\n      <td>17500</td>\n      <td>4500</td>\n      <td>20%</td>\n    </tr>\n    <tr>\n      <th>15</th>\n      <td>네츄럴코어 유기농 에코 2 오리고기 작은알갱이 2kg</td>\n      <td>22000</td>\n      <td>20000</td>\n      <td>2000</td>\n      <td>9%</td>\n    </tr>\n    <tr>\n      <th>16</th>\n      <td>로얄캐닌 푸들 어덜트 1.5kg</td>\n      <td>23000</td>\n      <td>19300</td>\n      <td>3700</td>\n      <td>16%</td>\n    </tr>\n    <tr>\n      <th>17</th>\n      <td>오리젠 오리지널 독 2kg</td>\n      <td>50000</td>\n      <td>38000</td>\n      <td>12000</td>\n      <td>24%</td>\n    </tr>\n    <tr>\n      <th>18</th>\n      <td>ANF 프리미엄 램28 15kg</td>\n      <td>67000</td>\n      <td>57000</td>\n      <td>10000</td>\n      <td>15%</td>\n    </tr>\n    <tr>\n      <th>19</th>\n      <td>ANF 램 홀리스틱 시니어 7.2kg</td>\n      <td>49000</td>\n      <td>41900</td>\n      <td>7100</td>\n      <td>14%</td>\n    </tr>\n  </tbody>\n</table>\n</div>"
     },
     "metadata": {},
     "execution_count": 64
    }
   ],
   "source": [
    "product_df = pd.DataFrame({\n",
    "    '상품명': name_list,\n",
    "    '원가': full_price_list,\n",
    "    '판매가': selling_price_list,\n",
    "    '할인 받은 금액': diff_price_list,\n",
    "    '할인율': disc_rate_list\n",
    "})\n",
    "product_df"
   ]
  },
  {
   "cell_type": "code",
   "execution_count": null,
   "metadata": {},
   "outputs": [],
   "source": []
  }
 ]
}