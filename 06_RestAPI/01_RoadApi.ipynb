{
 "metadata": {
  "language_info": {
   "codemirror_mode": {
    "name": "ipython",
    "version": 3
   },
   "file_extension": ".py",
   "mimetype": "text/x-python",
   "name": "python",
   "nbconvert_exporter": "python",
   "pygments_lexer": "ipython3",
   "version": "3.8.3-final"
  },
  "orig_nbformat": 2,
  "kernelspec": {
   "name": "Python 3.8.3 64-bit ('base': conda)",
   "display_name": "Python 3.8.3 64-bit ('base': conda)",
   "metadata": {
    "interpreter": {
     "hash": "b3ba2566441a7c06988d0923437866b63cedc61552a5af99d1f4fb67d367b25f"
    }
   }
  }
 },
 "nbformat": 4,
 "nbformat_minor": 2,
 "cells": [
  {
   "cell_type": "markdown",
   "metadata": {},
   "source": [
    "# 행정안전부 도로명주소 API\n",
    "### 건물명으로부터 도로명주소 구하기"
   ]
  },
  {
   "cell_type": "code",
   "execution_count": 2,
   "metadata": {},
   "outputs": [],
   "source": [
    "import requests\n",
    "from urllib.parse import urlparse\n",
    "import pandas as pd "
   ]
  },
  {
   "cell_type": "code",
   "execution_count": 5,
   "metadata": {},
   "outputs": [],
   "source": [
    "key_fd = open('roadapikey.txt', mode='r')\n",
    "roadapi_key = key_fd.read(100)\n",
    "key_fd.close()"
   ]
  },
  {
   "cell_type": "code",
   "execution_count": 6,
   "metadata": {},
   "outputs": [
    {
     "output_type": "execute_result",
     "data": {
      "text/plain": [
       "'https://www.juso.go.kr/addrlink/addrLinkApi.do?confmKey=U01TX0FVVEgyMDIwMTExOTEwMjMzNTExMDQzNzg=&currentPage=1&countPerPage=10&keyword=강서구청&resultType=json'"
      ]
     },
     "metadata": {},
     "execution_count": 6
    }
   ],
   "source": [
    "road_url = 'https://www.juso.go.kr/addrlink/addrLinkApi.do'\n",
    "url = f'{road_url}?confmKey={roadapi_key}&currentPage=1&countPerPage=10&keyword=강서구청&resultType=json'\n",
    "urlparse(url).geturl()"
   ]
  },
  {
   "cell_type": "code",
   "execution_count": 16,
   "metadata": {},
   "outputs": [],
   "source": [
    "results = requests.get(urlparse(url).geturl()).json()"
   ]
  },
  {
   "cell_type": "code",
   "execution_count": 12,
   "metadata": {},
   "outputs": [
    {
     "output_type": "execute_result",
     "data": {
      "text/plain": [
       "6"
      ]
     },
     "metadata": {},
     "execution_count": 12
    }
   ],
   "source": [
    "addr_list = results['results']['juso']\n",
    "len(addr_list)"
   ]
  },
  {
   "cell_type": "code",
   "execution_count": 21,
   "metadata": {},
   "outputs": [
    {
     "output_type": "execute_result",
     "data": {
      "text/plain": [
       "'서울특별시 영등포구 당산로 123 (당산동3가)'"
      ]
     },
     "metadata": {},
     "execution_count": 21
    }
   ],
   "source": [
    "results['results']['juso'][0]['roadAddr']"
   ]
  },
  {
   "cell_type": "code",
   "execution_count": 31,
   "metadata": {},
   "outputs": [
    {
     "output_type": "execute_result",
     "data": {
      "text/plain": [
       "{'detBdNmList': '',\n",
       " 'engAddr': '123, Dangsan-ro, Yeongdeungpo-gu, Seoul',\n",
       " 'rn': '당산로',\n",
       " 'emdNm': '당산동3가',\n",
       " 'zipNo': '07260',\n",
       " 'roadAddrPart2': ' (당산동3가)',\n",
       " 'emdNo': '03',\n",
       " 'sggNm': '영등포구',\n",
       " 'jibunAddr': '서울특별시 영등포구 당산동3가 385-1 영등포구청',\n",
       " 'siNm': '서울특별시',\n",
       " 'roadAddrPart1': '서울특별시 영등포구 당산로 123',\n",
       " 'bdNm': '영등포구청',\n",
       " 'admCd': '1156011300',\n",
       " 'udrtYn': '0',\n",
       " 'lnbrMnnm': '385',\n",
       " 'roadAddr': '서울특별시 영등포구 당산로 123 (당산동3가)',\n",
       " 'lnbrSlno': '1',\n",
       " 'buldMnnm': '123',\n",
       " 'bdKdcd': '0',\n",
       " 'liNm': '',\n",
       " 'rnMgtSn': '115603118004',\n",
       " 'mtYn': '0',\n",
       " 'bdMgtSn': '1156011300103850001029173',\n",
       " 'buldSlno': '0'}"
      ]
     },
     "metadata": {},
     "execution_count": 31
    }
   ],
   "source": [
    "results['results']['juso'][0]"
   ]
  },
  {
   "cell_type": "code",
   "execution_count": 15,
   "metadata": {},
   "outputs": [
    {
     "output_type": "stream",
     "name": "stdout",
     "text": [
      "강서구청 서울특별시 강서구 화곡로 302 (화곡동)\n강서구청 서울특별시 강서구 화곡로44나길 72 (화곡동)\n강서구청 부산광역시 강서구 낙동북로 477 (대저1동)\n강서구청청소차고 서울특별시 강서구 남부순환로 208 (외발산동)\n강서구청가양동별관 서울특별시 강서구 양천로59길 38 (가양동)\n강서구청역 부산광역시 강서구 낙동북로 485 (대저1동)\n"
     ]
    }
   ],
   "source": [
    "for addr in addr_list:\n",
    "    print(addr['bdNm'], addr['roadAddr'])"
   ]
  },
  {
   "cell_type": "markdown",
   "metadata": {},
   "source": [
    "### Exercise - 5개의 시청 및 구청의 도로명 주소 구하기"
   ]
  },
  {
   "cell_type": "code",
   "execution_count": 39,
   "metadata": {},
   "outputs": [],
   "source": [
    "keyword_list = ['김포시청', '부천시청', '강서구청', '양천구청', '영등포구청']\n",
    "road_url = 'https://www.juso.go.kr/addrlink/addrLinkApi.do'\n",
    "road_addr_list = []\n",
    "for keyword in keyword_list:\n",
    "    url = f'{road_url}?confmKey={roadapi_key}&currentPage=1&countPerPage=10&keyword={keyword}&resultType=json'\n",
    "    urlparse(url).geturl()\n",
    "    results = requests.get(urlparse(url).geturl()).json()\n",
    "    # 검색결과의 첫 번째의 도로명주소를 구한다\n",
    "    addr = results['results']['juso'][0]['roadAddr']\n",
    "    road_addr_list.append(addr)"
   ]
  },
  {
   "cell_type": "code",
   "execution_count": 40,
   "metadata": {},
   "outputs": [
    {
     "output_type": "execute_result",
     "data": {
      "text/plain": [
       "['경기도 김포시 사우중로 1 (사우동)',\n",
       " '경기도 부천시 길주로 210-2 (중동)',\n",
       " '서울특별시 강서구 화곡로 302 (화곡동)',\n",
       " '서울특별시 양천구 목동동로 105 (신정동)',\n",
       " '서울특별시 영등포구 당산로 123 (당산동3가)']"
      ]
     },
     "metadata": {},
     "execution_count": 40
    }
   ],
   "source": [
    "road_addr_list"
   ]
  },
  {
   "cell_type": "code",
   "execution_count": 43,
   "metadata": {},
   "outputs": [
    {
     "output_type": "execute_result",
     "data": {
      "text/plain": [
       "     키워드                       도로명주소\n",
       "0   김포시청        경기도 김포시 사우중로 1 (사우동)\n",
       "1   부천시청      경기도 부천시 길주로 210-2 (중동)\n",
       "2   강서구청     서울특별시 강서구 화곡로 302 (화곡동)\n",
       "3   양천구청    서울특별시 양천구 목동동로 105 (신정동)\n",
       "4  영등포구청  서울특별시 영등포구 당산로 123 (당산동3가)"
      ],
      "text/html": "<div>\n<style scoped>\n    .dataframe tbody tr th:only-of-type {\n        vertical-align: middle;\n    }\n\n    .dataframe tbody tr th {\n        vertical-align: top;\n    }\n\n    .dataframe thead th {\n        text-align: right;\n    }\n</style>\n<table border=\"1\" class=\"dataframe\">\n  <thead>\n    <tr style=\"text-align: right;\">\n      <th></th>\n      <th>키워드</th>\n      <th>도로명주소</th>\n    </tr>\n  </thead>\n  <tbody>\n    <tr>\n      <th>0</th>\n      <td>김포시청</td>\n      <td>경기도 김포시 사우중로 1 (사우동)</td>\n    </tr>\n    <tr>\n      <th>1</th>\n      <td>부천시청</td>\n      <td>경기도 부천시 길주로 210-2 (중동)</td>\n    </tr>\n    <tr>\n      <th>2</th>\n      <td>강서구청</td>\n      <td>서울특별시 강서구 화곡로 302 (화곡동)</td>\n    </tr>\n    <tr>\n      <th>3</th>\n      <td>양천구청</td>\n      <td>서울특별시 양천구 목동동로 105 (신정동)</td>\n    </tr>\n    <tr>\n      <th>4</th>\n      <td>영등포구청</td>\n      <td>서울특별시 영등포구 당산로 123 (당산동3가)</td>\n    </tr>\n  </tbody>\n</table>\n</div>"
     },
     "metadata": {},
     "execution_count": 43
    }
   ],
   "source": [
    "road_addr = pd.DataFrame({\n",
    "    '키워드': keyword_list,\n",
    "    '도로명주소': roadaddr_list\n",
    "})\n",
    "road_addr"
   ]
  },
  {
   "cell_type": "code",
   "execution_count": 44,
   "metadata": {},
   "outputs": [],
   "source": [
    "road_addr.to_csv('../input/address.csv', sep=',', encoding='utf8', index=False)"
   ]
  },
  {
   "cell_type": "code",
   "execution_count": null,
   "metadata": {},
   "outputs": [],
   "source": []
  }
 ]
}