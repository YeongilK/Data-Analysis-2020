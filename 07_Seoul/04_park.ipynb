{
 "metadata": {
  "language_info": {
   "codemirror_mode": {
    "name": "ipython",
    "version": 3
   },
   "file_extension": ".py",
   "mimetype": "text/x-python",
   "name": "python",
   "nbconvert_exporter": "python",
   "pygments_lexer": "ipython3",
   "version": "3.8.3-final"
  },
  "orig_nbformat": 2,
  "kernelspec": {
   "name": "Python 3.8.3 64-bit ('base': conda)",
   "display_name": "Python 3.8.3 64-bit ('base': conda)",
   "metadata": {
    "interpreter": {
     "hash": "b3ba2566441a7c06988d0923437866b63cedc61552a5af99d1f4fb67d367b25f"
    }
   }
  }
 },
 "nbformat": 4,
 "nbformat_minor": 2,
 "cells": [
  {
   "cell_type": "markdown",
   "metadata": {},
   "source": [
    "# 서울시 주요 공원 현황"
   ]
  },
  {
   "cell_type": "code",
   "execution_count": 12,
   "metadata": {},
   "outputs": [],
   "source": [
    "import numpy as np \n",
    "import pandas as pd\n",
    "import seaborn as sns\n",
    "import matplotlib as mpl \n",
    "import matplotlib.pyplot as plt \n",
    "import folium\n",
    "import json\n",
    "%matplotlib inline\n",
    "# 한글폰트 사용\n",
    "mpl.rc('font', family='Malgun Gothic')\n",
    "mpl.rc('axes', unicode_minus=False)"
   ]
  },
  {
   "cell_type": "code",
   "execution_count": 13,
   "metadata": {},
   "outputs": [
    {
     "output_type": "execute_result",
     "data": {
      "text/plain": [
       "   공원번호       공원명                                               공원개요  \\\n",
       "0     1  남산도시자연공원  남산공원은 도심에 위치하여 서울시민에게 맑은 공기를 제공하는 자연휴식처이며 산책 꽃...   \n",
       "1     3    길동생태공원  길동생태공원은 생물의 서식처를 제공하고 종다양성을 증진시키며 자연생태계의 생물들을 ...   \n",
       "\n",
       "                                             면적        개원일  \\\n",
       "0  2896887㎡ 임 야 : 2454140㎡ 녹지대 및 기타시설 : 442747㎡  1968.9.10   \n",
       "1                                        80683㎡  1999.5.20   \n",
       "\n",
       "                                                주요시설  \\\n",
       "0  기반시설 : 광장 45950㎡ 도로 108530㎡ 산책로 6.7㎞ (북측:3.7㎞/...   \n",
       "1               탐방객안내소 야외전시대 관찰대 목재데크 조류관찰대 길동생태문화센터   \n",
       "\n",
       "                                        주요식물  \\\n",
       "0          소나무 단풍 아카시아 상수리나무 등 191종 2881870주   \n",
       "1  소나무 보리수 등 64종 31800주 산국 부들 등 138종 192800본   \n",
       "\n",
       "                                                 안내도  \\\n",
       "0  http://parks.seoul.go.kr/upload/seditorMulti/2...   \n",
       "1  http://parks.seoul.go.kr/template/common/img/p...   \n",
       "\n",
       "                                                오시는길  \\\n",
       "0  명동역(남산케이블카 와룡묘 서울애니메이션센터 방면) 도보 명동역 3번출구 → 퍼시픽...   \n",
       "1                                                NaN   \n",
       "\n",
       "                                             이용시참고사항  \\\n",
       "0  남산공원 차량통행 금지안내 2005년 5월 1일부터 남산공원에 일반승용차 택시 통행...   \n",
       "1  매주 월요일은 휴관입니다 사전예약 후 입장하실 수 있습니다. ▶ 인터넷 예약 바로가...   \n",
       "\n",
       "                                                 이미지   지역  \\\n",
       "0  http://parks.seoul.go.kr/file/info/view.do?fId...   중구   \n",
       "1  http://parks.seoul.go.kr/file/info/view.do?fId...  강동구   \n",
       "\n",
       "                           공원주소              관리부서          전화번호  X좌표(GRS80TM)  \\\n",
       "0        서울특별시 중구 삼일대로 231(예장동)    서울특별시중부푸른도시사업소  02-3783-5900    198364.107   \n",
       "1  서울특별시 강동구 천호대로 1291(길동생태공원)   동부공원녹지사업소 길동생태공원   02-489-2770    213554.120   \n",
       "\n",
       "   Y좌표(GRS80TM)  X좌표(WGS84)  Y좌표(WGS84)  \\\n",
       "0    450395.554  126.990377   37.550140   \n",
       "1    448852.675  127.154779   37.540394   \n",
       "\n",
       "                                               바로가기  \n",
       "0   http://parks.seoul.go.kr/template/sub/namsan.do  \n",
       "1  http://parks.seoul.go.kr/template/sub/gildong.do  "
      ],
      "text/html": "<div>\n<style scoped>\n    .dataframe tbody tr th:only-of-type {\n        vertical-align: middle;\n    }\n\n    .dataframe tbody tr th {\n        vertical-align: top;\n    }\n\n    .dataframe thead th {\n        text-align: right;\n    }\n</style>\n<table border=\"1\" class=\"dataframe\">\n  <thead>\n    <tr style=\"text-align: right;\">\n      <th></th>\n      <th>공원번호</th>\n      <th>공원명</th>\n      <th>공원개요</th>\n      <th>면적</th>\n      <th>개원일</th>\n      <th>주요시설</th>\n      <th>주요식물</th>\n      <th>안내도</th>\n      <th>오시는길</th>\n      <th>이용시참고사항</th>\n      <th>이미지</th>\n      <th>지역</th>\n      <th>공원주소</th>\n      <th>관리부서</th>\n      <th>전화번호</th>\n      <th>X좌표(GRS80TM)</th>\n      <th>Y좌표(GRS80TM)</th>\n      <th>X좌표(WGS84)</th>\n      <th>Y좌표(WGS84)</th>\n      <th>바로가기</th>\n    </tr>\n  </thead>\n  <tbody>\n    <tr>\n      <th>0</th>\n      <td>1</td>\n      <td>남산도시자연공원</td>\n      <td>남산공원은 도심에 위치하여 서울시민에게 맑은 공기를 제공하는 자연휴식처이며 산책 꽃...</td>\n      <td>2896887㎡ 임 야 : 2454140㎡ 녹지대 및 기타시설 : 442747㎡</td>\n      <td>1968.9.10</td>\n      <td>기반시설 : 광장 45950㎡ 도로 108530㎡ 산책로 6.7㎞ (북측:3.7㎞/...</td>\n      <td>소나무 단풍 아카시아 상수리나무 등 191종 2881870주</td>\n      <td>http://parks.seoul.go.kr/upload/seditorMulti/2...</td>\n      <td>명동역(남산케이블카 와룡묘 서울애니메이션센터 방면) 도보 명동역 3번출구 → 퍼시픽...</td>\n      <td>남산공원 차량통행 금지안내 2005년 5월 1일부터 남산공원에 일반승용차 택시 통행...</td>\n      <td>http://parks.seoul.go.kr/file/info/view.do?fId...</td>\n      <td>중구</td>\n      <td>서울특별시 중구 삼일대로 231(예장동)</td>\n      <td>서울특별시중부푸른도시사업소</td>\n      <td>02-3783-5900</td>\n      <td>198364.107</td>\n      <td>450395.554</td>\n      <td>126.990377</td>\n      <td>37.550140</td>\n      <td>http://parks.seoul.go.kr/template/sub/namsan.do</td>\n    </tr>\n    <tr>\n      <th>1</th>\n      <td>3</td>\n      <td>길동생태공원</td>\n      <td>길동생태공원은 생물의 서식처를 제공하고 종다양성을 증진시키며 자연생태계의 생물들을 ...</td>\n      <td>80683㎡</td>\n      <td>1999.5.20</td>\n      <td>탐방객안내소 야외전시대 관찰대 목재데크 조류관찰대 길동생태문화센터</td>\n      <td>소나무 보리수 등 64종 31800주 산국 부들 등 138종 192800본</td>\n      <td>http://parks.seoul.go.kr/template/common/img/p...</td>\n      <td>NaN</td>\n      <td>매주 월요일은 휴관입니다 사전예약 후 입장하실 수 있습니다. ▶ 인터넷 예약 바로가...</td>\n      <td>http://parks.seoul.go.kr/file/info/view.do?fId...</td>\n      <td>강동구</td>\n      <td>서울특별시 강동구 천호대로 1291(길동생태공원)</td>\n      <td>동부공원녹지사업소 길동생태공원</td>\n      <td>02-489-2770</td>\n      <td>213554.120</td>\n      <td>448852.675</td>\n      <td>127.154779</td>\n      <td>37.540394</td>\n      <td>http://parks.seoul.go.kr/template/sub/gildong.do</td>\n    </tr>\n  </tbody>\n</table>\n</div>"
     },
     "metadata": {},
     "execution_count": 13
    }
   ],
   "source": [
    "df = pd.read_csv('./data/서울시 주요 공원현황.csv', sep=',', encoding='euc-kr')\n",
    "df.head(2)"
   ]
  },
  {
   "cell_type": "code",
   "execution_count": 14,
   "metadata": {},
   "outputs": [
    {
     "output_type": "stream",
     "name": "stdout",
     "text": [
      "<class 'pandas.core.frame.DataFrame'>\nRangeIndex: 132 entries, 0 to 131\nData columns (total 20 columns):\n #   Column        Non-Null Count  Dtype  \n---  ------        --------------  -----  \n 0   공원번호          132 non-null    int64  \n 1   공원명           132 non-null    object \n 2   공원개요          131 non-null    object \n 3   면적            129 non-null    object \n 4   개원일           122 non-null    object \n 5   주요시설          124 non-null    object \n 6   주요식물          88 non-null     object \n 7   안내도           102 non-null    object \n 8   오시는길          115 non-null    object \n 9   이용시참고사항       120 non-null    object \n 10  이미지           132 non-null    object \n 11  지역            131 non-null    object \n 12  공원주소          132 non-null    object \n 13  관리부서          132 non-null    object \n 14  전화번호          132 non-null    object \n 15  X좌표(GRS80TM)  122 non-null    float64\n 16  Y좌표(GRS80TM)  122 non-null    float64\n 17  X좌표(WGS84)    131 non-null    float64\n 18  Y좌표(WGS84)    131 non-null    float64\n 19  바로가기          18 non-null     object \ndtypes: float64(4), int64(1), object(15)\nmemory usage: 20.8+ KB\n"
     ]
    }
   ],
   "source": [
    "df.info()"
   ]
  },
  {
   "cell_type": "code",
   "execution_count": 15,
   "metadata": {},
   "outputs": [
    {
     "output_type": "execute_result",
     "data": {
      "text/plain": [
       "   공원번호       공원명                                            면적   지역  \\\n",
       "0     1  남산도시자연공원  2896887㎡ 임 야 : 2454140㎡ 녹지대 및 기타시설 : 442747㎡   중구   \n",
       "1     3    길동생태공원                                        80683㎡  강동구   \n",
       "2     4     서울대공원                                     9132690m²  과천시   \n",
       "3     5       서울숲                                       480994㎡  성동구   \n",
       "4     6     월드컵공원                                      2284085㎡  마포구   \n",
       "\n",
       "                           공원주소  X좌표(WGS84)  Y좌표(WGS84)  \n",
       "0        서울특별시 중구 삼일대로 231(예장동)  126.990377   37.550140  \n",
       "1  서울특별시 강동구 천호대로 1291(길동생태공원)   127.154779   37.540394  \n",
       "2            경기도 과천시 대공원광장로 102  127.019847   37.426449  \n",
       "3    서울특별시 성동구 뚝섬로 273 (성수동1가)   127.041798   37.543072  \n",
       "4     서울특별시 마포구 하늘공원로 84(월드컵공원)  126.878907   37.571805  "
      ],
      "text/html": "<div>\n<style scoped>\n    .dataframe tbody tr th:only-of-type {\n        vertical-align: middle;\n    }\n\n    .dataframe tbody tr th {\n        vertical-align: top;\n    }\n\n    .dataframe thead th {\n        text-align: right;\n    }\n</style>\n<table border=\"1\" class=\"dataframe\">\n  <thead>\n    <tr style=\"text-align: right;\">\n      <th></th>\n      <th>공원번호</th>\n      <th>공원명</th>\n      <th>면적</th>\n      <th>지역</th>\n      <th>공원주소</th>\n      <th>X좌표(WGS84)</th>\n      <th>Y좌표(WGS84)</th>\n    </tr>\n  </thead>\n  <tbody>\n    <tr>\n      <th>0</th>\n      <td>1</td>\n      <td>남산도시자연공원</td>\n      <td>2896887㎡ 임 야 : 2454140㎡ 녹지대 및 기타시설 : 442747㎡</td>\n      <td>중구</td>\n      <td>서울특별시 중구 삼일대로 231(예장동)</td>\n      <td>126.990377</td>\n      <td>37.550140</td>\n    </tr>\n    <tr>\n      <th>1</th>\n      <td>3</td>\n      <td>길동생태공원</td>\n      <td>80683㎡</td>\n      <td>강동구</td>\n      <td>서울특별시 강동구 천호대로 1291(길동생태공원)</td>\n      <td>127.154779</td>\n      <td>37.540394</td>\n    </tr>\n    <tr>\n      <th>2</th>\n      <td>4</td>\n      <td>서울대공원</td>\n      <td>9132690m²</td>\n      <td>과천시</td>\n      <td>경기도 과천시 대공원광장로 102</td>\n      <td>127.019847</td>\n      <td>37.426449</td>\n    </tr>\n    <tr>\n      <th>3</th>\n      <td>5</td>\n      <td>서울숲</td>\n      <td>480994㎡</td>\n      <td>성동구</td>\n      <td>서울특별시 성동구 뚝섬로 273 (성수동1가)</td>\n      <td>127.041798</td>\n      <td>37.543072</td>\n    </tr>\n    <tr>\n      <th>4</th>\n      <td>6</td>\n      <td>월드컵공원</td>\n      <td>2284085㎡</td>\n      <td>마포구</td>\n      <td>서울특별시 마포구 하늘공원로 84(월드컵공원)</td>\n      <td>126.878907</td>\n      <td>37.571805</td>\n    </tr>\n  </tbody>\n</table>\n</div>"
     },
     "metadata": {},
     "execution_count": 15
    }
   ],
   "source": [
    "del df['공원개요']\n",
    "del df['개원일']\n",
    "del df['주요시설']\n",
    "del df['주요식물']\n",
    "del df['안내도']\n",
    "del df['오시는길']\n",
    "del df['이용시참고사항']\n",
    "del df['이미지']\n",
    "del df['관리부서']\n",
    "del df['전화번호']\n",
    "del df['X좌표(GRS80TM)']\n",
    "del df['Y좌표(GRS80TM)']\n",
    "del df['바로가기']\n",
    "df.head()"
   ]
  },
  {
   "cell_type": "code",
   "execution_count": 17,
   "metadata": {},
   "outputs": [
    {
     "output_type": "execute_result",
     "data": {
      "text/plain": [
       "        공원명                                            면적   지역  \\\n",
       "0  남산도시자연공원  2896887㎡ 임 야 : 2454140㎡ 녹지대 및 기타시설 : 442747㎡   중구   \n",
       "1    길동생태공원                                        80683㎡  강동구   \n",
       "2     서울대공원                                     9132690m²  과천시   \n",
       "3       서울숲                                       480994㎡  성동구   \n",
       "4     월드컵공원                                      2284085㎡  마포구   \n",
       "\n",
       "                           공원주소  X좌표(WGS84)  Y좌표(WGS84)  \n",
       "0        서울특별시 중구 삼일대로 231(예장동)  126.990377   37.550140  \n",
       "1  서울특별시 강동구 천호대로 1291(길동생태공원)   127.154779   37.540394  \n",
       "2            경기도 과천시 대공원광장로 102  127.019847   37.426449  \n",
       "3    서울특별시 성동구 뚝섬로 273 (성수동1가)   127.041798   37.543072  \n",
       "4     서울특별시 마포구 하늘공원로 84(월드컵공원)  126.878907   37.571805  "
      ],
      "text/html": "<div>\n<style scoped>\n    .dataframe tbody tr th:only-of-type {\n        vertical-align: middle;\n    }\n\n    .dataframe tbody tr th {\n        vertical-align: top;\n    }\n\n    .dataframe thead th {\n        text-align: right;\n    }\n</style>\n<table border=\"1\" class=\"dataframe\">\n  <thead>\n    <tr style=\"text-align: right;\">\n      <th></th>\n      <th>공원명</th>\n      <th>면적</th>\n      <th>지역</th>\n      <th>공원주소</th>\n      <th>X좌표(WGS84)</th>\n      <th>Y좌표(WGS84)</th>\n    </tr>\n  </thead>\n  <tbody>\n    <tr>\n      <th>0</th>\n      <td>남산도시자연공원</td>\n      <td>2896887㎡ 임 야 : 2454140㎡ 녹지대 및 기타시설 : 442747㎡</td>\n      <td>중구</td>\n      <td>서울특별시 중구 삼일대로 231(예장동)</td>\n      <td>126.990377</td>\n      <td>37.550140</td>\n    </tr>\n    <tr>\n      <th>1</th>\n      <td>길동생태공원</td>\n      <td>80683㎡</td>\n      <td>강동구</td>\n      <td>서울특별시 강동구 천호대로 1291(길동생태공원)</td>\n      <td>127.154779</td>\n      <td>37.540394</td>\n    </tr>\n    <tr>\n      <th>2</th>\n      <td>서울대공원</td>\n      <td>9132690m²</td>\n      <td>과천시</td>\n      <td>경기도 과천시 대공원광장로 102</td>\n      <td>127.019847</td>\n      <td>37.426449</td>\n    </tr>\n    <tr>\n      <th>3</th>\n      <td>서울숲</td>\n      <td>480994㎡</td>\n      <td>성동구</td>\n      <td>서울특별시 성동구 뚝섬로 273 (성수동1가)</td>\n      <td>127.041798</td>\n      <td>37.543072</td>\n    </tr>\n    <tr>\n      <th>4</th>\n      <td>월드컵공원</td>\n      <td>2284085㎡</td>\n      <td>마포구</td>\n      <td>서울특별시 마포구 하늘공원로 84(월드컵공원)</td>\n      <td>126.878907</td>\n      <td>37.571805</td>\n    </tr>\n  </tbody>\n</table>\n</div>"
     },
     "metadata": {},
     "execution_count": 17
    }
   ],
   "source": [
    "del df['공원번호']\n",
    "df.head()"
   ]
  },
  {
   "cell_type": "code",
   "execution_count": 28,
   "metadata": {},
   "outputs": [
    {
     "output_type": "stream",
     "name": "stdout",
     "text": [
      "['2896887㎡', '80683㎡', '9132690m²', '480994㎡', '2284085㎡', '8948.1㎡', '휴양', '6456㎥', '80309㎡', '1980.4㎡', '5197.7㎡', '11467㎡', '229539㎡', '15179.7', '16734.60㎥', '61544㎡', '424106㎡', '560552㎡', '26696.8㎥', '75900㎡', '113021.7m2', '201779㎥', '258991㎡', '10420819.08㎡', '171294.1㎥', '15000㎡', '297926㎡', '411972㎡', '98470㎡', '2038741.3㎡', '603715.2㎡', '108120㎡', '29619.3㎥', '29843.8㎡', '126026㎡', '135002.7㎡', '384026㎡', '180000㎥', '416031㎡', '160720㎡', '2277252㎡', '19599.70㎥', '138596㎡', '185295㎥', '254648㎡', '29816.5㎡', '762642㎡', '664905㎡', '99599.9㎡', '5802㎡', '16500㎥ ', '585652㎥', '649709.6㎡', '72132㎡', '66027.8㎡', '265582㎡', '2088704.9㎡', '112070㎡', '993724㎡', '219167㎡', '1349556.4㎡', '1511198㎡', '1097565㎡', '328018㎡', '1447122㎡', '207790㎡', '1018689㎡', '954553㎡', '1667848㎡', '13224㎡', '130345㎡', '5332422㎡', '5107964㎡', '47832㎡', '213552㎡', '168099.87㎡', '359435.2㎡', '36660㎡', '380735㎡', '1807420.9㎡', '359342.8㎡', '632733㎡', '328018㎡', '6691885.3㎡', '285757㎡', '110407㎡', '29682.2㎡', '137759㎡', '917190㎡', '51470㎡', '662543㎡', '217946㎡', '179666㎥', '34955㎡', '18083㎡', '4835㎡', '19650', '7000㎡', '10712㎡', '17182㎡', '160349.3㎡', '87432.4㎡', '13467㎡', '46871㎡', '49972㎡', '74385㎡', '8868㎡', '10634㎡', '22113㎡', '0', '1082847㎡', '3692455㎡', '386500㎡', '23450㎡', '2400833㎡', '2752421㎡', '4180551㎡', '147859㎡', '111650㎡', '0', '519782㎡', '59347㎡', '25500㎡', '2560㎡', '32000㎡', '45615㎡', '631021㎡', '109635㎡', '140022㎡', '211392㎡', '157535㎡', '0']\n"
     ]
    }
   ],
   "source": [
    "df.fillna('0', inplace=True)\n",
    "tmp_list = df['면적'].tolist()\n",
    "area_list = []\n",
    "for a in tmp_list:\n",
    "    area = a.split(maxsplit=1)[0]\n",
    "    if area == '총':\n",
    "        area = a.split(maxsplit=1)[1]\n",
    "    else:\n",
    "        area = a.split(maxsplit=1)[0]\n",
    "    area_list.append(area)\n",
    "print(area_list)"
   ]
  },
  {
   "cell_type": "code",
   "execution_count": 30,
   "metadata": {},
   "outputs": [
    {
     "output_type": "stream",
     "name": "stdout",
     "text": [
      "['2896887㎡', '80683㎡', '9132690m²', '480994㎡', '2284085㎡', '8948.1㎡', '0', '6456㎥', '80309㎡', '1980.4㎡', '5197.7㎡', '11467㎡', '229539㎡', '15179.7', '16734.60㎥', '61544㎡', '424106㎡', '560552㎡', '26696.8㎥', '75900㎡', '113021.7m2', '201779㎥', '258991㎡', '10420819.08㎡', '171294.1㎥', '15000㎡', '297926㎡', '411972㎡', '98470㎡', '2038741.3㎡', '603715.2㎡', '108120㎡', '29619.3㎥', '29843.8㎡', '126026㎡', '135002.7㎡', '384026㎡', '180000㎥', '416031㎡', '160720㎡', '2277252㎡', '19599.70㎥', '138596㎡', '185295㎥', '254648㎡', '29816.5㎡', '762642㎡', '664905㎡', '99599.9㎡', '5802㎡', '16500㎥ ', '585652㎥', '649709.6㎡', '72132㎡', '66027.8㎡', '265582㎡', '2088704.9㎡', '112070㎡', '993724㎡', '219167㎡', '1349556.4㎡', '1511198㎡', '1097565㎡', '328018㎡', '1447122㎡', '207790㎡', '1018689㎡', '954553㎡', '1667848㎡', '13224㎡', '130345㎡', '5332422㎡', '5107964㎡', '47832㎡', '213552㎡', '168099.87㎡', '359435.2㎡', '36660㎡', '380735㎡', '1807420.9㎡', '359342.8㎡', '632733㎡', '328018㎡', '6691885.3㎡', '285757㎡', '110407㎡', '29682.2㎡', '137759㎡', '917190㎡', '51470㎡', '662543㎡', '217946㎡', '179666㎥', '34955㎡', '18083㎡', '4835㎡', '19650', '7000㎡', '10712㎡', '17182㎡', '160349.3㎡', '87432.4㎡', '13467㎡', '46871㎡', '49972㎡', '74385㎡', '8868㎡', '10634㎡', '22113㎡', '0', '1082847㎡', '3692455㎡', '386500㎡', '23450㎡', '2400833㎡', '2752421㎡', '4180551㎡', '147859㎡', '111650㎡', '0', '519782㎡', '59347㎡', '25500㎡', '2560㎡', '32000㎡', '45615㎡', '631021㎡', '109635㎡', '140022㎡', '211392㎡', '157535㎡', '0']\n"
     ]
    }
   ],
   "source": [
    "area_list[6] = '0'\n",
    "print(area_list)"
   ]
  },
  {
   "cell_type": "code",
   "execution_count": 33,
   "metadata": {},
   "outputs": [
    {
     "output_type": "stream",
     "name": "stdout",
     "text": [
      "['2896887', '80683', '9132690', '480994', '2284085', '8948.1', '0', '6456', '80309', '1980.4', '5197.7', '11467', '229539', '15179.7', '16734.60', '61544', '424106', '560552', '26696.8', '75900', '113021.7', '201779', '258991', '10420819.08', '171294.1', '15000', '297926', '411972', '98470', '2038741.3', '603715.2', '108120', '29619.3', '29843.8', '126026', '135002.7', '384026', '180000', '416031', '160720', '2277252', '19599.70', '138596', '185295', '254648', '29816.5', '762642', '664905', '99599.9', '5802', '16500 ', '585652', '649709.6', '72132', '66027.8', '265582', '2088704.9', '112070', '993724', '219167', '1349556.4', '1511198', '1097565', '328018', '1447122', '207790', '1018689', '954553', '1667848', '13224', '130345', '5332422', '5107964', '47832', '213552', '168099.87', '359435.2', '36660', '380735', '1807420.9', '359342.8', '632733', '328018', '6691885.3', '285757', '110407', '29682.2', '137759', '917190', '51470', '662543', '217946', '179666', '34955', '18083', '4835', '19650', '7000', '10712', '17182', '160349.3', '87432.4', '13467', '46871', '49972', '74385', '8868', '10634', '22113', '0', '1082847', '3692455', '386500', '23450', '2400833', '2752421', '4180551', '147859', '111650', '0', '519782', '59347', '25500', '2560', '32000', '45615', '631021', '109635', '140022', '211392', '157535', '0']\n"
     ]
    }
   ],
   "source": [
    "import re\n",
    "tmp = []\n",
    "for b in area_list:\n",
    "    area = re.sub('㎡|m²|m2|㎥', '', b)\n",
    "    tmp.append(area)\n",
    "print(tmp)"
   ]
  },
  {
   "cell_type": "code",
   "execution_count": 34,
   "metadata": {},
   "outputs": [
    {
     "output_type": "execute_result",
     "data": {
      "text/plain": [
       "    구별       공원명                          공원주소       면적       위도       경도\n",
       "0   중구  남산도시자연공원        서울특별시 중구 삼일대로 231(예장동)  2896887  37.5501   126.99\n",
       "1  강동구    길동생태공원  서울특별시 강동구 천호대로 1291(길동생태공원)     80683  37.5404  127.155\n",
       "2  과천시     서울대공원            경기도 과천시 대공원광장로 102  9132690  37.4264   127.02\n",
       "3  성동구       서울숲    서울특별시 성동구 뚝섬로 273 (성수동1가)    480994  37.5431  127.042\n",
       "4  마포구     월드컵공원     서울특별시 마포구 하늘공원로 84(월드컵공원)  2284085  37.5718  126.879"
      ],
      "text/html": "<div>\n<style scoped>\n    .dataframe tbody tr th:only-of-type {\n        vertical-align: middle;\n    }\n\n    .dataframe tbody tr th {\n        vertical-align: top;\n    }\n\n    .dataframe thead th {\n        text-align: right;\n    }\n</style>\n<table border=\"1\" class=\"dataframe\">\n  <thead>\n    <tr style=\"text-align: right;\">\n      <th></th>\n      <th>구별</th>\n      <th>공원명</th>\n      <th>공원주소</th>\n      <th>면적</th>\n      <th>위도</th>\n      <th>경도</th>\n    </tr>\n  </thead>\n  <tbody>\n    <tr>\n      <th>0</th>\n      <td>중구</td>\n      <td>남산도시자연공원</td>\n      <td>서울특별시 중구 삼일대로 231(예장동)</td>\n      <td>2896887</td>\n      <td>37.5501</td>\n      <td>126.99</td>\n    </tr>\n    <tr>\n      <th>1</th>\n      <td>강동구</td>\n      <td>길동생태공원</td>\n      <td>서울특별시 강동구 천호대로 1291(길동생태공원)</td>\n      <td>80683</td>\n      <td>37.5404</td>\n      <td>127.155</td>\n    </tr>\n    <tr>\n      <th>2</th>\n      <td>과천시</td>\n      <td>서울대공원</td>\n      <td>경기도 과천시 대공원광장로 102</td>\n      <td>9132690</td>\n      <td>37.4264</td>\n      <td>127.02</td>\n    </tr>\n    <tr>\n      <th>3</th>\n      <td>성동구</td>\n      <td>서울숲</td>\n      <td>서울특별시 성동구 뚝섬로 273 (성수동1가)</td>\n      <td>480994</td>\n      <td>37.5431</td>\n      <td>127.042</td>\n    </tr>\n    <tr>\n      <th>4</th>\n      <td>마포구</td>\n      <td>월드컵공원</td>\n      <td>서울특별시 마포구 하늘공원로 84(월드컵공원)</td>\n      <td>2284085</td>\n      <td>37.5718</td>\n      <td>126.879</td>\n    </tr>\n  </tbody>\n</table>\n</div>"
     },
     "metadata": {},
     "execution_count": 34
    }
   ],
   "source": [
    "df = pd.DataFrame({\n",
    "    '구별': df['지역'],\n",
    "    '공원명': df['공원명'],\n",
    "    '공원주소': df['공원주소'],\n",
    "    '면적': tmp,\n",
    "    '위도': df['Y좌표(WGS84)'],\n",
    "    '경도': df['X좌표(WGS84)']\n",
    "})\n",
    "df.head()"
   ]
  },
  {
   "cell_type": "code",
   "execution_count": 35,
   "metadata": {},
   "outputs": [
    {
     "output_type": "stream",
     "name": "stdout",
     "text": [
      "<class 'pandas.core.frame.DataFrame'>\nRangeIndex: 132 entries, 0 to 131\nData columns (total 6 columns):\n #   Column  Non-Null Count  Dtype \n---  ------  --------------  ----- \n 0   구별      132 non-null    object\n 1   공원명     132 non-null    object\n 2   공원주소    132 non-null    object\n 3   면적      132 non-null    object\n 4   위도      132 non-null    object\n 5   경도      132 non-null    object\ndtypes: object(6)\nmemory usage: 6.3+ KB\n"
     ]
    }
   ],
   "source": [
    "df.info()"
   ]
  },
  {
   "cell_type": "code",
   "execution_count": 36,
   "metadata": {},
   "outputs": [
    {
     "output_type": "execute_result",
     "data": {
      "text/plain": [
       "    구별       공원명                          공원주소         면적         위도  \\\n",
       "0   중구  남산도시자연공원        서울특별시 중구 삼일대로 231(예장동)  2896887.0  37.550140   \n",
       "1  강동구    길동생태공원  서울특별시 강동구 천호대로 1291(길동생태공원)     80683.0  37.540394   \n",
       "2  과천시     서울대공원            경기도 과천시 대공원광장로 102  9132690.0  37.426449   \n",
       "3  성동구       서울숲    서울특별시 성동구 뚝섬로 273 (성수동1가)    480994.0  37.543072   \n",
       "4  마포구     월드컵공원     서울특별시 마포구 하늘공원로 84(월드컵공원)  2284085.0  37.571805   \n",
       "\n",
       "           경도  \n",
       "0  126.990377  \n",
       "1  127.154779  \n",
       "2  127.019847  \n",
       "3  127.041798  \n",
       "4  126.878907  "
      ],
      "text/html": "<div>\n<style scoped>\n    .dataframe tbody tr th:only-of-type {\n        vertical-align: middle;\n    }\n\n    .dataframe tbody tr th {\n        vertical-align: top;\n    }\n\n    .dataframe thead th {\n        text-align: right;\n    }\n</style>\n<table border=\"1\" class=\"dataframe\">\n  <thead>\n    <tr style=\"text-align: right;\">\n      <th></th>\n      <th>구별</th>\n      <th>공원명</th>\n      <th>공원주소</th>\n      <th>면적</th>\n      <th>위도</th>\n      <th>경도</th>\n    </tr>\n  </thead>\n  <tbody>\n    <tr>\n      <th>0</th>\n      <td>중구</td>\n      <td>남산도시자연공원</td>\n      <td>서울특별시 중구 삼일대로 231(예장동)</td>\n      <td>2896887.0</td>\n      <td>37.550140</td>\n      <td>126.990377</td>\n    </tr>\n    <tr>\n      <th>1</th>\n      <td>강동구</td>\n      <td>길동생태공원</td>\n      <td>서울특별시 강동구 천호대로 1291(길동생태공원)</td>\n      <td>80683.0</td>\n      <td>37.540394</td>\n      <td>127.154779</td>\n    </tr>\n    <tr>\n      <th>2</th>\n      <td>과천시</td>\n      <td>서울대공원</td>\n      <td>경기도 과천시 대공원광장로 102</td>\n      <td>9132690.0</td>\n      <td>37.426449</td>\n      <td>127.019847</td>\n    </tr>\n    <tr>\n      <th>3</th>\n      <td>성동구</td>\n      <td>서울숲</td>\n      <td>서울특별시 성동구 뚝섬로 273 (성수동1가)</td>\n      <td>480994.0</td>\n      <td>37.543072</td>\n      <td>127.041798</td>\n    </tr>\n    <tr>\n      <th>4</th>\n      <td>마포구</td>\n      <td>월드컵공원</td>\n      <td>서울특별시 마포구 하늘공원로 84(월드컵공원)</td>\n      <td>2284085.0</td>\n      <td>37.571805</td>\n      <td>126.878907</td>\n    </tr>\n  </tbody>\n</table>\n</div>"
     },
     "metadata": {},
     "execution_count": 36
    }
   ],
   "source": [
    "df = df.astype({\n",
    "    '면적': float,\n",
    "    '위도': float,\n",
    "    '경도': float\n",
    "    })\n",
    "df.head()"
   ]
  },
  {
   "cell_type": "markdown",
   "metadata": {},
   "source": [
    "### 위도, 경도 정보가 맞는지 다시 가져오기 - 카카오맵 이용"
   ]
  },
  {
   "cell_type": "code",
   "execution_count": 38,
   "metadata": {},
   "outputs": [],
   "source": [
    "import requests\n",
    "from urllib.parse import urlparse\n",
    "import pandas as pd \n",
    "key_fd = open('kakaomapkey.txt', mode='r')\n",
    "kmap_key = key_fd.read(100)\n",
    "key_fd.close()"
   ]
  },
  {
   "cell_type": "code",
   "execution_count": 41,
   "metadata": {},
   "outputs": [
    {
     "output_type": "stream",
     "name": "stdout",
     "text": [
      "0\n",
      "1\n",
      "2\n",
      "3\n",
      "4\n",
      "5\n",
      "6\n",
      "7\n",
      "8\n"
     ]
    },
    {
     "output_type": "error",
     "ename": "IndexError",
     "evalue": "list index out of range",
     "traceback": [
      "\u001b[1;31m---------------------------------------------------------------------------\u001b[0m",
      "\u001b[1;31mIndexError\u001b[0m                                Traceback (most recent call last)",
      "\u001b[1;32m<ipython-input-41-da3ce638a0fa>\u001b[0m in \u001b[0;36m<module>\u001b[1;34m\u001b[0m\n\u001b[0;32m      4\u001b[0m     \u001b[0murl\u001b[0m \u001b[1;33m=\u001b[0m \u001b[1;34m'https://dapi.kakao.com/v2/local/search/address.json?query='\u001b[0m \u001b[1;33m+\u001b[0m \u001b[0mdf\u001b[0m\u001b[1;33m[\u001b[0m\u001b[1;34m'공원주소'\u001b[0m\u001b[1;33m]\u001b[0m\u001b[1;33m[\u001b[0m\u001b[0mi\u001b[0m\u001b[1;33m]\u001b[0m\u001b[1;33m\u001b[0m\u001b[1;33m\u001b[0m\u001b[0m\n\u001b[0;32m      5\u001b[0m     \u001b[0mresult\u001b[0m \u001b[1;33m=\u001b[0m \u001b[0mrequests\u001b[0m\u001b[1;33m.\u001b[0m\u001b[0mget\u001b[0m\u001b[1;33m(\u001b[0m\u001b[0murlparse\u001b[0m\u001b[1;33m(\u001b[0m\u001b[0murl\u001b[0m\u001b[1;33m)\u001b[0m\u001b[1;33m.\u001b[0m\u001b[0mgeturl\u001b[0m\u001b[1;33m(\u001b[0m\u001b[1;33m)\u001b[0m\u001b[1;33m,\u001b[0m \u001b[0mheaders\u001b[0m\u001b[1;33m=\u001b[0m\u001b[1;33m{\u001b[0m\u001b[1;34m\"Authorization\"\u001b[0m\u001b[1;33m:\u001b[0m\u001b[1;34m\"KakaoAK \"\u001b[0m \u001b[1;33m+\u001b[0m \u001b[0mkmap_key\u001b[0m\u001b[1;33m}\u001b[0m\u001b[1;33m)\u001b[0m\u001b[1;33m.\u001b[0m\u001b[0mjson\u001b[0m\u001b[1;33m(\u001b[0m\u001b[1;33m)\u001b[0m\u001b[1;33m\u001b[0m\u001b[1;33m\u001b[0m\u001b[0m\n\u001b[1;32m----> 6\u001b[1;33m     \u001b[0mlat\u001b[0m \u001b[1;33m=\u001b[0m \u001b[0mfloat\u001b[0m\u001b[1;33m(\u001b[0m\u001b[0mresult\u001b[0m\u001b[1;33m[\u001b[0m\u001b[1;34m'documents'\u001b[0m\u001b[1;33m]\u001b[0m\u001b[1;33m[\u001b[0m\u001b[1;36m0\u001b[0m\u001b[1;33m]\u001b[0m\u001b[1;33m[\u001b[0m\u001b[1;34m'y'\u001b[0m\u001b[1;33m]\u001b[0m\u001b[1;33m)\u001b[0m\u001b[1;33m\u001b[0m\u001b[1;33m\u001b[0m\u001b[0m\n\u001b[0m\u001b[0;32m      7\u001b[0m     \u001b[0mlng\u001b[0m \u001b[1;33m=\u001b[0m \u001b[0mfloat\u001b[0m\u001b[1;33m(\u001b[0m\u001b[0mresult\u001b[0m\u001b[1;33m[\u001b[0m\u001b[1;34m'documents'\u001b[0m\u001b[1;33m]\u001b[0m\u001b[1;33m[\u001b[0m\u001b[1;36m0\u001b[0m\u001b[1;33m]\u001b[0m\u001b[1;33m[\u001b[0m\u001b[1;34m'x'\u001b[0m\u001b[1;33m]\u001b[0m\u001b[1;33m)\u001b[0m\u001b[1;33m\u001b[0m\u001b[1;33m\u001b[0m\u001b[0m\n\u001b[0;32m      8\u001b[0m \u001b[1;33m\u001b[0m\u001b[0m\n",
      "\u001b[1;31mIndexError\u001b[0m: list index out of range"
     ]
    }
   ],
   "source": [
    "lat_list = []; lng_list = []\n",
    "for i in df.index:\n",
    "    print(i)\n",
    "    url = 'https://dapi.kakao.com/v2/local/search/address.json?query=' + df['공원주소'][i]\n",
    "    result = requests.get(urlparse(url).geturl(), headers={\"Authorization\":\"KakaoAK \" + kmap_key}).json()\n",
    "    lat = float(result['documents'][0]['y'])\n",
    "    lng = float(result['documents'][0]['x'])\n",
    "\n",
    "    lat_list.append(lat); lng_list.append(lng)"
   ]
  },
  {
   "cell_type": "code",
   "execution_count": 42,
   "metadata": {},
   "outputs": [
    {
     "output_type": "execute_result",
     "data": {
      "text/plain": [
       "     구별            공원명                          공원주소         면적         위도  \\\n",
       "0    중구       남산도시자연공원        서울특별시 중구 삼일대로 231(예장동)  2896887.0  37.550140   \n",
       "1   강동구         길동생태공원  서울특별시 강동구 천호대로 1291(길동생태공원)     80683.0  37.540394   \n",
       "2   과천시          서울대공원            경기도 과천시 대공원광장로 102  9132690.0  37.426449   \n",
       "3   성동구            서울숲    서울특별시 성동구 뚝섬로 273 (성수동1가)    480994.0  37.543072   \n",
       "4   마포구          월드컵공원     서울특별시 마포구 하늘공원로 84(월드컵공원)  2284085.0  37.571805   \n",
       "5   종로구      광화문시민열린마당            서울특별시 종로구 세종로 76-2     8948.1  37.575045   \n",
       "6   은평구  진관근린공원(구파발폭포)             서울특별시 은평구 진관동 393        0.0  37.637024   \n",
       "7  영등포구        중마루근린공원         서울특별시 영등포구 영등포동2가 222     6456.0  37.519832   \n",
       "8   성동구           응봉공원         서울특별시 성동구 금호동1가 산1-72    80309.0  37.557228   \n",
       "9   강서구         매화근린공원          서울특별시 강서구 등촌동 630-14     1980.4  37.557583   \n",
       "\n",
       "           경도  \n",
       "0  126.990377  \n",
       "1  127.154779  \n",
       "2  127.019847  \n",
       "3  127.041798  \n",
       "4  126.878907  \n",
       "5  126.978023  \n",
       "6  126.919216  \n",
       "7  126.911267  \n",
       "8  127.021765  \n",
       "9  126.861150  "
      ],
      "text/html": "<div>\n<style scoped>\n    .dataframe tbody tr th:only-of-type {\n        vertical-align: middle;\n    }\n\n    .dataframe tbody tr th {\n        vertical-align: top;\n    }\n\n    .dataframe thead th {\n        text-align: right;\n    }\n</style>\n<table border=\"1\" class=\"dataframe\">\n  <thead>\n    <tr style=\"text-align: right;\">\n      <th></th>\n      <th>구별</th>\n      <th>공원명</th>\n      <th>공원주소</th>\n      <th>면적</th>\n      <th>위도</th>\n      <th>경도</th>\n    </tr>\n  </thead>\n  <tbody>\n    <tr>\n      <th>0</th>\n      <td>중구</td>\n      <td>남산도시자연공원</td>\n      <td>서울특별시 중구 삼일대로 231(예장동)</td>\n      <td>2896887.0</td>\n      <td>37.550140</td>\n      <td>126.990377</td>\n    </tr>\n    <tr>\n      <th>1</th>\n      <td>강동구</td>\n      <td>길동생태공원</td>\n      <td>서울특별시 강동구 천호대로 1291(길동생태공원)</td>\n      <td>80683.0</td>\n      <td>37.540394</td>\n      <td>127.154779</td>\n    </tr>\n    <tr>\n      <th>2</th>\n      <td>과천시</td>\n      <td>서울대공원</td>\n      <td>경기도 과천시 대공원광장로 102</td>\n      <td>9132690.0</td>\n      <td>37.426449</td>\n      <td>127.019847</td>\n    </tr>\n    <tr>\n      <th>3</th>\n      <td>성동구</td>\n      <td>서울숲</td>\n      <td>서울특별시 성동구 뚝섬로 273 (성수동1가)</td>\n      <td>480994.0</td>\n      <td>37.543072</td>\n      <td>127.041798</td>\n    </tr>\n    <tr>\n      <th>4</th>\n      <td>마포구</td>\n      <td>월드컵공원</td>\n      <td>서울특별시 마포구 하늘공원로 84(월드컵공원)</td>\n      <td>2284085.0</td>\n      <td>37.571805</td>\n      <td>126.878907</td>\n    </tr>\n    <tr>\n      <th>5</th>\n      <td>종로구</td>\n      <td>광화문시민열린마당</td>\n      <td>서울특별시 종로구 세종로 76-2</td>\n      <td>8948.1</td>\n      <td>37.575045</td>\n      <td>126.978023</td>\n    </tr>\n    <tr>\n      <th>6</th>\n      <td>은평구</td>\n      <td>진관근린공원(구파발폭포)</td>\n      <td>서울특별시 은평구 진관동 393</td>\n      <td>0.0</td>\n      <td>37.637024</td>\n      <td>126.919216</td>\n    </tr>\n    <tr>\n      <th>7</th>\n      <td>영등포구</td>\n      <td>중마루근린공원</td>\n      <td>서울특별시 영등포구 영등포동2가 222</td>\n      <td>6456.0</td>\n      <td>37.519832</td>\n      <td>126.911267</td>\n    </tr>\n    <tr>\n      <th>8</th>\n      <td>성동구</td>\n      <td>응봉공원</td>\n      <td>서울특별시 성동구 금호동1가 산1-72</td>\n      <td>80309.0</td>\n      <td>37.557228</td>\n      <td>127.021765</td>\n    </tr>\n    <tr>\n      <th>9</th>\n      <td>강서구</td>\n      <td>매화근린공원</td>\n      <td>서울특별시 강서구 등촌동 630-14</td>\n      <td>1980.4</td>\n      <td>37.557583</td>\n      <td>126.861150</td>\n    </tr>\n  </tbody>\n</table>\n</div>"
     },
     "metadata": {},
     "execution_count": 42
    }
   ],
   "source": [
    "df.head(10)"
   ]
  },
  {
   "cell_type": "code",
   "execution_count": null,
   "metadata": {},
   "outputs": [],
   "source": []
  }
 ]
}