{
 "metadata": {
  "language_info": {
   "codemirror_mode": {
    "name": "ipython",
    "version": 3
   },
   "file_extension": ".py",
   "mimetype": "text/x-python",
   "name": "python",
   "nbconvert_exporter": "python",
   "pygments_lexer": "ipython3",
   "version": "3.8.3-final"
  },
  "orig_nbformat": 2,
  "kernelspec": {
   "name": "Python 3.8.3 64-bit ('base': conda)",
   "display_name": "Python 3.8.3 64-bit ('base': conda)",
   "metadata": {
    "interpreter": {
     "hash": "b3ba2566441a7c06988d0923437866b63cedc61552a5af99d1f4fb67d367b25f"
    }
   }
  }
 },
 "nbformat": 4,
 "nbformat_minor": 2,
 "cells": [
  {
   "cell_type": "code",
   "execution_count": 2,
   "metadata": {},
   "outputs": [],
   "source": [
    "import numpy as np \n",
    "import pandas as pd \n",
    "import seaborn as sns \n",
    "import matplotlib as mpl \n",
    "import matplotlib.pyplot as plt \n",
    "import os\n",
    "from tqdm import tqdm_notebook\n",
    "from glob import glob \n",
    "%matplotlib inline\n",
    "# 한글폰트 사용\n",
    "mpl.rc('font', family='Malgun Gothic')\n",
    "mpl.rc('axes', unicode_minus=False)"
   ]
  },
  {
   "cell_type": "code",
   "execution_count": 3,
   "metadata": {},
   "outputs": [
    {
     "output_type": "stream",
     "name": "stdout",
     "text": [
      "<class 'pandas.core.frame.DataFrame'>\nRangeIndex: 117774 entries, 0 to 117773\nData columns (total 39 columns):\n #   Column     Non-Null Count   Dtype  \n---  ------     --------------   -----  \n 0   상가업소번호     117774 non-null  int64  \n 1   상호명        117774 non-null  object \n 2   지점명        13861 non-null   object \n 3   상권업종대분류코드  117774 non-null  object \n 4   상권업종대분류명   117774 non-null  object \n 5   상권업종중분류코드  117774 non-null  object \n 6   상권업종중분류명   117774 non-null  object \n 7   상권업종소분류코드  117774 non-null  object \n 8   상권업종소분류명   117774 non-null  object \n 9   표준산업분류코드   109914 non-null  object \n 10  표준산업분류명    109914 non-null  object \n 11  시도코드       117774 non-null  int64  \n 12  시도명        117774 non-null  object \n 13  시군구코드      117774 non-null  int64  \n 14  시군구명       117774 non-null  object \n 15  행정동코드      117774 non-null  int64  \n 16  행정동명       117763 non-null  object \n 17  법정동코드      117763 non-null  float64\n 18  법정동명       117763 non-null  object \n 19  지번코드       117774 non-null  int64  \n 20  대지구분코드     117774 non-null  int64  \n 21  대지구분명      117774 non-null  object \n 22  지번본번지      117774 non-null  int64  \n 23  지번부번지      96604 non-null   float64\n 24  지번주소       117774 non-null  object \n 25  도로명코드      117774 non-null  int64  \n 26  도로명        117774 non-null  object \n 27  건물본번지      117774 non-null  int64  \n 28  건물부번지      30352 non-null   float64\n 29  건물관리번호     117774 non-null  object \n 30  건물명        29033 non-null   object \n 31  도로명주소      117774 non-null  object \n 32  구우편번호      117774 non-null  int64  \n 33  신우편번호      117764 non-null  float64\n 34  동정보        5679 non-null    object \n 35  층정보        50376 non-null   object \n 36  호정보        12122 non-null   object \n 37  경도         117774 non-null  float64\n 38  위도         117774 non-null  float64\ndtypes: float64(6), int64(10), object(23)\nmemory usage: 35.0+ MB\n"
     ]
    }
   ],
   "source": [
    "tmp = pd.read_csv('./data/상가정보_202009/상가(상권)정보_강원_202009.csv', sep='|')\n",
    "tmp.info()"
   ]
  },
  {
   "cell_type": "code",
   "execution_count": 4,
   "metadata": {},
   "outputs": [
    {
     "output_type": "execute_result",
     "data": {
      "text/plain": [
       "         상호명                도로명주소\n",
       "12   버거킹오션월드  강원도 홍천군 서면 한치골길 262\n",
       "196      로데오   강원도 강릉시 경강로 2090-1\n",
       "479   왕눈이도넛츠   강원도 영월군 영월읍 삼옥재길 2\n",
       "618  씨지브이원주2     강원도 원주시 서원대로 171\n",
       "643   베스킨라벤스       강원도 삼척시 진주로 35"
      ],
      "text/html": "<div>\n<style scoped>\n    .dataframe tbody tr th:only-of-type {\n        vertical-align: middle;\n    }\n\n    .dataframe tbody tr th {\n        vertical-align: top;\n    }\n\n    .dataframe thead th {\n        text-align: right;\n    }\n</style>\n<table border=\"1\" class=\"dataframe\">\n  <thead>\n    <tr style=\"text-align: right;\">\n      <th></th>\n      <th>상호명</th>\n      <th>도로명주소</th>\n    </tr>\n  </thead>\n  <tbody>\n    <tr>\n      <th>12</th>\n      <td>버거킹오션월드</td>\n      <td>강원도 홍천군 서면 한치골길 262</td>\n    </tr>\n    <tr>\n      <th>196</th>\n      <td>로데오</td>\n      <td>강원도 강릉시 경강로 2090-1</td>\n    </tr>\n    <tr>\n      <th>479</th>\n      <td>왕눈이도넛츠</td>\n      <td>강원도 영월군 영월읍 삼옥재길 2</td>\n    </tr>\n    <tr>\n      <th>618</th>\n      <td>씨지브이원주2</td>\n      <td>강원도 원주시 서원대로 171</td>\n    </tr>\n    <tr>\n      <th>643</th>\n      <td>베스킨라벤스</td>\n      <td>강원도 삼척시 진주로 35</td>\n    </tr>\n  </tbody>\n</table>\n</div>"
     },
     "metadata": {},
     "execution_count": 4
    }
   ],
   "source": [
    "tmp = pd.read_csv('./data/상가정보_202009/상가(상권)정보_강원_202009.csv', sep='|')\n",
    "tmp = tmp[tmp['상권업종중분류코드'] == 'Q07']\n",
    "tmp = tmp[['상호명', '도로명주소']]\n",
    "tmp.head()"
   ]
  },
  {
   "cell_type": "code",
   "execution_count": 5,
   "metadata": {},
   "outputs": [
    {
     "output_type": "execute_result",
     "data": {
      "text/plain": [
       "               상호명                 도로명주소\n",
       "12         버거킹오션월드   강원도 홍천군 서면 한치골길 262\n",
       "19073          버거킹   강원도 홍천군 서면 한치골길 262\n",
       "32584       BKR버거킹   강원도 홍천군 서면 한치골길 262\n",
       "79048          버거킹      강원도 강릉시 하슬라로 159\n",
       "81386   버거킹춘천거두GS점  강원도 춘천시 동내면 춘천순환로 59\n",
       "85557          버거킹  강원도 춘천시 동내면 춘천순환로 59\n",
       "88647          버거킹     강원도 속초시 동해대로 4059\n",
       "103209         버거킹   강원도 홍천군 서면 한치골길 264\n",
       "109596         버거킹       강원도 원주시 남원로 505\n",
       "111386         버거킹      강원도 춘천시 방송길 98-1"
      ],
      "text/html": "<div>\n<style scoped>\n    .dataframe tbody tr th:only-of-type {\n        vertical-align: middle;\n    }\n\n    .dataframe tbody tr th {\n        vertical-align: top;\n    }\n\n    .dataframe thead th {\n        text-align: right;\n    }\n</style>\n<table border=\"1\" class=\"dataframe\">\n  <thead>\n    <tr style=\"text-align: right;\">\n      <th></th>\n      <th>상호명</th>\n      <th>도로명주소</th>\n    </tr>\n  </thead>\n  <tbody>\n    <tr>\n      <th>12</th>\n      <td>버거킹오션월드</td>\n      <td>강원도 홍천군 서면 한치골길 262</td>\n    </tr>\n    <tr>\n      <th>19073</th>\n      <td>버거킹</td>\n      <td>강원도 홍천군 서면 한치골길 262</td>\n    </tr>\n    <tr>\n      <th>32584</th>\n      <td>BKR버거킹</td>\n      <td>강원도 홍천군 서면 한치골길 262</td>\n    </tr>\n    <tr>\n      <th>79048</th>\n      <td>버거킹</td>\n      <td>강원도 강릉시 하슬라로 159</td>\n    </tr>\n    <tr>\n      <th>81386</th>\n      <td>버거킹춘천거두GS점</td>\n      <td>강원도 춘천시 동내면 춘천순환로 59</td>\n    </tr>\n    <tr>\n      <th>85557</th>\n      <td>버거킹</td>\n      <td>강원도 춘천시 동내면 춘천순환로 59</td>\n    </tr>\n    <tr>\n      <th>88647</th>\n      <td>버거킹</td>\n      <td>강원도 속초시 동해대로 4059</td>\n    </tr>\n    <tr>\n      <th>103209</th>\n      <td>버거킹</td>\n      <td>강원도 홍천군 서면 한치골길 264</td>\n    </tr>\n    <tr>\n      <th>109596</th>\n      <td>버거킹</td>\n      <td>강원도 원주시 남원로 505</td>\n    </tr>\n    <tr>\n      <th>111386</th>\n      <td>버거킹</td>\n      <td>강원도 춘천시 방송길 98-1</td>\n    </tr>\n  </tbody>\n</table>\n</div>"
     },
     "metadata": {},
     "execution_count": 5
    }
   ],
   "source": [
    "tmp[tmp['상호명'].str.contains('버거킹') | tmp['상호명'].str.lower().str.contains('burgerking')]"
   ]
  },
  {
   "cell_type": "code",
   "execution_count": 6,
   "metadata": {},
   "outputs": [
    {
     "output_type": "execute_result",
     "data": {
      "text/plain": [
       "                        상호명              도로명주소\n",
       "24245         한국맥도날드춘천퇴계DT점   강원도 춘천시 영서로 2173\n",
       "37936          한국맥도날드원주단계DT   강원도 원주시 서원대로 154\n",
       "38732          한국맥도날드원주단구DT   강원도 원주시 서원대로 426\n",
       "47339                  맥도날드   강원도 원주시 서원대로 426\n",
       "56818              신맥맥도날드원주   강원도 원주시 북원로 1928\n",
       "67894                  맥도날드  강원도 속초시 동해대로 4118\n",
       "67931                  맥도날드   강원도 원주시 서원대로 154\n",
       "70409                  맥도날드     강원도 춘천시 명동길 14\n",
       "72741                  맥도날드   강원도 강릉시 경강로 2097\n",
       "80517             맥도날드동해DT점      강원도 동해시 대학로 2\n",
       "82397           한국맥도날드동해DT점      강원도 동해시 대학로 2\n",
       "83435  한국맥도날드춘천후평DT점춘천후평DT점    강원도 춘천시 후석로 334\n",
       "88736           한국맥도날드동해DT점     강원도 동해시 한섬로 93\n",
       "93282         한국맥도날드춘천후평DT점    강원도 춘천시 후석로 334"
      ],
      "text/html": "<div>\n<style scoped>\n    .dataframe tbody tr th:only-of-type {\n        vertical-align: middle;\n    }\n\n    .dataframe tbody tr th {\n        vertical-align: top;\n    }\n\n    .dataframe thead th {\n        text-align: right;\n    }\n</style>\n<table border=\"1\" class=\"dataframe\">\n  <thead>\n    <tr style=\"text-align: right;\">\n      <th></th>\n      <th>상호명</th>\n      <th>도로명주소</th>\n    </tr>\n  </thead>\n  <tbody>\n    <tr>\n      <th>24245</th>\n      <td>한국맥도날드춘천퇴계DT점</td>\n      <td>강원도 춘천시 영서로 2173</td>\n    </tr>\n    <tr>\n      <th>37936</th>\n      <td>한국맥도날드원주단계DT</td>\n      <td>강원도 원주시 서원대로 154</td>\n    </tr>\n    <tr>\n      <th>38732</th>\n      <td>한국맥도날드원주단구DT</td>\n      <td>강원도 원주시 서원대로 426</td>\n    </tr>\n    <tr>\n      <th>47339</th>\n      <td>맥도날드</td>\n      <td>강원도 원주시 서원대로 426</td>\n    </tr>\n    <tr>\n      <th>56818</th>\n      <td>신맥맥도날드원주</td>\n      <td>강원도 원주시 북원로 1928</td>\n    </tr>\n    <tr>\n      <th>67894</th>\n      <td>맥도날드</td>\n      <td>강원도 속초시 동해대로 4118</td>\n    </tr>\n    <tr>\n      <th>67931</th>\n      <td>맥도날드</td>\n      <td>강원도 원주시 서원대로 154</td>\n    </tr>\n    <tr>\n      <th>70409</th>\n      <td>맥도날드</td>\n      <td>강원도 춘천시 명동길 14</td>\n    </tr>\n    <tr>\n      <th>72741</th>\n      <td>맥도날드</td>\n      <td>강원도 강릉시 경강로 2097</td>\n    </tr>\n    <tr>\n      <th>80517</th>\n      <td>맥도날드동해DT점</td>\n      <td>강원도 동해시 대학로 2</td>\n    </tr>\n    <tr>\n      <th>82397</th>\n      <td>한국맥도날드동해DT점</td>\n      <td>강원도 동해시 대학로 2</td>\n    </tr>\n    <tr>\n      <th>83435</th>\n      <td>한국맥도날드춘천후평DT점춘천후평DT점</td>\n      <td>강원도 춘천시 후석로 334</td>\n    </tr>\n    <tr>\n      <th>88736</th>\n      <td>한국맥도날드동해DT점</td>\n      <td>강원도 동해시 한섬로 93</td>\n    </tr>\n    <tr>\n      <th>93282</th>\n      <td>한국맥도날드춘천후평DT점</td>\n      <td>강원도 춘천시 후석로 334</td>\n    </tr>\n  </tbody>\n</table>\n</div>"
     },
     "metadata": {},
     "execution_count": 6
    }
   ],
   "source": [
    "tmp[tmp['상호명'].str.contains('맥도날드') | tmp['상호명'].str.lower().str.contains('mcdonalds')]"
   ]
  },
  {
   "cell_type": "code",
   "execution_count": 7,
   "metadata": {},
   "outputs": [
    {
     "output_type": "execute_result",
     "data": {
      "text/plain": [
       "                상호명                도로명주소\n",
       "10989     케이에프씨춘천석사     강원도 춘천시 영서로 2027\n",
       "39638  에스알에스KFC현대성우  강원도 횡성군 둔내면 고원로 451\n",
       "60175        KFC춘천1    강원도 춘천시 중앙로67번길 4\n",
       "60777     SRSKFC춘천1    강원도 춘천시 중앙로67번길 4\n",
       "60778     SRS코리아KFC    강원도 동해시 한섬로 111-7\n",
       "70740           KFC    강원도 춘천시 중앙로67번길 4"
      ],
      "text/html": "<div>\n<style scoped>\n    .dataframe tbody tr th:only-of-type {\n        vertical-align: middle;\n    }\n\n    .dataframe tbody tr th {\n        vertical-align: top;\n    }\n\n    .dataframe thead th {\n        text-align: right;\n    }\n</style>\n<table border=\"1\" class=\"dataframe\">\n  <thead>\n    <tr style=\"text-align: right;\">\n      <th></th>\n      <th>상호명</th>\n      <th>도로명주소</th>\n    </tr>\n  </thead>\n  <tbody>\n    <tr>\n      <th>10989</th>\n      <td>케이에프씨춘천석사</td>\n      <td>강원도 춘천시 영서로 2027</td>\n    </tr>\n    <tr>\n      <th>39638</th>\n      <td>에스알에스KFC현대성우</td>\n      <td>강원도 횡성군 둔내면 고원로 451</td>\n    </tr>\n    <tr>\n      <th>60175</th>\n      <td>KFC춘천1</td>\n      <td>강원도 춘천시 중앙로67번길 4</td>\n    </tr>\n    <tr>\n      <th>60777</th>\n      <td>SRSKFC춘천1</td>\n      <td>강원도 춘천시 중앙로67번길 4</td>\n    </tr>\n    <tr>\n      <th>60778</th>\n      <td>SRS코리아KFC</td>\n      <td>강원도 동해시 한섬로 111-7</td>\n    </tr>\n    <tr>\n      <th>70740</th>\n      <td>KFC</td>\n      <td>강원도 춘천시 중앙로67번길 4</td>\n    </tr>\n  </tbody>\n</table>\n</div>"
     },
     "metadata": {},
     "execution_count": 7
    }
   ],
   "source": [
    "tmp[tmp['상호명'].str.contains('케이에프씨') | tmp['상호명'].str.lower().str.contains('kfc')]"
   ]
  },
  {
   "cell_type": "code",
   "execution_count": 8,
   "metadata": {},
   "outputs": [
    {
     "output_type": "execute_result",
     "data": {
      "text/plain": [
       "                  상호명                       도로명주소\n",
       "23422            롯데리아       강원도 춘천시 남산면 북한강변길 688\n",
       "24208            롯데리아        강원도 홍천군 홍천읍 홍천로6길 22\n",
       "25290            롯데리아           강원도 강릉시 교동광장로 106\n",
       "26924       문막휴게소롯데리아        강원도 원주시 문막읍 원문로 1234\n",
       "31522       롯데리아태백태백점           강원도 태백시 황지로 194-1\n",
       "39100   문막휴게소강릉방향롯데리아        강원도 원주시 문막읍 원문로 1234\n",
       "42843            롯데리아             강원도 원주시 무실로 178\n",
       "45259     롯데리아낙산해수욕장점        강원도 양양군 강현면 일출로 31-7\n",
       "52083            롯데리아             강원도 속초시 중앙로 128\n",
       "55480      롯데리아익스프레스점        강원도 춘천시 서부대성로57번길 10\n",
       "58422       현대성우롯데리아점          강원도 횡성군 횡성읍 문정로 20\n",
       "61552            롯데리아             강원도 속초시 소평로 162\n",
       "63164            롯데리아             강원도 강릉시 하평2길 11\n",
       "64069            롯데리아            강원도 원주시 치악로 1489\n",
       "64077            롯데리아              강원도 원주시 우산로 72\n",
       "64648            롯데리아          강원도 양구군 양구읍 양록길 99\n",
       "65275            롯데리아            강원도 강릉시 경강로 2106\n",
       "65750            롯데리아           강원도 춘천시 서부대성로 243\n",
       "66661            롯데리아      강원도 홍천군 홍천읍 홍천로6길 24-2\n",
       "68260            롯데리아            강원도 원주시 서원대로 171\n",
       "69641            롯데리아        강원도 화천군 화천읍 중앙로 16-1\n",
       "69735            롯데리아        강원도 정선군 정선읍 병방치길 235\n",
       "70821            롯데리아         강원도 강릉시 주문진읍 주문로 78\n",
       "71359            롯데리아       강원도 원주시 지정면 월송석화로 838\n",
       "73761   롯데리아문막휴게소강릉방면        강원도 원주시 문막읍 원문로 1234\n",
       "82542       롯데리아고성간성점        강원도 고성군 간성읍 간성로 59-1\n",
       "90138            롯데리아     강원도 화천군 화천읍 중앙로4길 13-10\n",
       "93197       롯데리아혁신도시점            강원도 원주시 건강로 17-2\n",
       "94516            롯데리아           강원도 속초시 설악산로 1042\n",
       "94585     롯데리아경포해수욕장점             강원도 강릉시 창해로 441\n",
       "96481            롯데리아             강원도 원주시 단구로 411\n",
       "97133       롯데리아원주일산점             강원도 원주시 천사로 213\n",
       "97329            롯데리아    강원도 인제군 상남면 서울양양고속도로 117\n",
       "97357            롯데리아       강원도 원주시 지정면 오크밸리2길 58\n",
       "98035            롯데리아             강원도 속초시 중앙로 124\n",
       "100027           롯데리아        강원도 춘천시 동면 춘천순환로 600\n",
       "101866           롯데리아  강원도 인제군 상남면 서울양양고속도로 117-2\n",
       "101946    롯데리아롯데속초리조트            강원도 속초시 대포항길 186\n",
       "102433           롯데리아            강원도 속초시 대포항길 186\n",
       "107844           롯데리아              강원도 춘천시 중앙로 33\n",
       "110999           롯데리아        강원도 평창군 대관령면 솔봉로 325\n",
       "113229           롯데리아         강원도 홍천군 서면 한치골길 262\n",
       "115763           롯데리아        강원도 양양군 양양읍 양양로 15-1\n",
       "117268           롯데리아             강원도 원주시 단관길 125"
      ],
      "text/html": "<div>\n<style scoped>\n    .dataframe tbody tr th:only-of-type {\n        vertical-align: middle;\n    }\n\n    .dataframe tbody tr th {\n        vertical-align: top;\n    }\n\n    .dataframe thead th {\n        text-align: right;\n    }\n</style>\n<table border=\"1\" class=\"dataframe\">\n  <thead>\n    <tr style=\"text-align: right;\">\n      <th></th>\n      <th>상호명</th>\n      <th>도로명주소</th>\n    </tr>\n  </thead>\n  <tbody>\n    <tr>\n      <th>23422</th>\n      <td>롯데리아</td>\n      <td>강원도 춘천시 남산면 북한강변길 688</td>\n    </tr>\n    <tr>\n      <th>24208</th>\n      <td>롯데리아</td>\n      <td>강원도 홍천군 홍천읍 홍천로6길 22</td>\n    </tr>\n    <tr>\n      <th>25290</th>\n      <td>롯데리아</td>\n      <td>강원도 강릉시 교동광장로 106</td>\n    </tr>\n    <tr>\n      <th>26924</th>\n      <td>문막휴게소롯데리아</td>\n      <td>강원도 원주시 문막읍 원문로 1234</td>\n    </tr>\n    <tr>\n      <th>31522</th>\n      <td>롯데리아태백태백점</td>\n      <td>강원도 태백시 황지로 194-1</td>\n    </tr>\n    <tr>\n      <th>39100</th>\n      <td>문막휴게소강릉방향롯데리아</td>\n      <td>강원도 원주시 문막읍 원문로 1234</td>\n    </tr>\n    <tr>\n      <th>42843</th>\n      <td>롯데리아</td>\n      <td>강원도 원주시 무실로 178</td>\n    </tr>\n    <tr>\n      <th>45259</th>\n      <td>롯데리아낙산해수욕장점</td>\n      <td>강원도 양양군 강현면 일출로 31-7</td>\n    </tr>\n    <tr>\n      <th>52083</th>\n      <td>롯데리아</td>\n      <td>강원도 속초시 중앙로 128</td>\n    </tr>\n    <tr>\n      <th>55480</th>\n      <td>롯데리아익스프레스점</td>\n      <td>강원도 춘천시 서부대성로57번길 10</td>\n    </tr>\n    <tr>\n      <th>58422</th>\n      <td>현대성우롯데리아점</td>\n      <td>강원도 횡성군 횡성읍 문정로 20</td>\n    </tr>\n    <tr>\n      <th>61552</th>\n      <td>롯데리아</td>\n      <td>강원도 속초시 소평로 162</td>\n    </tr>\n    <tr>\n      <th>63164</th>\n      <td>롯데리아</td>\n      <td>강원도 강릉시 하평2길 11</td>\n    </tr>\n    <tr>\n      <th>64069</th>\n      <td>롯데리아</td>\n      <td>강원도 원주시 치악로 1489</td>\n    </tr>\n    <tr>\n      <th>64077</th>\n      <td>롯데리아</td>\n      <td>강원도 원주시 우산로 72</td>\n    </tr>\n    <tr>\n      <th>64648</th>\n      <td>롯데리아</td>\n      <td>강원도 양구군 양구읍 양록길 99</td>\n    </tr>\n    <tr>\n      <th>65275</th>\n      <td>롯데리아</td>\n      <td>강원도 강릉시 경강로 2106</td>\n    </tr>\n    <tr>\n      <th>65750</th>\n      <td>롯데리아</td>\n      <td>강원도 춘천시 서부대성로 243</td>\n    </tr>\n    <tr>\n      <th>66661</th>\n      <td>롯데리아</td>\n      <td>강원도 홍천군 홍천읍 홍천로6길 24-2</td>\n    </tr>\n    <tr>\n      <th>68260</th>\n      <td>롯데리아</td>\n      <td>강원도 원주시 서원대로 171</td>\n    </tr>\n    <tr>\n      <th>69641</th>\n      <td>롯데리아</td>\n      <td>강원도 화천군 화천읍 중앙로 16-1</td>\n    </tr>\n    <tr>\n      <th>69735</th>\n      <td>롯데리아</td>\n      <td>강원도 정선군 정선읍 병방치길 235</td>\n    </tr>\n    <tr>\n      <th>70821</th>\n      <td>롯데리아</td>\n      <td>강원도 강릉시 주문진읍 주문로 78</td>\n    </tr>\n    <tr>\n      <th>71359</th>\n      <td>롯데리아</td>\n      <td>강원도 원주시 지정면 월송석화로 838</td>\n    </tr>\n    <tr>\n      <th>73761</th>\n      <td>롯데리아문막휴게소강릉방면</td>\n      <td>강원도 원주시 문막읍 원문로 1234</td>\n    </tr>\n    <tr>\n      <th>82542</th>\n      <td>롯데리아고성간성점</td>\n      <td>강원도 고성군 간성읍 간성로 59-1</td>\n    </tr>\n    <tr>\n      <th>90138</th>\n      <td>롯데리아</td>\n      <td>강원도 화천군 화천읍 중앙로4길 13-10</td>\n    </tr>\n    <tr>\n      <th>93197</th>\n      <td>롯데리아혁신도시점</td>\n      <td>강원도 원주시 건강로 17-2</td>\n    </tr>\n    <tr>\n      <th>94516</th>\n      <td>롯데리아</td>\n      <td>강원도 속초시 설악산로 1042</td>\n    </tr>\n    <tr>\n      <th>94585</th>\n      <td>롯데리아경포해수욕장점</td>\n      <td>강원도 강릉시 창해로 441</td>\n    </tr>\n    <tr>\n      <th>96481</th>\n      <td>롯데리아</td>\n      <td>강원도 원주시 단구로 411</td>\n    </tr>\n    <tr>\n      <th>97133</th>\n      <td>롯데리아원주일산점</td>\n      <td>강원도 원주시 천사로 213</td>\n    </tr>\n    <tr>\n      <th>97329</th>\n      <td>롯데리아</td>\n      <td>강원도 인제군 상남면 서울양양고속도로 117</td>\n    </tr>\n    <tr>\n      <th>97357</th>\n      <td>롯데리아</td>\n      <td>강원도 원주시 지정면 오크밸리2길 58</td>\n    </tr>\n    <tr>\n      <th>98035</th>\n      <td>롯데리아</td>\n      <td>강원도 속초시 중앙로 124</td>\n    </tr>\n    <tr>\n      <th>100027</th>\n      <td>롯데리아</td>\n      <td>강원도 춘천시 동면 춘천순환로 600</td>\n    </tr>\n    <tr>\n      <th>101866</th>\n      <td>롯데리아</td>\n      <td>강원도 인제군 상남면 서울양양고속도로 117-2</td>\n    </tr>\n    <tr>\n      <th>101946</th>\n      <td>롯데리아롯데속초리조트</td>\n      <td>강원도 속초시 대포항길 186</td>\n    </tr>\n    <tr>\n      <th>102433</th>\n      <td>롯데리아</td>\n      <td>강원도 속초시 대포항길 186</td>\n    </tr>\n    <tr>\n      <th>107844</th>\n      <td>롯데리아</td>\n      <td>강원도 춘천시 중앙로 33</td>\n    </tr>\n    <tr>\n      <th>110999</th>\n      <td>롯데리아</td>\n      <td>강원도 평창군 대관령면 솔봉로 325</td>\n    </tr>\n    <tr>\n      <th>113229</th>\n      <td>롯데리아</td>\n      <td>강원도 홍천군 서면 한치골길 262</td>\n    </tr>\n    <tr>\n      <th>115763</th>\n      <td>롯데리아</td>\n      <td>강원도 양양군 양양읍 양양로 15-1</td>\n    </tr>\n    <tr>\n      <th>117268</th>\n      <td>롯데리아</td>\n      <td>강원도 원주시 단관길 125</td>\n    </tr>\n  </tbody>\n</table>\n</div>"
     },
     "metadata": {},
     "execution_count": 8
    }
   ],
   "source": [
    "tmp[tmp['상호명'].str.contains('롯데리아') | tmp['상호명'].str.lower().str.contains('lotteria')]"
   ]
  },
  {
   "cell_type": "code",
   "execution_count": 9,
   "metadata": {},
   "outputs": [],
   "source": [
    "file_list = glob('./data/상가정보_202009/상가*.csv')\n",
    "data = []\n",
    "for file_name in file_list:\n",
    "    tmp = pd.read_csv(file_name, sep='|')\n",
    "    tmp = tmp[tmp['상권업종중분류코드'] == 'Q07']\n",
    "    tmp = tmp[['상호명', '지점명', '시도명', '시군구명', '도로명주소']]\n",
    "    data.append(tmp)\n",
    "\n",
    "df = pd.concat(data, ignore_index=True)"
   ]
  },
  {
   "cell_type": "code",
   "execution_count": 10,
   "metadata": {},
   "outputs": [
    {
     "output_type": "execute_result",
     "data": {
      "text/plain": [
       "       상호명  지점명  시도명 시군구명                도로명주소\n",
       "0  버거킹오션월드  NaN  강원도  홍천군  강원도 홍천군 서면 한치골길 262\n",
       "1      로데오  NaN  강원도  강릉시   강원도 강릉시 경강로 2090-1\n",
       "2   왕눈이도넛츠  NaN  강원도  영월군   강원도 영월군 영월읍 삼옥재길 2\n",
       "3  씨지브이원주2  NaN  강원도  원주시     강원도 원주시 서원대로 171\n",
       "4   베스킨라벤스  NaN  강원도  삼척시       강원도 삼척시 진주로 35"
      ],
      "text/html": "<div>\n<style scoped>\n    .dataframe tbody tr th:only-of-type {\n        vertical-align: middle;\n    }\n\n    .dataframe tbody tr th {\n        vertical-align: top;\n    }\n\n    .dataframe thead th {\n        text-align: right;\n    }\n</style>\n<table border=\"1\" class=\"dataframe\">\n  <thead>\n    <tr style=\"text-align: right;\">\n      <th></th>\n      <th>상호명</th>\n      <th>지점명</th>\n      <th>시도명</th>\n      <th>시군구명</th>\n      <th>도로명주소</th>\n    </tr>\n  </thead>\n  <tbody>\n    <tr>\n      <th>0</th>\n      <td>버거킹오션월드</td>\n      <td>NaN</td>\n      <td>강원도</td>\n      <td>홍천군</td>\n      <td>강원도 홍천군 서면 한치골길 262</td>\n    </tr>\n    <tr>\n      <th>1</th>\n      <td>로데오</td>\n      <td>NaN</td>\n      <td>강원도</td>\n      <td>강릉시</td>\n      <td>강원도 강릉시 경강로 2090-1</td>\n    </tr>\n    <tr>\n      <th>2</th>\n      <td>왕눈이도넛츠</td>\n      <td>NaN</td>\n      <td>강원도</td>\n      <td>영월군</td>\n      <td>강원도 영월군 영월읍 삼옥재길 2</td>\n    </tr>\n    <tr>\n      <th>3</th>\n      <td>씨지브이원주2</td>\n      <td>NaN</td>\n      <td>강원도</td>\n      <td>원주시</td>\n      <td>강원도 원주시 서원대로 171</td>\n    </tr>\n    <tr>\n      <th>4</th>\n      <td>베스킨라벤스</td>\n      <td>NaN</td>\n      <td>강원도</td>\n      <td>삼척시</td>\n      <td>강원도 삼척시 진주로 35</td>\n    </tr>\n  </tbody>\n</table>\n</div>"
     },
     "metadata": {},
     "execution_count": 10
    }
   ],
   "source": [
    "df.head()"
   ]
  },
  {
   "cell_type": "code",
   "execution_count": 11,
   "metadata": {},
   "outputs": [
    {
     "output_type": "execute_result",
     "data": {
      "text/plain": [
       "31169"
      ]
     },
     "metadata": {},
     "execution_count": 11
    }
   ],
   "source": [
    "len(df)"
   ]
  },
  {
   "cell_type": "code",
   "execution_count": 12,
   "metadata": {},
   "outputs": [
    {
     "output_type": "execute_result",
     "data": {
      "text/plain": [
       "            상호명        지점명   시도명       시군구명                        도로명주소\n",
       "9085      송프로피자        NaN  경상남도  창원시 마산합포구       경상남도 창원시 마산합포구 남성로 132\n",
       "9105   송유리치킨피자샵        NaN  경상남도  창원시 마산합포구   경상남도 창원시 마산합포구 진북면 지산5길 73\n",
       "9107      건강한음료        NaN  경상남도  창원시 마산합포구      경상남도 창원시 마산합포구 해안대로 234\n",
       "9119         한솥  도시락마산경남대점  경상남도  창원시 마산합포구        경상남도 창원시 마산합포구 고운로 81\n",
       "9167     나나피시카페        NaN  경상남도  창원시 마산합포구       경상남도 창원시 마산합포구 해안대로 11\n",
       "...         ...        ...   ...        ...                          ...\n",
       "10759    토마토도시락      마산현동점  경상남도  창원시 마산합포구       경상남도 창원시 마산합포구 현동6길 18\n",
       "10761       피치랑       신마산점  경상남도  창원시 마산합포구      경상남도 창원시 마산합포구 315대로 77\n",
       "10805     빅스타피자      창원현동점  경상남도  창원시 마산합포구       경상남도 창원시 마산합포구 현동7길 32\n",
       "10825   치킨과바람피자       경남대점  경상남도  창원시 마산합포구       경상남도 창원시 마산합포구 월영동3길 9\n",
       "10874     쌀똑핫도그        NaN  경상남도  창원시 마산합포구  경상남도 창원시 마산합포구 진동면 진북산업로 55\n",
       "\n",
       "[101 rows x 5 columns]"
      ],
      "text/html": "<div>\n<style scoped>\n    .dataframe tbody tr th:only-of-type {\n        vertical-align: middle;\n    }\n\n    .dataframe tbody tr th {\n        vertical-align: top;\n    }\n\n    .dataframe thead th {\n        text-align: right;\n    }\n</style>\n<table border=\"1\" class=\"dataframe\">\n  <thead>\n    <tr style=\"text-align: right;\">\n      <th></th>\n      <th>상호명</th>\n      <th>지점명</th>\n      <th>시도명</th>\n      <th>시군구명</th>\n      <th>도로명주소</th>\n    </tr>\n  </thead>\n  <tbody>\n    <tr>\n      <th>9085</th>\n      <td>송프로피자</td>\n      <td>NaN</td>\n      <td>경상남도</td>\n      <td>창원시 마산합포구</td>\n      <td>경상남도 창원시 마산합포구 남성로 132</td>\n    </tr>\n    <tr>\n      <th>9105</th>\n      <td>송유리치킨피자샵</td>\n      <td>NaN</td>\n      <td>경상남도</td>\n      <td>창원시 마산합포구</td>\n      <td>경상남도 창원시 마산합포구 진북면 지산5길 73</td>\n    </tr>\n    <tr>\n      <th>9107</th>\n      <td>건강한음료</td>\n      <td>NaN</td>\n      <td>경상남도</td>\n      <td>창원시 마산합포구</td>\n      <td>경상남도 창원시 마산합포구 해안대로 234</td>\n    </tr>\n    <tr>\n      <th>9119</th>\n      <td>한솥</td>\n      <td>도시락마산경남대점</td>\n      <td>경상남도</td>\n      <td>창원시 마산합포구</td>\n      <td>경상남도 창원시 마산합포구 고운로 81</td>\n    </tr>\n    <tr>\n      <th>9167</th>\n      <td>나나피시카페</td>\n      <td>NaN</td>\n      <td>경상남도</td>\n      <td>창원시 마산합포구</td>\n      <td>경상남도 창원시 마산합포구 해안대로 11</td>\n    </tr>\n    <tr>\n      <th>...</th>\n      <td>...</td>\n      <td>...</td>\n      <td>...</td>\n      <td>...</td>\n      <td>...</td>\n    </tr>\n    <tr>\n      <th>10759</th>\n      <td>토마토도시락</td>\n      <td>마산현동점</td>\n      <td>경상남도</td>\n      <td>창원시 마산합포구</td>\n      <td>경상남도 창원시 마산합포구 현동6길 18</td>\n    </tr>\n    <tr>\n      <th>10761</th>\n      <td>피치랑</td>\n      <td>신마산점</td>\n      <td>경상남도</td>\n      <td>창원시 마산합포구</td>\n      <td>경상남도 창원시 마산합포구 315대로 77</td>\n    </tr>\n    <tr>\n      <th>10805</th>\n      <td>빅스타피자</td>\n      <td>창원현동점</td>\n      <td>경상남도</td>\n      <td>창원시 마산합포구</td>\n      <td>경상남도 창원시 마산합포구 현동7길 32</td>\n    </tr>\n    <tr>\n      <th>10825</th>\n      <td>치킨과바람피자</td>\n      <td>경남대점</td>\n      <td>경상남도</td>\n      <td>창원시 마산합포구</td>\n      <td>경상남도 창원시 마산합포구 월영동3길 9</td>\n    </tr>\n    <tr>\n      <th>10874</th>\n      <td>쌀똑핫도그</td>\n      <td>NaN</td>\n      <td>경상남도</td>\n      <td>창원시 마산합포구</td>\n      <td>경상남도 창원시 마산합포구 진동면 진북산업로 55</td>\n    </tr>\n  </tbody>\n</table>\n<p>101 rows × 5 columns</p>\n</div>"
     },
     "metadata": {},
     "execution_count": 12
    }
   ],
   "source": [
    "df[df['시군구명'] == '창원시 마산합포구']"
   ]
  },
  {
   "cell_type": "code",
   "execution_count": 13,
   "metadata": {},
   "outputs": [
    {
     "output_type": "execute_result",
     "data": {
      "text/plain": [
       "                상호명      지점명   시도명       시군구명                        도로명주소\n",
       "9030            피자헛    마산내서점  경상남도  창원시 마산회원구  경상남도 창원시 마산회원구 내서읍 경남대로 915\n",
       "9044         씨지브이마산      NaN  경상남도  창원시 마산회원구     경상남도 창원시 마산회원구 315대로 736\n",
       "9063   한국맥도날드창원내DT점      NaN  경상남도  창원시 마산회원구  경상남도 창원시 마산회원구 내서읍 광려천서로 77\n",
       "9073         스태프핫도그      NaN  경상남도  창원시 마산회원구  경상남도 창원시 마산회원구 내서읍 경남대로 927\n",
       "9074          이삭토스트      NaN  경상남도  창원시 마산회원구      경상남도 창원시 마산회원구 구암남14길 5\n",
       "...             ...      ...   ...        ...                          ...\n",
       "10814           버거킹  마산회원FS점  경상남도  창원시 마산회원구     경상남도 창원시 마산회원구 315대로 522\n",
       "10823          롯데리아     북마산점  경상남도  창원시 마산회원구      경상남도 창원시 마산회원구 회원동3길 38\n",
       "10853      피자나라치킨공주      삼계점  경상남도  창원시 마산회원구  경상남도 창원시 마산회원구 내서읍 숲속로 20-3\n",
       "10869         경성꽈배기    창원양덕점  경상남도  창원시 마산회원구        경상남도 창원시 마산회원구 삼호로 80\n",
       "10872      행복한찹쌀꽈배기      NaN  경상남도  창원시 마산회원구      경상남도 창원시 마산회원구 구암서2길 51\n",
       "\n",
       "[143 rows x 5 columns]"
      ],
      "text/html": "<div>\n<style scoped>\n    .dataframe tbody tr th:only-of-type {\n        vertical-align: middle;\n    }\n\n    .dataframe tbody tr th {\n        vertical-align: top;\n    }\n\n    .dataframe thead th {\n        text-align: right;\n    }\n</style>\n<table border=\"1\" class=\"dataframe\">\n  <thead>\n    <tr style=\"text-align: right;\">\n      <th></th>\n      <th>상호명</th>\n      <th>지점명</th>\n      <th>시도명</th>\n      <th>시군구명</th>\n      <th>도로명주소</th>\n    </tr>\n  </thead>\n  <tbody>\n    <tr>\n      <th>9030</th>\n      <td>피자헛</td>\n      <td>마산내서점</td>\n      <td>경상남도</td>\n      <td>창원시 마산회원구</td>\n      <td>경상남도 창원시 마산회원구 내서읍 경남대로 915</td>\n    </tr>\n    <tr>\n      <th>9044</th>\n      <td>씨지브이마산</td>\n      <td>NaN</td>\n      <td>경상남도</td>\n      <td>창원시 마산회원구</td>\n      <td>경상남도 창원시 마산회원구 315대로 736</td>\n    </tr>\n    <tr>\n      <th>9063</th>\n      <td>한국맥도날드창원내DT점</td>\n      <td>NaN</td>\n      <td>경상남도</td>\n      <td>창원시 마산회원구</td>\n      <td>경상남도 창원시 마산회원구 내서읍 광려천서로 77</td>\n    </tr>\n    <tr>\n      <th>9073</th>\n      <td>스태프핫도그</td>\n      <td>NaN</td>\n      <td>경상남도</td>\n      <td>창원시 마산회원구</td>\n      <td>경상남도 창원시 마산회원구 내서읍 경남대로 927</td>\n    </tr>\n    <tr>\n      <th>9074</th>\n      <td>이삭토스트</td>\n      <td>NaN</td>\n      <td>경상남도</td>\n      <td>창원시 마산회원구</td>\n      <td>경상남도 창원시 마산회원구 구암남14길 5</td>\n    </tr>\n    <tr>\n      <th>...</th>\n      <td>...</td>\n      <td>...</td>\n      <td>...</td>\n      <td>...</td>\n      <td>...</td>\n    </tr>\n    <tr>\n      <th>10814</th>\n      <td>버거킹</td>\n      <td>마산회원FS점</td>\n      <td>경상남도</td>\n      <td>창원시 마산회원구</td>\n      <td>경상남도 창원시 마산회원구 315대로 522</td>\n    </tr>\n    <tr>\n      <th>10823</th>\n      <td>롯데리아</td>\n      <td>북마산점</td>\n      <td>경상남도</td>\n      <td>창원시 마산회원구</td>\n      <td>경상남도 창원시 마산회원구 회원동3길 38</td>\n    </tr>\n    <tr>\n      <th>10853</th>\n      <td>피자나라치킨공주</td>\n      <td>삼계점</td>\n      <td>경상남도</td>\n      <td>창원시 마산회원구</td>\n      <td>경상남도 창원시 마산회원구 내서읍 숲속로 20-3</td>\n    </tr>\n    <tr>\n      <th>10869</th>\n      <td>경성꽈배기</td>\n      <td>창원양덕점</td>\n      <td>경상남도</td>\n      <td>창원시 마산회원구</td>\n      <td>경상남도 창원시 마산회원구 삼호로 80</td>\n    </tr>\n    <tr>\n      <th>10872</th>\n      <td>행복한찹쌀꽈배기</td>\n      <td>NaN</td>\n      <td>경상남도</td>\n      <td>창원시 마산회원구</td>\n      <td>경상남도 창원시 마산회원구 구암서2길 51</td>\n    </tr>\n  </tbody>\n</table>\n<p>143 rows × 5 columns</p>\n</div>"
     },
     "metadata": {},
     "execution_count": 13
    }
   ],
   "source": [
    "df[df['시군구명'] == '창원시 마산회원구']"
   ]
  },
  {
   "cell_type": "code",
   "execution_count": 14,
   "metadata": {},
   "outputs": [],
   "source": [
    "si_name = [None] * len(df)\n",
    "tmp_gu_keys = ['수원시', '성남시', '안양시', '안산시', '고양시', '용인시', '청주시', '천안시', '전주시', '포항시', '창원시']\n",
    "tmp_gu_dict = {\n",
    "    '수원':['장안구', '권선구', '팔달구', '영통구'], \n",
    "    '성남':['수정구', '중원구', '분당구'], \n",
    "    '안양':['만안구', '동안구'], \n",
    "    '안산':['상록구', '단원구'], \n",
    "    '고양':['덕양구', '일산동구', '일산서구'], \n",
    "    '용인':['처인구', '기흥구', '수지구'], \n",
    "    '청주':['상당구', '서원구', '흥덕구', '청원구'], \n",
    "    '천안':['동남구', '서북구'], \n",
    "    '전주':['완산구', '덕진구'], \n",
    "    '포항':['남구', '북구'], \n",
    "    '창원':['의창구', '성산구', '진해구', '마산합포구', '마산회원구']\n",
    "}"
   ]
  },
  {
   "cell_type": "code",
   "execution_count": 15,
   "metadata": {},
   "outputs": [],
   "source": [
    "metro_list = ['서울', '부산', '대구', '인천', '대전', '광주', '울산']\n",
    "for i in df.index:\n",
    "    if df['시도명'][i][:2] in metro_list:\n",
    "        if len(df['시군구명'][i]) == 2:\n",
    "            si_name[i] = df['시도명'][i][:2] + ' ' + df['시군구명'][i]\n",
    "        else:\n",
    "            si_name[i] = df['시도명'][i][:2] + ' ' + df['시군구명'][i][:-1]\n",
    "    else:\n",
    "        if ' ' in df['시군구명'][i]:\n",
    "            for key, values in tmp_gu_dict.items():\n",
    "                if df['시군구명'][i].split()[1] in values:\n",
    "                    if len(df['시군구명'][i].split()[1]) == 2:\n",
    "                        si_name[i] = key + ' ' + df['시군구명'][i].split()[1]\n",
    "                    elif df['시군구명'][i] in ['창원시 마산합포구', '창원시 마산회원구']:\n",
    "                        si_name[i] = key + ' ' + df['시군구명'][i].split()[1][2:-1]\n",
    "                    else:\n",
    "                        si_name[i] = key + ' ' + df['시군구명'][i].split()[1][:-1]\n",
    "        else:\n",
    "            if df['시군구명'][i][:-1] == '고성':\n",
    "                if df['시도명'][i] == '강원도':\n",
    "                    si_name[i] = '고성(강원)'\n",
    "                else:\n",
    "                    si_name[i] = '고성(경남)'\n",
    "            else:\n",
    "                si_name[i] = df['시군구명'][i][:-1]"
   ]
  },
  {
   "cell_type": "code",
   "execution_count": 16,
   "metadata": {},
   "outputs": [
    {
     "output_type": "execute_result",
     "data": {
      "text/plain": [
       "       상호명  지점명  시도명 시군구명                도로명주소  ID\n",
       "0  버거킹오션월드  NaN  강원도  홍천군  강원도 홍천군 서면 한치골길 262  홍천\n",
       "1      로데오  NaN  강원도  강릉시   강원도 강릉시 경강로 2090-1  강릉\n",
       "2   왕눈이도넛츠  NaN  강원도  영월군   강원도 영월군 영월읍 삼옥재길 2  영월\n",
       "3  씨지브이원주2  NaN  강원도  원주시     강원도 원주시 서원대로 171  원주\n",
       "4   베스킨라벤스  NaN  강원도  삼척시       강원도 삼척시 진주로 35  삼척"
      ],
      "text/html": "<div>\n<style scoped>\n    .dataframe tbody tr th:only-of-type {\n        vertical-align: middle;\n    }\n\n    .dataframe tbody tr th {\n        vertical-align: top;\n    }\n\n    .dataframe thead th {\n        text-align: right;\n    }\n</style>\n<table border=\"1\" class=\"dataframe\">\n  <thead>\n    <tr style=\"text-align: right;\">\n      <th></th>\n      <th>상호명</th>\n      <th>지점명</th>\n      <th>시도명</th>\n      <th>시군구명</th>\n      <th>도로명주소</th>\n      <th>ID</th>\n    </tr>\n  </thead>\n  <tbody>\n    <tr>\n      <th>0</th>\n      <td>버거킹오션월드</td>\n      <td>NaN</td>\n      <td>강원도</td>\n      <td>홍천군</td>\n      <td>강원도 홍천군 서면 한치골길 262</td>\n      <td>홍천</td>\n    </tr>\n    <tr>\n      <th>1</th>\n      <td>로데오</td>\n      <td>NaN</td>\n      <td>강원도</td>\n      <td>강릉시</td>\n      <td>강원도 강릉시 경강로 2090-1</td>\n      <td>강릉</td>\n    </tr>\n    <tr>\n      <th>2</th>\n      <td>왕눈이도넛츠</td>\n      <td>NaN</td>\n      <td>강원도</td>\n      <td>영월군</td>\n      <td>강원도 영월군 영월읍 삼옥재길 2</td>\n      <td>영월</td>\n    </tr>\n    <tr>\n      <th>3</th>\n      <td>씨지브이원주2</td>\n      <td>NaN</td>\n      <td>강원도</td>\n      <td>원주시</td>\n      <td>강원도 원주시 서원대로 171</td>\n      <td>원주</td>\n    </tr>\n    <tr>\n      <th>4</th>\n      <td>베스킨라벤스</td>\n      <td>NaN</td>\n      <td>강원도</td>\n      <td>삼척시</td>\n      <td>강원도 삼척시 진주로 35</td>\n      <td>삼척</td>\n    </tr>\n  </tbody>\n</table>\n</div>"
     },
     "metadata": {},
     "execution_count": 16
    }
   ],
   "source": [
    "df['ID'] = si_name\n",
    "df.head()"
   ]
  },
  {
   "cell_type": "code",
   "execution_count": 17,
   "metadata": {},
   "outputs": [
    {
     "output_type": "execute_result",
     "data": {
      "text/plain": [
       "                  상호명    지점명   시도명       시군구명                        도로명주소  \\\n",
       "9019            호야네식당    NaN  경상남도    창원시 성산구         경상남도 창원시 성산구 중앙대로 77   \n",
       "9022               마듀    화천점  경상남도    창원시 진해구      경상남도 창원시 진해구 중원로86번길 19   \n",
       "9028   한국맥도날드진해자은D/T점    NaN  경상남도    창원시 진해구        경상남도 창원시 진해구 진해대로 950   \n",
       "9029           봉구스밥버거    NaN  경상남도    창원시 의창구         경상남도 창원시 의창구 반계로 101   \n",
       "9030              피자헛  마산내서점  경상남도  창원시 마산회원구  경상남도 창원시 마산회원구 내서읍 경남대로 915   \n",
       "...               ...    ...   ...        ...                          ...   \n",
       "10872        행복한찹쌀꽈배기    NaN  경상남도  창원시 마산회원구      경상남도 창원시 마산회원구 구암서2길 51   \n",
       "10874           쌀똑핫도그    NaN  경상남도  창원시 마산합포구  경상남도 창원시 마산합포구 진동면 진북산업로 55   \n",
       "10877           마미꽈배기    NaN  경상남도    창원시 의창구     경상남도 창원시 의창구 북면 천주로 1088   \n",
       "10878          엘리펀트피자   신월동점  경상남도    창원시 의창구        경상남도 창원시 의창구 신사로 83-1   \n",
       "10879         마미찹쌀꽈배기    NaN  경상남도    창원시 성산구    경상남도 창원시 성산구 반지로16번길 17-9   \n",
       "\n",
       "          ID  \n",
       "9019   창원 성산  \n",
       "9022   창원 진해  \n",
       "9028   창원 진해  \n",
       "9029   창원 의창  \n",
       "9030   창원 회원  \n",
       "...      ...  \n",
       "10872  창원 회원  \n",
       "10874  창원 합포  \n",
       "10877  창원 의창  \n",
       "10878  창원 의창  \n",
       "10879  창원 성산  \n",
       "\n",
       "[694 rows x 6 columns]"
      ],
      "text/html": "<div>\n<style scoped>\n    .dataframe tbody tr th:only-of-type {\n        vertical-align: middle;\n    }\n\n    .dataframe tbody tr th {\n        vertical-align: top;\n    }\n\n    .dataframe thead th {\n        text-align: right;\n    }\n</style>\n<table border=\"1\" class=\"dataframe\">\n  <thead>\n    <tr style=\"text-align: right;\">\n      <th></th>\n      <th>상호명</th>\n      <th>지점명</th>\n      <th>시도명</th>\n      <th>시군구명</th>\n      <th>도로명주소</th>\n      <th>ID</th>\n    </tr>\n  </thead>\n  <tbody>\n    <tr>\n      <th>9019</th>\n      <td>호야네식당</td>\n      <td>NaN</td>\n      <td>경상남도</td>\n      <td>창원시 성산구</td>\n      <td>경상남도 창원시 성산구 중앙대로 77</td>\n      <td>창원 성산</td>\n    </tr>\n    <tr>\n      <th>9022</th>\n      <td>마듀</td>\n      <td>화천점</td>\n      <td>경상남도</td>\n      <td>창원시 진해구</td>\n      <td>경상남도 창원시 진해구 중원로86번길 19</td>\n      <td>창원 진해</td>\n    </tr>\n    <tr>\n      <th>9028</th>\n      <td>한국맥도날드진해자은D/T점</td>\n      <td>NaN</td>\n      <td>경상남도</td>\n      <td>창원시 진해구</td>\n      <td>경상남도 창원시 진해구 진해대로 950</td>\n      <td>창원 진해</td>\n    </tr>\n    <tr>\n      <th>9029</th>\n      <td>봉구스밥버거</td>\n      <td>NaN</td>\n      <td>경상남도</td>\n      <td>창원시 의창구</td>\n      <td>경상남도 창원시 의창구 반계로 101</td>\n      <td>창원 의창</td>\n    </tr>\n    <tr>\n      <th>9030</th>\n      <td>피자헛</td>\n      <td>마산내서점</td>\n      <td>경상남도</td>\n      <td>창원시 마산회원구</td>\n      <td>경상남도 창원시 마산회원구 내서읍 경남대로 915</td>\n      <td>창원 회원</td>\n    </tr>\n    <tr>\n      <th>...</th>\n      <td>...</td>\n      <td>...</td>\n      <td>...</td>\n      <td>...</td>\n      <td>...</td>\n      <td>...</td>\n    </tr>\n    <tr>\n      <th>10872</th>\n      <td>행복한찹쌀꽈배기</td>\n      <td>NaN</td>\n      <td>경상남도</td>\n      <td>창원시 마산회원구</td>\n      <td>경상남도 창원시 마산회원구 구암서2길 51</td>\n      <td>창원 회원</td>\n    </tr>\n    <tr>\n      <th>10874</th>\n      <td>쌀똑핫도그</td>\n      <td>NaN</td>\n      <td>경상남도</td>\n      <td>창원시 마산합포구</td>\n      <td>경상남도 창원시 마산합포구 진동면 진북산업로 55</td>\n      <td>창원 합포</td>\n    </tr>\n    <tr>\n      <th>10877</th>\n      <td>마미꽈배기</td>\n      <td>NaN</td>\n      <td>경상남도</td>\n      <td>창원시 의창구</td>\n      <td>경상남도 창원시 의창구 북면 천주로 1088</td>\n      <td>창원 의창</td>\n    </tr>\n    <tr>\n      <th>10878</th>\n      <td>엘리펀트피자</td>\n      <td>신월동점</td>\n      <td>경상남도</td>\n      <td>창원시 의창구</td>\n      <td>경상남도 창원시 의창구 신사로 83-1</td>\n      <td>창원 의창</td>\n    </tr>\n    <tr>\n      <th>10879</th>\n      <td>마미찹쌀꽈배기</td>\n      <td>NaN</td>\n      <td>경상남도</td>\n      <td>창원시 성산구</td>\n      <td>경상남도 창원시 성산구 반지로16번길 17-9</td>\n      <td>창원 성산</td>\n    </tr>\n  </tbody>\n</table>\n<p>694 rows × 6 columns</p>\n</div>"
     },
     "metadata": {},
     "execution_count": 17
    }
   ],
   "source": [
    "df[df['시군구명'].str.contains('창원')]"
   ]
  },
  {
   "cell_type": "code",
   "execution_count": 18,
   "metadata": {},
   "outputs": [],
   "source": [
    "bk_con = df['상호명'].str.contains('버거킹') | df['상호명'].str.lower().str.contains('burgerking')\n",
    "mc_con = df['상호명'].str.contains('맥도날드') | df['상호명'].str.lower().str.contains('mcdonalds')\n",
    "kfc_con = df['상호명'].str.contains('케이에프씨') | df['상호명'].str.lower().str.contains('kfc')\n",
    "ria_con = df['상호명'].str.contains('롯데리아') | df['상호명'].str.lower().str.contains('lotteria')"
   ]
  },
  {
   "cell_type": "code",
   "execution_count": 19,
   "metadata": {},
   "outputs": [],
   "source": [
    "bk = df[bk_con]\n",
    "mc = df[mc_con]\n",
    "kfc = df[kfc_con]\n",
    "ria = df[ria_con]"
   ]
  },
  {
   "cell_type": "code",
   "execution_count": 20,
   "metadata": {},
   "outputs": [
    {
     "output_type": "execute_result",
     "data": {
      "text/plain": [
       "(451, 655, 213, 1123)"
      ]
     },
     "metadata": {},
     "execution_count": 20
    }
   ],
   "source": [
    "len(bk), len(mc), len(kfc), len(ria)"
   ]
  },
  {
   "cell_type": "code",
   "execution_count": 21,
   "metadata": {},
   "outputs": [],
   "source": [
    "new_bk = bk.groupby('ID')[['상호명']].count()\n",
    "new_mc = mc.groupby('ID')[['상호명']].count()\n",
    "new_kfc = kfc.groupby('ID')[['상호명']].count()\n",
    "new_ria = ria.groupby('ID')[['상호명']].count()"
   ]
  },
  {
   "cell_type": "code",
   "execution_count": 22,
   "metadata": {},
   "outputs": [
    {
     "output_type": "execute_result",
     "data": {
      "text/plain": [
       "       상호명\n",
       "ID        \n",
       "강릉       1\n",
       "거제       4\n",
       "경산       4\n",
       "경주       1\n",
       "고양 덕양    3\n",
       "...    ...\n",
       "포항 북구    2\n",
       "하남       2\n",
       "홍성       1\n",
       "홍천       4\n",
       "화성       5\n",
       "\n",
       "[136 rows x 1 columns]"
      ],
      "text/html": "<div>\n<style scoped>\n    .dataframe tbody tr th:only-of-type {\n        vertical-align: middle;\n    }\n\n    .dataframe tbody tr th {\n        vertical-align: top;\n    }\n\n    .dataframe thead th {\n        text-align: right;\n    }\n</style>\n<table border=\"1\" class=\"dataframe\">\n  <thead>\n    <tr style=\"text-align: right;\">\n      <th></th>\n      <th>상호명</th>\n    </tr>\n    <tr>\n      <th>ID</th>\n      <th></th>\n    </tr>\n  </thead>\n  <tbody>\n    <tr>\n      <th>강릉</th>\n      <td>1</td>\n    </tr>\n    <tr>\n      <th>거제</th>\n      <td>4</td>\n    </tr>\n    <tr>\n      <th>경산</th>\n      <td>4</td>\n    </tr>\n    <tr>\n      <th>경주</th>\n      <td>1</td>\n    </tr>\n    <tr>\n      <th>고양 덕양</th>\n      <td>3</td>\n    </tr>\n    <tr>\n      <th>...</th>\n      <td>...</td>\n    </tr>\n    <tr>\n      <th>포항 북구</th>\n      <td>2</td>\n    </tr>\n    <tr>\n      <th>하남</th>\n      <td>2</td>\n    </tr>\n    <tr>\n      <th>홍성</th>\n      <td>1</td>\n    </tr>\n    <tr>\n      <th>홍천</th>\n      <td>4</td>\n    </tr>\n    <tr>\n      <th>화성</th>\n      <td>5</td>\n    </tr>\n  </tbody>\n</table>\n<p>136 rows × 1 columns</p>\n</div>"
     },
     "metadata": {},
     "execution_count": 22
    }
   ],
   "source": [
    "new_bk"
   ]
  },
  {
   "cell_type": "code",
   "execution_count": 23,
   "metadata": {},
   "outputs": [],
   "source": [
    "new_bk.rename(columns={'상호명': '버거킹 매장수'}, inplace=True)\n",
    "new_mc.rename(columns={'상호명': '맥도날드 매장수'}, inplace=True)\n",
    "new_kfc.rename(columns={'상호명': 'KFC 매장수'}, inplace=True)\n",
    "new_ria.rename(columns={'상호명': '롯데리아 매장수'}, inplace=True)"
   ]
  },
  {
   "cell_type": "code",
   "execution_count": 24,
   "metadata": {},
   "outputs": [
    {
     "output_type": "execute_result",
     "data": {
      "text/plain": [
       "       버거킹 매장수  맥도날드 매장수  KFC 매장수  롯데리아 매장수\n",
       "강릉         1.0       1.0      0.0       5.0\n",
       "거제         4.0       3.0      0.0       4.0\n",
       "경산         4.0       0.0      2.0       8.0\n",
       "경주         1.0       4.0      1.0       8.0\n",
       "고양 덕양      3.0       8.0      2.0       9.0\n",
       "...        ...       ...      ...       ...\n",
       "태백         0.0       0.0      0.0       1.0\n",
       "평창         0.0       0.0      0.0       1.0\n",
       "하동         0.0       0.0      0.0       1.0\n",
       "함평         0.0       0.0      0.0       1.0\n",
       "화천         0.0       0.0      0.0       2.0\n",
       "\n",
       "[223 rows x 4 columns]"
      ],
      "text/html": "<div>\n<style scoped>\n    .dataframe tbody tr th:only-of-type {\n        vertical-align: middle;\n    }\n\n    .dataframe tbody tr th {\n        vertical-align: top;\n    }\n\n    .dataframe thead th {\n        text-align: right;\n    }\n</style>\n<table border=\"1\" class=\"dataframe\">\n  <thead>\n    <tr style=\"text-align: right;\">\n      <th></th>\n      <th>버거킹 매장수</th>\n      <th>맥도날드 매장수</th>\n      <th>KFC 매장수</th>\n      <th>롯데리아 매장수</th>\n    </tr>\n  </thead>\n  <tbody>\n    <tr>\n      <th>강릉</th>\n      <td>1.0</td>\n      <td>1.0</td>\n      <td>0.0</td>\n      <td>5.0</td>\n    </tr>\n    <tr>\n      <th>거제</th>\n      <td>4.0</td>\n      <td>3.0</td>\n      <td>0.0</td>\n      <td>4.0</td>\n    </tr>\n    <tr>\n      <th>경산</th>\n      <td>4.0</td>\n      <td>0.0</td>\n      <td>2.0</td>\n      <td>8.0</td>\n    </tr>\n    <tr>\n      <th>경주</th>\n      <td>1.0</td>\n      <td>4.0</td>\n      <td>1.0</td>\n      <td>8.0</td>\n    </tr>\n    <tr>\n      <th>고양 덕양</th>\n      <td>3.0</td>\n      <td>8.0</td>\n      <td>2.0</td>\n      <td>9.0</td>\n    </tr>\n    <tr>\n      <th>...</th>\n      <td>...</td>\n      <td>...</td>\n      <td>...</td>\n      <td>...</td>\n    </tr>\n    <tr>\n      <th>태백</th>\n      <td>0.0</td>\n      <td>0.0</td>\n      <td>0.0</td>\n      <td>1.0</td>\n    </tr>\n    <tr>\n      <th>평창</th>\n      <td>0.0</td>\n      <td>0.0</td>\n      <td>0.0</td>\n      <td>1.0</td>\n    </tr>\n    <tr>\n      <th>하동</th>\n      <td>0.0</td>\n      <td>0.0</td>\n      <td>0.0</td>\n      <td>1.0</td>\n    </tr>\n    <tr>\n      <th>함평</th>\n      <td>0.0</td>\n      <td>0.0</td>\n      <td>0.0</td>\n      <td>1.0</td>\n    </tr>\n    <tr>\n      <th>화천</th>\n      <td>0.0</td>\n      <td>0.0</td>\n      <td>0.0</td>\n      <td>2.0</td>\n    </tr>\n  </tbody>\n</table>\n<p>223 rows × 4 columns</p>\n</div>"
     },
     "metadata": {},
     "execution_count": 24
    }
   ],
   "source": [
    "burger = new_bk.join([new_mc, new_kfc, new_ria], how='outer')\n",
    "burger.fillna(0.0, inplace=True)\n",
    "burger"
   ]
  },
  {
   "cell_type": "code",
   "execution_count": 25,
   "metadata": {},
   "outputs": [
    {
     "output_type": "stream",
     "name": "stdout",
     "text": [
      "<class 'pandas.core.frame.DataFrame'>\nIndex: 223 entries, 강릉 to 화천\nData columns (total 4 columns):\n #   Column    Non-Null Count  Dtype\n---  ------    --------------  -----\n 0   버거킹 매장수   223 non-null    int32\n 1   맥도날드 매장수  223 non-null    int32\n 2   KFC 매장수   223 non-null    int32\n 3   롯데리아 매장수  223 non-null    int32\ndtypes: int32(4)\nmemory usage: 5.2+ KB\n"
     ]
    }
   ],
   "source": [
    "burger = burger.astype('int')\n",
    "burger.info()"
   ]
  },
  {
   "cell_type": "code",
   "execution_count": 26,
   "metadata": {},
   "outputs": [
    {
     "output_type": "execute_result",
     "data": {
      "text/plain": [
       "       버거킹 매장수  맥도날드 매장수  KFC 매장수  롯데리아 매장수  버거 지수\n",
       "강릉           1         1        0         5   0.40\n",
       "거제           4         3        0         4   1.75\n",
       "경산           4         0        2         8   0.75\n",
       "경주           1         4        1         8   0.75\n",
       "고양 덕양        3         8        2         9   1.44\n",
       "...        ...       ...      ...       ...    ...\n",
       "태백           0         0        0         1   0.00\n",
       "평창           0         0        0         1   0.00\n",
       "하동           0         0        0         1   0.00\n",
       "함평           0         0        0         1   0.00\n",
       "화천           0         0        0         2   0.00\n",
       "\n",
       "[223 rows x 5 columns]"
      ],
      "text/html": "<div>\n<style scoped>\n    .dataframe tbody tr th:only-of-type {\n        vertical-align: middle;\n    }\n\n    .dataframe tbody tr th {\n        vertical-align: top;\n    }\n\n    .dataframe thead th {\n        text-align: right;\n    }\n</style>\n<table border=\"1\" class=\"dataframe\">\n  <thead>\n    <tr style=\"text-align: right;\">\n      <th></th>\n      <th>버거킹 매장수</th>\n      <th>맥도날드 매장수</th>\n      <th>KFC 매장수</th>\n      <th>롯데리아 매장수</th>\n      <th>버거 지수</th>\n    </tr>\n  </thead>\n  <tbody>\n    <tr>\n      <th>강릉</th>\n      <td>1</td>\n      <td>1</td>\n      <td>0</td>\n      <td>5</td>\n      <td>0.40</td>\n    </tr>\n    <tr>\n      <th>거제</th>\n      <td>4</td>\n      <td>3</td>\n      <td>0</td>\n      <td>4</td>\n      <td>1.75</td>\n    </tr>\n    <tr>\n      <th>경산</th>\n      <td>4</td>\n      <td>0</td>\n      <td>2</td>\n      <td>8</td>\n      <td>0.75</td>\n    </tr>\n    <tr>\n      <th>경주</th>\n      <td>1</td>\n      <td>4</td>\n      <td>1</td>\n      <td>8</td>\n      <td>0.75</td>\n    </tr>\n    <tr>\n      <th>고양 덕양</th>\n      <td>3</td>\n      <td>8</td>\n      <td>2</td>\n      <td>9</td>\n      <td>1.44</td>\n    </tr>\n    <tr>\n      <th>...</th>\n      <td>...</td>\n      <td>...</td>\n      <td>...</td>\n      <td>...</td>\n      <td>...</td>\n    </tr>\n    <tr>\n      <th>태백</th>\n      <td>0</td>\n      <td>0</td>\n      <td>0</td>\n      <td>1</td>\n      <td>0.00</td>\n    </tr>\n    <tr>\n      <th>평창</th>\n      <td>0</td>\n      <td>0</td>\n      <td>0</td>\n      <td>1</td>\n      <td>0.00</td>\n    </tr>\n    <tr>\n      <th>하동</th>\n      <td>0</td>\n      <td>0</td>\n      <td>0</td>\n      <td>1</td>\n      <td>0.00</td>\n    </tr>\n    <tr>\n      <th>함평</th>\n      <td>0</td>\n      <td>0</td>\n      <td>0</td>\n      <td>1</td>\n      <td>0.00</td>\n    </tr>\n    <tr>\n      <th>화천</th>\n      <td>0</td>\n      <td>0</td>\n      <td>0</td>\n      <td>2</td>\n      <td>0.00</td>\n    </tr>\n  </tbody>\n</table>\n<p>223 rows × 5 columns</p>\n</div>"
     },
     "metadata": {},
     "execution_count": 26
    }
   ],
   "source": [
    "burger['버거 지수'] = round((burger['버거킹 매장수'] + burger['맥도날드 매장수'] + burger['KFC 매장수']) / burger['롯데리아 매장수'], 2)\n",
    "burger"
   ]
  },
  {
   "cell_type": "code",
   "execution_count": 27,
   "metadata": {},
   "outputs": [
    {
     "output_type": "execute_result",
     "data": {
      "text/plain": [
       "       버거킹 매장수  맥도날드 매장수  KFC 매장수  롯데리아 매장수  버거 지수\n",
       "진천           1         0        0         0    inf\n",
       "창원 합포        1         2        0         0    inf\n",
       "동해           0         3        1         0    inf\n",
       "밀양           0         2        0         0    inf\n",
       "통영           0         2        0         0    inf"
      ],
      "text/html": "<div>\n<style scoped>\n    .dataframe tbody tr th:only-of-type {\n        vertical-align: middle;\n    }\n\n    .dataframe tbody tr th {\n        vertical-align: top;\n    }\n\n    .dataframe thead th {\n        text-align: right;\n    }\n</style>\n<table border=\"1\" class=\"dataframe\">\n  <thead>\n    <tr style=\"text-align: right;\">\n      <th></th>\n      <th>버거킹 매장수</th>\n      <th>맥도날드 매장수</th>\n      <th>KFC 매장수</th>\n      <th>롯데리아 매장수</th>\n      <th>버거 지수</th>\n    </tr>\n  </thead>\n  <tbody>\n    <tr>\n      <th>진천</th>\n      <td>1</td>\n      <td>0</td>\n      <td>0</td>\n      <td>0</td>\n      <td>inf</td>\n    </tr>\n    <tr>\n      <th>창원 합포</th>\n      <td>1</td>\n      <td>2</td>\n      <td>0</td>\n      <td>0</td>\n      <td>inf</td>\n    </tr>\n    <tr>\n      <th>동해</th>\n      <td>0</td>\n      <td>3</td>\n      <td>1</td>\n      <td>0</td>\n      <td>inf</td>\n    </tr>\n    <tr>\n      <th>밀양</th>\n      <td>0</td>\n      <td>2</td>\n      <td>0</td>\n      <td>0</td>\n      <td>inf</td>\n    </tr>\n    <tr>\n      <th>통영</th>\n      <td>0</td>\n      <td>2</td>\n      <td>0</td>\n      <td>0</td>\n      <td>inf</td>\n    </tr>\n  </tbody>\n</table>\n</div>"
     },
     "metadata": {},
     "execution_count": 27
    }
   ],
   "source": [
    "burger[burger['버거 지수'] == np.inf]"
   ]
  },
  {
   "cell_type": "code",
   "execution_count": 28,
   "metadata": {},
   "outputs": [],
   "source": [
    "for i in burger[burger['버거 지수'] == np.inf].index:\n",
    "    burger['버거 지수'][i] = 0"
   ]
  },
  {
   "cell_type": "code",
   "execution_count": 29,
   "metadata": {},
   "outputs": [
    {
     "output_type": "execute_result",
     "data": {
      "text/plain": [
       "       버거킹 매장수  맥도날드 매장수  KFC 매장수  롯데리아 매장수  버거 지수\n",
       "진천           1         0        0         0    0.0\n",
       "창원 합포        1         2        0         0    0.0\n",
       "동해           0         3        1         0    0.0\n",
       "밀양           0         2        0         0    0.0\n",
       "통영           0         2        0         0    0.0"
      ],
      "text/html": "<div>\n<style scoped>\n    .dataframe tbody tr th:only-of-type {\n        vertical-align: middle;\n    }\n\n    .dataframe tbody tr th {\n        vertical-align: top;\n    }\n\n    .dataframe thead th {\n        text-align: right;\n    }\n</style>\n<table border=\"1\" class=\"dataframe\">\n  <thead>\n    <tr style=\"text-align: right;\">\n      <th></th>\n      <th>버거킹 매장수</th>\n      <th>맥도날드 매장수</th>\n      <th>KFC 매장수</th>\n      <th>롯데리아 매장수</th>\n      <th>버거 지수</th>\n    </tr>\n  </thead>\n  <tbody>\n    <tr>\n      <th>진천</th>\n      <td>1</td>\n      <td>0</td>\n      <td>0</td>\n      <td>0</td>\n      <td>0.0</td>\n    </tr>\n    <tr>\n      <th>창원 합포</th>\n      <td>1</td>\n      <td>2</td>\n      <td>0</td>\n      <td>0</td>\n      <td>0.0</td>\n    </tr>\n    <tr>\n      <th>동해</th>\n      <td>0</td>\n      <td>3</td>\n      <td>1</td>\n      <td>0</td>\n      <td>0.0</td>\n    </tr>\n    <tr>\n      <th>밀양</th>\n      <td>0</td>\n      <td>2</td>\n      <td>0</td>\n      <td>0</td>\n      <td>0.0</td>\n    </tr>\n    <tr>\n      <th>통영</th>\n      <td>0</td>\n      <td>2</td>\n      <td>0</td>\n      <td>0</td>\n      <td>0.0</td>\n    </tr>\n  </tbody>\n</table>\n</div>"
     },
     "metadata": {},
     "execution_count": 29
    }
   ],
   "source": [
    "burger.loc[['진천', '창원 합포', '동해', '밀양', '통영']]"
   ]
  },
  {
   "cell_type": "code",
   "execution_count": 30,
   "metadata": {},
   "outputs": [],
   "source": [
    "burger.reset_index(inplace=True)"
   ]
  },
  {
   "cell_type": "code",
   "execution_count": 32,
   "metadata": {},
   "outputs": [],
   "source": [
    "burger.rename(columns={'index': 'ID'}, inplace=True)"
   ]
  },
  {
   "cell_type": "code",
   "execution_count": 33,
   "metadata": {},
   "outputs": [
    {
     "output_type": "execute_result",
     "data": {
      "text/plain": [
       "        ID  버거킹 매장수  맥도날드 매장수  KFC 매장수  롯데리아 매장수  버거 지수\n",
       "0       강릉        1         1        0         5   0.40\n",
       "1       거제        4         3        0         4   1.75\n",
       "2       경산        4         0        2         8   0.75\n",
       "3       경주        1         4        1         8   0.75\n",
       "4    고양 덕양        3         8        2         9   1.44\n",
       "..     ...      ...       ...      ...       ...    ...\n",
       "218     태백        0         0        0         1   0.00\n",
       "219     평창        0         0        0         1   0.00\n",
       "220     하동        0         0        0         1   0.00\n",
       "221     함평        0         0        0         1   0.00\n",
       "222     화천        0         0        0         2   0.00\n",
       "\n",
       "[223 rows x 6 columns]"
      ],
      "text/html": "<div>\n<style scoped>\n    .dataframe tbody tr th:only-of-type {\n        vertical-align: middle;\n    }\n\n    .dataframe tbody tr th {\n        vertical-align: top;\n    }\n\n    .dataframe thead th {\n        text-align: right;\n    }\n</style>\n<table border=\"1\" class=\"dataframe\">\n  <thead>\n    <tr style=\"text-align: right;\">\n      <th></th>\n      <th>ID</th>\n      <th>버거킹 매장수</th>\n      <th>맥도날드 매장수</th>\n      <th>KFC 매장수</th>\n      <th>롯데리아 매장수</th>\n      <th>버거 지수</th>\n    </tr>\n  </thead>\n  <tbody>\n    <tr>\n      <th>0</th>\n      <td>강릉</td>\n      <td>1</td>\n      <td>1</td>\n      <td>0</td>\n      <td>5</td>\n      <td>0.40</td>\n    </tr>\n    <tr>\n      <th>1</th>\n      <td>거제</td>\n      <td>4</td>\n      <td>3</td>\n      <td>0</td>\n      <td>4</td>\n      <td>1.75</td>\n    </tr>\n    <tr>\n      <th>2</th>\n      <td>경산</td>\n      <td>4</td>\n      <td>0</td>\n      <td>2</td>\n      <td>8</td>\n      <td>0.75</td>\n    </tr>\n    <tr>\n      <th>3</th>\n      <td>경주</td>\n      <td>1</td>\n      <td>4</td>\n      <td>1</td>\n      <td>8</td>\n      <td>0.75</td>\n    </tr>\n    <tr>\n      <th>4</th>\n      <td>고양 덕양</td>\n      <td>3</td>\n      <td>8</td>\n      <td>2</td>\n      <td>9</td>\n      <td>1.44</td>\n    </tr>\n    <tr>\n      <th>...</th>\n      <td>...</td>\n      <td>...</td>\n      <td>...</td>\n      <td>...</td>\n      <td>...</td>\n      <td>...</td>\n    </tr>\n    <tr>\n      <th>218</th>\n      <td>태백</td>\n      <td>0</td>\n      <td>0</td>\n      <td>0</td>\n      <td>1</td>\n      <td>0.00</td>\n    </tr>\n    <tr>\n      <th>219</th>\n      <td>평창</td>\n      <td>0</td>\n      <td>0</td>\n      <td>0</td>\n      <td>1</td>\n      <td>0.00</td>\n    </tr>\n    <tr>\n      <th>220</th>\n      <td>하동</td>\n      <td>0</td>\n      <td>0</td>\n      <td>0</td>\n      <td>1</td>\n      <td>0.00</td>\n    </tr>\n    <tr>\n      <th>221</th>\n      <td>함평</td>\n      <td>0</td>\n      <td>0</td>\n      <td>0</td>\n      <td>1</td>\n      <td>0.00</td>\n    </tr>\n    <tr>\n      <th>222</th>\n      <td>화천</td>\n      <td>0</td>\n      <td>0</td>\n      <td>0</td>\n      <td>2</td>\n      <td>0.00</td>\n    </tr>\n  </tbody>\n</table>\n<p>223 rows × 6 columns</p>\n</div>"
     },
     "metadata": {},
     "execution_count": 33
    }
   ],
   "source": [
    "burger"
   ]
  },
  {
   "cell_type": "code",
   "execution_count": 34,
   "metadata": {},
   "outputs": [
    {
     "output_type": "execute_result",
     "data": {
      "text/plain": [
       "       0      1       2       3       4       5      6       7      8      9   \\\n",
       "0     NaN    NaN     NaN     NaN     NaN     NaN    NaN      철원     화천     양구   \n",
       "1     NaN    NaN     NaN      양주     동두천      연천     포천     의정부     인제     춘천   \n",
       "2     NaN    NaN     NaN      파주  고양 일산동   서울 도봉  서울 노원     남양주     홍천     횡성   \n",
       "3     NaN    NaN     NaN  고양 일산서   고양 덕양   서울 강북  서울 성북      가평     구리     하남   \n",
       "4     NaN    NaN      김포   안양 만안      광명  서울 서대문  서울 종로  서울 동대문  서울 중랑     양평   \n",
       "5     NaN  인천 강화      부천   안양 동안   서울 은평   서울 마포  서울 중구   서울 성동  서울 강동     여주   \n",
       "6     NaN  인천 서구   인천 동구      시흥   서울 강서   서울 동작  서울 용산   서울 광진  서울 송파     이천   \n",
       "7     NaN    NaN   인천 계양   안산 상록   서울 양천   서울 관악  서울 서초      과천  성남 중원     광주   \n",
       "8     NaN    NaN   인천 부평   안산 단원  서울 영등포   서울 금천  서울 강남   성남 분당  성남 수정  용인 수지   \n",
       "9     NaN  인천 중구  인천 미추홀      화성   서울 구로      군포     의왕   수원 영통  용인 기흥  용인 처인   \n",
       "10  인천 옹진  인천 연수   인천 남동      오산      안성   수원 권선  수원 장안      제천     예천     영주   \n",
       "11     태안     아산   천안 동남   천안 서북      평택      음성  수원 팔달      단양     상주     김천   \n",
       "12    NaN     당진      홍성      예산      공주      진천     충주   청주 흥덕     괴산     칠곡   \n",
       "13    NaN     서산      보령      청양      세종   대전 대덕     증평   청주 청원     보은     고령   \n",
       "14    NaN    NaN      부여      논산      계룡   대전 동구  청주 상당   청주 서원  대구 북구  대구 중구   \n",
       "15    NaN    NaN      서천      금산   대전 유성   대전 중구     옥천      영동  대구 서구  대구 남구   \n",
       "16    NaN    NaN      군산      익산   대전 서구      무주     거창      합천  대구 달서  대구 달성   \n",
       "17    NaN    NaN      부안      김제      완주      장수     함양      창녕     밀양  부산 북구   \n",
       "18    NaN     고창      정읍   전주 덕진      진안      남원     진주      의령  부산 강서  부산 사상   \n",
       "19    NaN     영광      장성   전주 완산      임실      산청     함안      양산  창원 합포  부산 서구   \n",
       "20    NaN     함평      담양      순창      구례      하동  창원 의창   창원 성산  창원 진해     김해   \n",
       "21     신안     무안   광주 광산      곡성      화순      광양     사천   창원 회원     통영    NaN   \n",
       "22     목포     나주   광주 서구   광주 북구      순천      고흥     남해  고성(경남)     거제    NaN   \n",
       "23     해남     영암   광주 남구   광주 동구      여수     NaN    NaN     NaN    NaN    NaN   \n",
       "24     진도     강진      장흥      보성     NaN     NaN    NaN     NaN    NaN    NaN   \n",
       "25    NaN    NaN      완도     NaN     NaN      제주    NaN     NaN    NaN    NaN   \n",
       "26    NaN    NaN     NaN     NaN     NaN     서귀포    NaN     NaN    NaN    NaN   \n",
       "\n",
       "        10     11      12   13  \n",
       "0   고성(강원)    NaN     NaN  NaN  \n",
       "1       속초    NaN     NaN  NaN  \n",
       "2       양양    NaN     NaN  NaN  \n",
       "3       정선     강릉     NaN  NaN  \n",
       "4       태백     동해     NaN  NaN  \n",
       "5       원주     삼척     NaN  NaN  \n",
       "6       평창     울진     NaN  NaN  \n",
       "7       영월     영덕     NaN  NaN  \n",
       "8       문경     봉화     NaN   울릉  \n",
       "9       안동     영양     NaN  NaN  \n",
       "10      구미     청송   포항 북구  NaN  \n",
       "11      군위     의성   포항 남구  NaN  \n",
       "12      영천     경산      경주  NaN  \n",
       "13      청도     성주   울산 북구  NaN  \n",
       "14   대구 수성  울산 울주   울산 동구  NaN  \n",
       "15   대구 동구  울산 중구   울산 남구  NaN  \n",
       "16   부산 금정  부산 동래   부산 기장  NaN  \n",
       "17  부산 부산진  부산 연제  부산 해운대  NaN  \n",
       "18   부산 동구  부산 중구     NaN  NaN  \n",
       "19   부산 사하  부산 남구     NaN  NaN  \n",
       "20   부산 영도  부산 수영     NaN  NaN  \n",
       "21     NaN    NaN     NaN  NaN  \n",
       "22     NaN    NaN     NaN  NaN  \n",
       "23     NaN    NaN     NaN  NaN  \n",
       "24     NaN    NaN     NaN  NaN  \n",
       "25     NaN    NaN     NaN  NaN  \n",
       "26     NaN    NaN     NaN  NaN  "
      ],
      "text/html": "<div>\n<style scoped>\n    .dataframe tbody tr th:only-of-type {\n        vertical-align: middle;\n    }\n\n    .dataframe tbody tr th {\n        vertical-align: top;\n    }\n\n    .dataframe thead th {\n        text-align: right;\n    }\n</style>\n<table border=\"1\" class=\"dataframe\">\n  <thead>\n    <tr style=\"text-align: right;\">\n      <th></th>\n      <th>0</th>\n      <th>1</th>\n      <th>2</th>\n      <th>3</th>\n      <th>4</th>\n      <th>5</th>\n      <th>6</th>\n      <th>7</th>\n      <th>8</th>\n      <th>9</th>\n      <th>10</th>\n      <th>11</th>\n      <th>12</th>\n      <th>13</th>\n    </tr>\n  </thead>\n  <tbody>\n    <tr>\n      <th>0</th>\n      <td>NaN</td>\n      <td>NaN</td>\n      <td>NaN</td>\n      <td>NaN</td>\n      <td>NaN</td>\n      <td>NaN</td>\n      <td>NaN</td>\n      <td>철원</td>\n      <td>화천</td>\n      <td>양구</td>\n      <td>고성(강원)</td>\n      <td>NaN</td>\n      <td>NaN</td>\n      <td>NaN</td>\n    </tr>\n    <tr>\n      <th>1</th>\n      <td>NaN</td>\n      <td>NaN</td>\n      <td>NaN</td>\n      <td>양주</td>\n      <td>동두천</td>\n      <td>연천</td>\n      <td>포천</td>\n      <td>의정부</td>\n      <td>인제</td>\n      <td>춘천</td>\n      <td>속초</td>\n      <td>NaN</td>\n      <td>NaN</td>\n      <td>NaN</td>\n    </tr>\n    <tr>\n      <th>2</th>\n      <td>NaN</td>\n      <td>NaN</td>\n      <td>NaN</td>\n      <td>파주</td>\n      <td>고양 일산동</td>\n      <td>서울 도봉</td>\n      <td>서울 노원</td>\n      <td>남양주</td>\n      <td>홍천</td>\n      <td>횡성</td>\n      <td>양양</td>\n      <td>NaN</td>\n      <td>NaN</td>\n      <td>NaN</td>\n    </tr>\n    <tr>\n      <th>3</th>\n      <td>NaN</td>\n      <td>NaN</td>\n      <td>NaN</td>\n      <td>고양 일산서</td>\n      <td>고양 덕양</td>\n      <td>서울 강북</td>\n      <td>서울 성북</td>\n      <td>가평</td>\n      <td>구리</td>\n      <td>하남</td>\n      <td>정선</td>\n      <td>강릉</td>\n      <td>NaN</td>\n      <td>NaN</td>\n    </tr>\n    <tr>\n      <th>4</th>\n      <td>NaN</td>\n      <td>NaN</td>\n      <td>김포</td>\n      <td>안양 만안</td>\n      <td>광명</td>\n      <td>서울 서대문</td>\n      <td>서울 종로</td>\n      <td>서울 동대문</td>\n      <td>서울 중랑</td>\n      <td>양평</td>\n      <td>태백</td>\n      <td>동해</td>\n      <td>NaN</td>\n      <td>NaN</td>\n    </tr>\n    <tr>\n      <th>5</th>\n      <td>NaN</td>\n      <td>인천 강화</td>\n      <td>부천</td>\n      <td>안양 동안</td>\n      <td>서울 은평</td>\n      <td>서울 마포</td>\n      <td>서울 중구</td>\n      <td>서울 성동</td>\n      <td>서울 강동</td>\n      <td>여주</td>\n      <td>원주</td>\n      <td>삼척</td>\n      <td>NaN</td>\n      <td>NaN</td>\n    </tr>\n    <tr>\n      <th>6</th>\n      <td>NaN</td>\n      <td>인천 서구</td>\n      <td>인천 동구</td>\n      <td>시흥</td>\n      <td>서울 강서</td>\n      <td>서울 동작</td>\n      <td>서울 용산</td>\n      <td>서울 광진</td>\n      <td>서울 송파</td>\n      <td>이천</td>\n      <td>평창</td>\n      <td>울진</td>\n      <td>NaN</td>\n      <td>NaN</td>\n    </tr>\n    <tr>\n      <th>7</th>\n      <td>NaN</td>\n      <td>NaN</td>\n      <td>인천 계양</td>\n      <td>안산 상록</td>\n      <td>서울 양천</td>\n      <td>서울 관악</td>\n      <td>서울 서초</td>\n      <td>과천</td>\n      <td>성남 중원</td>\n      <td>광주</td>\n      <td>영월</td>\n      <td>영덕</td>\n      <td>NaN</td>\n      <td>NaN</td>\n    </tr>\n    <tr>\n      <th>8</th>\n      <td>NaN</td>\n      <td>NaN</td>\n      <td>인천 부평</td>\n      <td>안산 단원</td>\n      <td>서울 영등포</td>\n      <td>서울 금천</td>\n      <td>서울 강남</td>\n      <td>성남 분당</td>\n      <td>성남 수정</td>\n      <td>용인 수지</td>\n      <td>문경</td>\n      <td>봉화</td>\n      <td>NaN</td>\n      <td>울릉</td>\n    </tr>\n    <tr>\n      <th>9</th>\n      <td>NaN</td>\n      <td>인천 중구</td>\n      <td>인천 미추홀</td>\n      <td>화성</td>\n      <td>서울 구로</td>\n      <td>군포</td>\n      <td>의왕</td>\n      <td>수원 영통</td>\n      <td>용인 기흥</td>\n      <td>용인 처인</td>\n      <td>안동</td>\n      <td>영양</td>\n      <td>NaN</td>\n      <td>NaN</td>\n    </tr>\n    <tr>\n      <th>10</th>\n      <td>인천 옹진</td>\n      <td>인천 연수</td>\n      <td>인천 남동</td>\n      <td>오산</td>\n      <td>안성</td>\n      <td>수원 권선</td>\n      <td>수원 장안</td>\n      <td>제천</td>\n      <td>예천</td>\n      <td>영주</td>\n      <td>구미</td>\n      <td>청송</td>\n      <td>포항 북구</td>\n      <td>NaN</td>\n    </tr>\n    <tr>\n      <th>11</th>\n      <td>태안</td>\n      <td>아산</td>\n      <td>천안 동남</td>\n      <td>천안 서북</td>\n      <td>평택</td>\n      <td>음성</td>\n      <td>수원 팔달</td>\n      <td>단양</td>\n      <td>상주</td>\n      <td>김천</td>\n      <td>군위</td>\n      <td>의성</td>\n      <td>포항 남구</td>\n      <td>NaN</td>\n    </tr>\n    <tr>\n      <th>12</th>\n      <td>NaN</td>\n      <td>당진</td>\n      <td>홍성</td>\n      <td>예산</td>\n      <td>공주</td>\n      <td>진천</td>\n      <td>충주</td>\n      <td>청주 흥덕</td>\n      <td>괴산</td>\n      <td>칠곡</td>\n      <td>영천</td>\n      <td>경산</td>\n      <td>경주</td>\n      <td>NaN</td>\n    </tr>\n    <tr>\n      <th>13</th>\n      <td>NaN</td>\n      <td>서산</td>\n      <td>보령</td>\n      <td>청양</td>\n      <td>세종</td>\n      <td>대전 대덕</td>\n      <td>증평</td>\n      <td>청주 청원</td>\n      <td>보은</td>\n      <td>고령</td>\n      <td>청도</td>\n      <td>성주</td>\n      <td>울산 북구</td>\n      <td>NaN</td>\n    </tr>\n    <tr>\n      <th>14</th>\n      <td>NaN</td>\n      <td>NaN</td>\n      <td>부여</td>\n      <td>논산</td>\n      <td>계룡</td>\n      <td>대전 동구</td>\n      <td>청주 상당</td>\n      <td>청주 서원</td>\n      <td>대구 북구</td>\n      <td>대구 중구</td>\n      <td>대구 수성</td>\n      <td>울산 울주</td>\n      <td>울산 동구</td>\n      <td>NaN</td>\n    </tr>\n    <tr>\n      <th>15</th>\n      <td>NaN</td>\n      <td>NaN</td>\n      <td>서천</td>\n      <td>금산</td>\n      <td>대전 유성</td>\n      <td>대전 중구</td>\n      <td>옥천</td>\n      <td>영동</td>\n      <td>대구 서구</td>\n      <td>대구 남구</td>\n      <td>대구 동구</td>\n      <td>울산 중구</td>\n      <td>울산 남구</td>\n      <td>NaN</td>\n    </tr>\n    <tr>\n      <th>16</th>\n      <td>NaN</td>\n      <td>NaN</td>\n      <td>군산</td>\n      <td>익산</td>\n      <td>대전 서구</td>\n      <td>무주</td>\n      <td>거창</td>\n      <td>합천</td>\n      <td>대구 달서</td>\n      <td>대구 달성</td>\n      <td>부산 금정</td>\n      <td>부산 동래</td>\n      <td>부산 기장</td>\n      <td>NaN</td>\n    </tr>\n    <tr>\n      <th>17</th>\n      <td>NaN</td>\n      <td>NaN</td>\n      <td>부안</td>\n      <td>김제</td>\n      <td>완주</td>\n      <td>장수</td>\n      <td>함양</td>\n      <td>창녕</td>\n      <td>밀양</td>\n      <td>부산 북구</td>\n      <td>부산 부산진</td>\n      <td>부산 연제</td>\n      <td>부산 해운대</td>\n      <td>NaN</td>\n    </tr>\n    <tr>\n      <th>18</th>\n      <td>NaN</td>\n      <td>고창</td>\n      <td>정읍</td>\n      <td>전주 덕진</td>\n      <td>진안</td>\n      <td>남원</td>\n      <td>진주</td>\n      <td>의령</td>\n      <td>부산 강서</td>\n      <td>부산 사상</td>\n      <td>부산 동구</td>\n      <td>부산 중구</td>\n      <td>NaN</td>\n      <td>NaN</td>\n    </tr>\n    <tr>\n      <th>19</th>\n      <td>NaN</td>\n      <td>영광</td>\n      <td>장성</td>\n      <td>전주 완산</td>\n      <td>임실</td>\n      <td>산청</td>\n      <td>함안</td>\n      <td>양산</td>\n      <td>창원 합포</td>\n      <td>부산 서구</td>\n      <td>부산 사하</td>\n      <td>부산 남구</td>\n      <td>NaN</td>\n      <td>NaN</td>\n    </tr>\n    <tr>\n      <th>20</th>\n      <td>NaN</td>\n      <td>함평</td>\n      <td>담양</td>\n      <td>순창</td>\n      <td>구례</td>\n      <td>하동</td>\n      <td>창원 의창</td>\n      <td>창원 성산</td>\n      <td>창원 진해</td>\n      <td>김해</td>\n      <td>부산 영도</td>\n      <td>부산 수영</td>\n      <td>NaN</td>\n      <td>NaN</td>\n    </tr>\n    <tr>\n      <th>21</th>\n      <td>신안</td>\n      <td>무안</td>\n      <td>광주 광산</td>\n      <td>곡성</td>\n      <td>화순</td>\n      <td>광양</td>\n      <td>사천</td>\n      <td>창원 회원</td>\n      <td>통영</td>\n      <td>NaN</td>\n      <td>NaN</td>\n      <td>NaN</td>\n      <td>NaN</td>\n      <td>NaN</td>\n    </tr>\n    <tr>\n      <th>22</th>\n      <td>목포</td>\n      <td>나주</td>\n      <td>광주 서구</td>\n      <td>광주 북구</td>\n      <td>순천</td>\n      <td>고흥</td>\n      <td>남해</td>\n      <td>고성(경남)</td>\n      <td>거제</td>\n      <td>NaN</td>\n      <td>NaN</td>\n      <td>NaN</td>\n      <td>NaN</td>\n      <td>NaN</td>\n    </tr>\n    <tr>\n      <th>23</th>\n      <td>해남</td>\n      <td>영암</td>\n      <td>광주 남구</td>\n      <td>광주 동구</td>\n      <td>여수</td>\n      <td>NaN</td>\n      <td>NaN</td>\n      <td>NaN</td>\n      <td>NaN</td>\n      <td>NaN</td>\n      <td>NaN</td>\n      <td>NaN</td>\n      <td>NaN</td>\n      <td>NaN</td>\n    </tr>\n    <tr>\n      <th>24</th>\n      <td>진도</td>\n      <td>강진</td>\n      <td>장흥</td>\n      <td>보성</td>\n      <td>NaN</td>\n      <td>NaN</td>\n      <td>NaN</td>\n      <td>NaN</td>\n      <td>NaN</td>\n      <td>NaN</td>\n      <td>NaN</td>\n      <td>NaN</td>\n      <td>NaN</td>\n      <td>NaN</td>\n    </tr>\n    <tr>\n      <th>25</th>\n      <td>NaN</td>\n      <td>NaN</td>\n      <td>완도</td>\n      <td>NaN</td>\n      <td>NaN</td>\n      <td>제주</td>\n      <td>NaN</td>\n      <td>NaN</td>\n      <td>NaN</td>\n      <td>NaN</td>\n      <td>NaN</td>\n      <td>NaN</td>\n      <td>NaN</td>\n      <td>NaN</td>\n    </tr>\n    <tr>\n      <th>26</th>\n      <td>NaN</td>\n      <td>NaN</td>\n      <td>NaN</td>\n      <td>NaN</td>\n      <td>NaN</td>\n      <td>서귀포</td>\n      <td>NaN</td>\n      <td>NaN</td>\n      <td>NaN</td>\n      <td>NaN</td>\n      <td>NaN</td>\n      <td>NaN</td>\n      <td>NaN</td>\n      <td>NaN</td>\n    </tr>\n  </tbody>\n</table>\n</div>"
     },
     "metadata": {},
     "execution_count": 34
    }
   ],
   "source": [
    "map_raw = pd.read_excel('./data/draw_korea_raw.xlsx', encoding='euc-kr')\n",
    "map_raw"
   ]
  },
  {
   "cell_type": "code",
   "execution_count": 35,
   "metadata": {},
   "outputs": [
    {
     "output_type": "execute_result",
     "data": {
      "text/plain": [
       "   y   x      ID\n",
       "0  0   7      철원\n",
       "1  0   8      화천\n",
       "2  0   9      양구\n",
       "3  0  10  고성(강원)\n",
       "4  1   3      양주"
      ],
      "text/html": "<div>\n<style scoped>\n    .dataframe tbody tr th:only-of-type {\n        vertical-align: middle;\n    }\n\n    .dataframe tbody tr th {\n        vertical-align: top;\n    }\n\n    .dataframe thead th {\n        text-align: right;\n    }\n</style>\n<table border=\"1\" class=\"dataframe\">\n  <thead>\n    <tr style=\"text-align: right;\">\n      <th></th>\n      <th>y</th>\n      <th>x</th>\n      <th>ID</th>\n    </tr>\n  </thead>\n  <tbody>\n    <tr>\n      <th>0</th>\n      <td>0</td>\n      <td>7</td>\n      <td>철원</td>\n    </tr>\n    <tr>\n      <th>1</th>\n      <td>0</td>\n      <td>8</td>\n      <td>화천</td>\n    </tr>\n    <tr>\n      <th>2</th>\n      <td>0</td>\n      <td>9</td>\n      <td>양구</td>\n    </tr>\n    <tr>\n      <th>3</th>\n      <td>0</td>\n      <td>10</td>\n      <td>고성(강원)</td>\n    </tr>\n    <tr>\n      <th>4</th>\n      <td>1</td>\n      <td>3</td>\n      <td>양주</td>\n    </tr>\n  </tbody>\n</table>\n</div>"
     },
     "metadata": {},
     "execution_count": 35
    }
   ],
   "source": [
    "draw_korea = pd.DataFrame(map_raw.stack())\n",
    "draw_korea.reset_index(inplace=True)\n",
    "draw_korea.rename(columns={'level_0':'y', 'level_1':'x', 0:'ID'}, inplace=True)\n",
    "draw_korea.head()"
   ]
  },
  {
   "cell_type": "code",
   "execution_count": 36,
   "metadata": {},
   "outputs": [
    {
     "output_type": "execute_result",
     "data": {
      "text/plain": [
       "   y   x      ID  버거킹 매장수  맥도날드 매장수  KFC 매장수  롯데리아 매장수  버거 지수\n",
       "0  0   8      화천        0         0        0         2   0.00\n",
       "1  0   9      양구        0         0        0         1   0.00\n",
       "2  0  10  고성(강원)        0         0        0         1   0.00\n",
       "3  1   3      양주        0         1        0         3   0.33\n",
       "4  1   4     동두천        2         1        0         1   3.00"
      ],
      "text/html": "<div>\n<style scoped>\n    .dataframe tbody tr th:only-of-type {\n        vertical-align: middle;\n    }\n\n    .dataframe tbody tr th {\n        vertical-align: top;\n    }\n\n    .dataframe thead th {\n        text-align: right;\n    }\n</style>\n<table border=\"1\" class=\"dataframe\">\n  <thead>\n    <tr style=\"text-align: right;\">\n      <th></th>\n      <th>y</th>\n      <th>x</th>\n      <th>ID</th>\n      <th>버거킹 매장수</th>\n      <th>맥도날드 매장수</th>\n      <th>KFC 매장수</th>\n      <th>롯데리아 매장수</th>\n      <th>버거 지수</th>\n    </tr>\n  </thead>\n  <tbody>\n    <tr>\n      <th>0</th>\n      <td>0</td>\n      <td>8</td>\n      <td>화천</td>\n      <td>0</td>\n      <td>0</td>\n      <td>0</td>\n      <td>2</td>\n      <td>0.00</td>\n    </tr>\n    <tr>\n      <th>1</th>\n      <td>0</td>\n      <td>9</td>\n      <td>양구</td>\n      <td>0</td>\n      <td>0</td>\n      <td>0</td>\n      <td>1</td>\n      <td>0.00</td>\n    </tr>\n    <tr>\n      <th>2</th>\n      <td>0</td>\n      <td>10</td>\n      <td>고성(강원)</td>\n      <td>0</td>\n      <td>0</td>\n      <td>0</td>\n      <td>1</td>\n      <td>0.00</td>\n    </tr>\n    <tr>\n      <th>3</th>\n      <td>1</td>\n      <td>3</td>\n      <td>양주</td>\n      <td>0</td>\n      <td>1</td>\n      <td>0</td>\n      <td>3</td>\n      <td>0.33</td>\n    </tr>\n    <tr>\n      <th>4</th>\n      <td>1</td>\n      <td>4</td>\n      <td>동두천</td>\n      <td>2</td>\n      <td>1</td>\n      <td>0</td>\n      <td>1</td>\n      <td>3.00</td>\n    </tr>\n  </tbody>\n</table>\n</div>"
     },
     "metadata": {},
     "execution_count": 36
    }
   ],
   "source": [
    "burger_new = pd.merge(draw_korea, burger, on='ID')\n",
    "burger_new.head()"
   ]
  },
  {
   "cell_type": "code",
   "execution_count": 38,
   "metadata": {},
   "outputs": [],
   "source": [
    "burger_new.to_csv('./output/버거지수.csv', encoding='utf8')"
   ]
  },
  {
   "cell_type": "code",
   "execution_count": null,
   "metadata": {},
   "outputs": [],
   "source": []
  }
 ]
}